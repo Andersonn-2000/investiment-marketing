{
 "cells": [
  {
   "cell_type": "markdown",
   "metadata": {},
   "source": [
    "#### Import libraries"
   ]
  },
  {
   "cell_type": "code",
   "execution_count": 48,
   "metadata": {},
   "outputs": [],
   "source": [
    "import pandas as pd\n",
    "import plotly.express as px\n",
    "import matplotlib.pyplot as plt\n",
    "import pickle\n",
    "\n",
    "from sklearn.compose import make_column_transformer\n",
    "from sklearn.preprocessing import OneHotEncoder, LabelEncoder, MinMaxScaler\n",
    "from sklearn.model_selection import train_test_split\n",
    "from sklearn.dummy import DummyClassifier\n",
    "from sklearn.metrics import accuracy_score\n",
    "from sklearn.tree import DecisionTreeClassifier, plot_tree\n",
    "from sklearn.neighbors import KNeighborsClassifier"
   ]
  },
  {
   "cell_type": "markdown",
   "metadata": {},
   "source": [
    "#### Loading and reading the database"
   ]
  },
  {
   "cell_type": "code",
   "execution_count": 4,
   "metadata": {},
   "outputs": [
    {
     "data": {
      "text/html": [
       "<div>\n",
       "<style scoped>\n",
       "    .dataframe tbody tr th:only-of-type {\n",
       "        vertical-align: middle;\n",
       "    }\n",
       "\n",
       "    .dataframe tbody tr th {\n",
       "        vertical-align: top;\n",
       "    }\n",
       "\n",
       "    .dataframe thead th {\n",
       "        text-align: right;\n",
       "    }\n",
       "</style>\n",
       "<table border=\"1\" class=\"dataframe\">\n",
       "  <thead>\n",
       "    <tr style=\"text-align: right;\">\n",
       "      <th></th>\n",
       "      <th>idade</th>\n",
       "      <th>estado_civil</th>\n",
       "      <th>escolaridade</th>\n",
       "      <th>inadimplencia</th>\n",
       "      <th>saldo</th>\n",
       "      <th>fez_emprestimo</th>\n",
       "      <th>tempo_ult_contato</th>\n",
       "      <th>numero_contatos</th>\n",
       "      <th>aderencia_investimento</th>\n",
       "    </tr>\n",
       "  </thead>\n",
       "  <tbody>\n",
       "    <tr>\n",
       "      <th>0</th>\n",
       "      <td>45</td>\n",
       "      <td>casado (a)</td>\n",
       "      <td>superior</td>\n",
       "      <td>nao</td>\n",
       "      <td>242</td>\n",
       "      <td>nao</td>\n",
       "      <td>587</td>\n",
       "      <td>1</td>\n",
       "      <td>sim</td>\n",
       "    </tr>\n",
       "    <tr>\n",
       "      <th>1</th>\n",
       "      <td>42</td>\n",
       "      <td>casado (a)</td>\n",
       "      <td>medio</td>\n",
       "      <td>nao</td>\n",
       "      <td>1289</td>\n",
       "      <td>nao</td>\n",
       "      <td>250</td>\n",
       "      <td>4</td>\n",
       "      <td>sim</td>\n",
       "    </tr>\n",
       "    <tr>\n",
       "      <th>2</th>\n",
       "      <td>23</td>\n",
       "      <td>solteiro (a)</td>\n",
       "      <td>superior</td>\n",
       "      <td>nao</td>\n",
       "      <td>363</td>\n",
       "      <td>nao</td>\n",
       "      <td>16</td>\n",
       "      <td>18</td>\n",
       "      <td>nao</td>\n",
       "    </tr>\n",
       "    <tr>\n",
       "      <th>3</th>\n",
       "      <td>58</td>\n",
       "      <td>divorciado (a)</td>\n",
       "      <td>superior</td>\n",
       "      <td>nao</td>\n",
       "      <td>1382</td>\n",
       "      <td>nao</td>\n",
       "      <td>700</td>\n",
       "      <td>1</td>\n",
       "      <td>sim</td>\n",
       "    </tr>\n",
       "    <tr>\n",
       "      <th>4</th>\n",
       "      <td>50</td>\n",
       "      <td>casado (a)</td>\n",
       "      <td>medio</td>\n",
       "      <td>nao</td>\n",
       "      <td>3357</td>\n",
       "      <td>nao</td>\n",
       "      <td>239</td>\n",
       "      <td>4</td>\n",
       "      <td>sim</td>\n",
       "    </tr>\n",
       "  </tbody>\n",
       "</table>\n",
       "</div>"
      ],
      "text/plain": [
       "   idade    estado_civil escolaridade inadimplencia  saldo fez_emprestimo  \\\n",
       "0     45      casado (a)     superior           nao    242            nao   \n",
       "1     42      casado (a)        medio           nao   1289            nao   \n",
       "2     23    solteiro (a)     superior           nao    363            nao   \n",
       "3     58  divorciado (a)     superior           nao   1382            nao   \n",
       "4     50      casado (a)        medio           nao   3357            nao   \n",
       "\n",
       "   tempo_ult_contato  numero_contatos aderencia_investimento  \n",
       "0                587                1                    sim  \n",
       "1                250                4                    sim  \n",
       "2                 16               18                    nao  \n",
       "3                700                1                    sim  \n",
       "4                239                4                    sim  "
      ]
     },
     "execution_count": 4,
     "metadata": {},
     "output_type": "execute_result"
    }
   ],
   "source": [
    "df = pd.read_csv('../data/marketing_investimento.csv')\n",
    "df.head()"
   ]
  },
  {
   "cell_type": "markdown",
   "metadata": {},
   "source": [
    "#### Exploratory data analysis"
   ]
  },
  {
   "cell_type": "code",
   "execution_count": 5,
   "metadata": {},
   "outputs": [
    {
     "name": "stdout",
     "output_type": "stream",
     "text": [
      "<class 'pandas.core.frame.DataFrame'>\n",
      "RangeIndex: 1268 entries, 0 to 1267\n",
      "Data columns (total 9 columns):\n",
      " #   Column                  Non-Null Count  Dtype \n",
      "---  ------                  --------------  ----- \n",
      " 0   idade                   1268 non-null   int64 \n",
      " 1   estado_civil            1268 non-null   object\n",
      " 2   escolaridade            1268 non-null   object\n",
      " 3   inadimplencia           1268 non-null   object\n",
      " 4   saldo                   1268 non-null   int64 \n",
      " 5   fez_emprestimo          1268 non-null   object\n",
      " 6   tempo_ult_contato       1268 non-null   int64 \n",
      " 7   numero_contatos         1268 non-null   int64 \n",
      " 8   aderencia_investimento  1268 non-null   object\n",
      "dtypes: int64(4), object(5)\n",
      "memory usage: 89.3+ KB\n"
     ]
    }
   ],
   "source": [
    "\"\"\"\"Since there is no null data, there no will be\n",
    "no need to perform data processing\"\"\"\n",
    "df.info()"
   ]
  },
  {
   "cell_type": "markdown",
   "metadata": {},
   "source": [
    "##### Categorical variables"
   ]
  },
  {
   "cell_type": "code",
   "execution_count": 6,
   "metadata": {},
   "outputs": [
    {
     "data": {
      "application/vnd.plotly.v1+json": {
       "config": {
        "plotlyServerURL": "https://plot.ly"
       },
       "data": [
        {
         "bingroup": "x",
         "hovertemplate": "aderencia_investimento=%{x}<br>count=%{y}<extra></extra>",
         "legendgroup": "",
         "marker": {
          "color": "#636efa",
          "pattern": {
           "shape": ""
          }
         },
         "name": "",
         "orientation": "v",
         "showlegend": false,
         "texttemplate": "%{value}",
         "type": "histogram",
         "x": [
          "sim",
          "sim",
          "nao",
          "sim",
          "sim",
          "sim",
          "nao",
          "nao",
          "nao",
          "nao",
          "sim",
          "nao",
          "sim",
          "nao",
          "nao",
          "sim",
          "nao",
          "nao",
          "nao",
          "sim",
          "nao",
          "nao",
          "nao",
          "sim",
          "nao",
          "sim",
          "nao",
          "sim",
          "sim",
          "sim",
          "sim",
          "nao",
          "nao",
          "nao",
          "nao",
          "nao",
          "nao",
          "nao",
          "nao",
          "sim",
          "nao",
          "nao",
          "nao",
          "nao",
          "nao",
          "nao",
          "sim",
          "nao",
          "sim",
          "nao",
          "sim",
          "nao",
          "nao",
          "sim",
          "sim",
          "sim",
          "nao",
          "sim",
          "nao",
          "nao",
          "nao",
          "nao",
          "nao",
          "nao",
          "nao",
          "nao",
          "nao",
          "nao",
          "nao",
          "sim",
          "nao",
          "nao",
          "nao",
          "nao",
          "sim",
          "nao",
          "sim",
          "sim",
          "nao",
          "nao",
          "sim",
          "sim",
          "nao",
          "nao",
          "nao",
          "nao",
          "sim",
          "sim",
          "sim",
          "sim",
          "sim",
          "nao",
          "sim",
          "sim",
          "sim",
          "nao",
          "nao",
          "nao",
          "nao",
          "nao",
          "nao",
          "sim",
          "sim",
          "nao",
          "sim",
          "sim",
          "nao",
          "nao",
          "sim",
          "nao",
          "nao",
          "nao",
          "nao",
          "sim",
          "nao",
          "sim",
          "nao",
          "nao",
          "nao",
          "sim",
          "sim",
          "nao",
          "nao",
          "sim",
          "sim",
          "nao",
          "nao",
          "sim",
          "nao",
          "sim",
          "nao",
          "sim",
          "sim",
          "nao",
          "nao",
          "nao",
          "sim",
          "sim",
          "nao",
          "sim",
          "sim",
          "sim",
          "sim",
          "sim",
          "nao",
          "sim",
          "sim",
          "sim",
          "sim",
          "sim",
          "nao",
          "nao",
          "nao",
          "nao",
          "nao",
          "sim",
          "nao",
          "nao",
          "nao",
          "nao",
          "nao",
          "nao",
          "nao",
          "sim",
          "nao",
          "nao",
          "nao",
          "sim",
          "sim",
          "sim",
          "nao",
          "nao",
          "nao",
          "nao",
          "nao",
          "sim",
          "sim",
          "nao",
          "nao",
          "sim",
          "nao",
          "sim",
          "nao",
          "sim",
          "sim",
          "nao",
          "nao",
          "sim",
          "sim",
          "nao",
          "nao",
          "sim",
          "sim",
          "nao",
          "nao",
          "nao",
          "nao",
          "sim",
          "nao",
          "nao",
          "sim",
          "sim",
          "nao",
          "nao",
          "nao",
          "sim",
          "sim",
          "nao",
          "sim",
          "nao",
          "sim",
          "nao",
          "sim",
          "nao",
          "nao",
          "nao",
          "sim",
          "nao",
          "nao",
          "sim",
          "nao",
          "sim",
          "sim",
          "nao",
          "nao",
          "nao",
          "sim",
          "sim",
          "sim",
          "nao",
          "nao",
          "nao",
          "nao",
          "sim",
          "nao",
          "sim",
          "sim",
          "nao",
          "nao",
          "sim",
          "sim",
          "nao",
          "nao",
          "nao",
          "nao",
          "nao",
          "nao",
          "nao",
          "nao",
          "nao",
          "nao",
          "nao",
          "nao",
          "nao",
          "nao",
          "nao",
          "nao",
          "sim",
          "nao",
          "nao",
          "sim",
          "sim",
          "nao",
          "sim",
          "nao",
          "nao",
          "sim",
          "sim",
          "sim",
          "sim",
          "sim",
          "nao",
          "sim",
          "nao",
          "nao",
          "sim",
          "sim",
          "sim",
          "sim",
          "nao",
          "nao",
          "sim",
          "nao",
          "nao",
          "nao",
          "nao",
          "nao",
          "sim",
          "nao",
          "nao",
          "nao",
          "nao",
          "sim",
          "nao",
          "nao",
          "nao",
          "nao",
          "nao",
          "nao",
          "sim",
          "sim",
          "nao",
          "nao",
          "nao",
          "nao",
          "sim",
          "nao",
          "sim",
          "nao",
          "nao",
          "nao",
          "nao",
          "sim",
          "nao",
          "nao",
          "nao",
          "sim",
          "nao",
          "sim",
          "sim",
          "sim",
          "nao",
          "nao",
          "sim",
          "nao",
          "nao",
          "nao",
          "nao",
          "nao",
          "nao",
          "nao",
          "nao",
          "sim",
          "sim",
          "nao",
          "nao",
          "nao",
          "nao",
          "sim",
          "nao",
          "nao",
          "nao",
          "nao",
          "nao",
          "sim",
          "nao",
          "nao",
          "sim",
          "sim",
          "sim",
          "nao",
          "nao",
          "nao",
          "sim",
          "nao",
          "nao",
          "sim",
          "nao",
          "nao",
          "sim",
          "sim",
          "nao",
          "nao",
          "nao",
          "nao",
          "sim",
          "nao",
          "sim",
          "sim",
          "sim",
          "nao",
          "nao",
          "sim",
          "nao",
          "sim",
          "nao",
          "nao",
          "nao",
          "nao",
          "nao",
          "nao",
          "sim",
          "sim",
          "sim",
          "sim",
          "sim",
          "nao",
          "sim",
          "nao",
          "nao",
          "nao",
          "nao",
          "nao",
          "sim",
          "nao",
          "nao",
          "sim",
          "nao",
          "nao",
          "nao",
          "sim",
          "sim",
          "sim",
          "sim",
          "sim",
          "nao",
          "nao",
          "nao",
          "sim",
          "nao",
          "sim",
          "sim",
          "nao",
          "nao",
          "nao",
          "nao",
          "sim",
          "sim",
          "nao",
          "nao",
          "nao",
          "nao",
          "sim",
          "nao",
          "nao",
          "sim",
          "sim",
          "nao",
          "nao",
          "nao",
          "sim",
          "sim",
          "sim",
          "sim",
          "sim",
          "nao",
          "sim",
          "nao",
          "nao",
          "sim",
          "nao",
          "nao",
          "nao",
          "nao",
          "nao",
          "nao",
          "nao",
          "nao",
          "nao",
          "sim",
          "nao",
          "sim",
          "nao",
          "nao",
          "sim",
          "nao",
          "nao",
          "nao",
          "nao",
          "nao",
          "sim",
          "nao",
          "nao",
          "nao",
          "sim",
          "sim",
          "sim",
          "nao",
          "sim",
          "nao",
          "nao",
          "nao",
          "sim",
          "nao",
          "sim",
          "sim",
          "nao",
          "sim",
          "sim",
          "sim",
          "nao",
          "sim",
          "nao",
          "nao",
          "sim",
          "nao",
          "sim",
          "sim",
          "nao",
          "nao",
          "nao",
          "sim",
          "nao",
          "nao",
          "sim",
          "sim",
          "sim",
          "nao",
          "nao",
          "nao",
          "sim",
          "nao",
          "nao",
          "nao",
          "nao",
          "nao",
          "nao",
          "nao",
          "sim",
          "sim",
          "nao",
          "nao",
          "nao",
          "sim",
          "nao",
          "sim",
          "nao",
          "sim",
          "nao",
          "nao",
          "nao",
          "nao",
          "sim",
          "sim",
          "sim",
          "nao",
          "nao",
          "nao",
          "sim",
          "nao",
          "nao",
          "nao",
          "nao",
          "nao",
          "sim",
          "sim",
          "sim",
          "nao",
          "sim",
          "nao",
          "sim",
          "nao",
          "nao",
          "sim",
          "sim",
          "nao",
          "sim",
          "sim",
          "nao",
          "sim",
          "nao",
          "nao",
          "nao",
          "nao",
          "sim",
          "nao",
          "nao",
          "sim",
          "sim",
          "sim",
          "nao",
          "nao",
          "nao",
          "nao",
          "nao",
          "nao",
          "sim",
          "nao",
          "nao",
          "sim",
          "nao",
          "sim",
          "nao",
          "nao",
          "nao",
          "nao",
          "nao",
          "nao",
          "nao",
          "nao",
          "nao",
          "nao",
          "nao",
          "sim",
          "nao",
          "nao",
          "sim",
          "nao",
          "sim",
          "nao",
          "nao",
          "sim",
          "nao",
          "sim",
          "sim",
          "nao",
          "nao",
          "sim",
          "nao",
          "nao",
          "sim",
          "nao",
          "nao",
          "sim",
          "sim",
          "nao",
          "sim",
          "nao",
          "sim",
          "sim",
          "nao",
          "nao",
          "sim",
          "sim",
          "nao",
          "sim",
          "sim",
          "sim",
          "sim",
          "sim",
          "nao",
          "sim",
          "nao",
          "sim",
          "sim",
          "nao",
          "nao",
          "nao",
          "nao",
          "sim",
          "nao",
          "nao",
          "nao",
          "nao",
          "sim",
          "nao",
          "nao",
          "sim",
          "nao",
          "nao",
          "nao",
          "sim",
          "nao",
          "sim",
          "nao",
          "nao",
          "nao",
          "nao",
          "sim",
          "nao",
          "sim",
          "sim",
          "sim",
          "sim",
          "nao",
          "nao",
          "nao",
          "nao",
          "nao",
          "nao",
          "sim",
          "nao",
          "sim",
          "nao",
          "nao",
          "nao",
          "nao",
          "nao",
          "nao",
          "nao",
          "sim",
          "sim",
          "nao",
          "nao",
          "nao",
          "nao",
          "sim",
          "nao",
          "nao",
          "nao",
          "nao",
          "nao",
          "nao",
          "nao",
          "sim",
          "nao",
          "sim",
          "nao",
          "nao",
          "nao",
          "sim",
          "sim",
          "nao",
          "nao",
          "sim",
          "nao",
          "nao",
          "nao",
          "nao",
          "nao",
          "nao",
          "sim",
          "sim",
          "sim",
          "nao",
          "nao",
          "nao",
          "nao",
          "sim",
          "nao",
          "sim",
          "sim",
          "sim",
          "nao",
          "nao",
          "nao",
          "nao",
          "sim",
          "sim",
          "sim",
          "nao",
          "sim",
          "sim",
          "nao",
          "nao",
          "nao",
          "nao",
          "sim",
          "nao",
          "nao",
          "nao",
          "sim",
          "nao",
          "nao",
          "sim",
          "sim",
          "sim",
          "nao",
          "nao",
          "nao",
          "nao",
          "sim",
          "nao",
          "sim",
          "nao",
          "nao",
          "sim",
          "nao",
          "sim",
          "sim",
          "sim",
          "sim",
          "nao",
          "sim",
          "nao",
          "nao",
          "sim",
          "nao",
          "nao",
          "nao",
          "nao",
          "sim",
          "nao",
          "nao",
          "nao",
          "nao",
          "nao",
          "sim",
          "sim",
          "nao",
          "sim",
          "nao",
          "nao",
          "nao",
          "nao",
          "nao",
          "sim",
          "nao",
          "sim",
          "sim",
          "nao",
          "nao",
          "sim",
          "sim",
          "sim",
          "nao",
          "nao",
          "sim",
          "nao",
          "nao",
          "nao",
          "nao",
          "nao",
          "nao",
          "sim",
          "nao",
          "nao",
          "nao",
          "sim",
          "nao",
          "nao",
          "sim",
          "sim",
          "nao",
          "sim",
          "nao",
          "sim",
          "nao",
          "sim",
          "nao",
          "sim",
          "nao",
          "sim",
          "nao",
          "sim",
          "sim",
          "sim",
          "nao",
          "nao",
          "sim",
          "nao",
          "nao",
          "nao",
          "nao",
          "nao",
          "nao",
          "nao",
          "sim",
          "sim",
          "nao",
          "sim",
          "nao",
          "nao",
          "sim",
          "nao",
          "nao",
          "sim",
          "sim",
          "nao",
          "sim",
          "nao",
          "sim",
          "nao",
          "nao",
          "nao",
          "nao",
          "sim",
          "nao",
          "nao",
          "sim",
          "sim",
          "nao",
          "nao",
          "nao",
          "nao",
          "nao",
          "nao",
          "nao",
          "sim",
          "nao",
          "nao",
          "nao",
          "sim",
          "sim",
          "nao",
          "nao",
          "nao",
          "sim",
          "sim",
          "sim",
          "nao",
          "sim",
          "sim",
          "nao",
          "nao",
          "nao",
          "sim",
          "nao",
          "nao",
          "sim",
          "sim",
          "nao",
          "nao",
          "sim",
          "nao",
          "nao",
          "nao",
          "nao",
          "nao",
          "nao",
          "sim",
          "sim",
          "sim",
          "nao",
          "nao",
          "sim",
          "sim",
          "sim",
          "nao",
          "nao",
          "nao",
          "nao",
          "nao",
          "nao",
          "nao",
          "sim",
          "nao",
          "sim",
          "sim",
          "sim",
          "sim",
          "nao",
          "nao",
          "nao",
          "sim",
          "nao",
          "nao",
          "nao",
          "sim",
          "nao",
          "nao",
          "nao",
          "nao",
          "sim",
          "nao",
          "sim",
          "sim",
          "nao",
          "sim",
          "nao",
          "nao",
          "sim",
          "nao",
          "nao",
          "sim",
          "sim",
          "nao",
          "nao",
          "nao",
          "nao",
          "sim",
          "sim",
          "nao",
          "sim",
          "sim",
          "nao",
          "sim",
          "sim",
          "sim",
          "nao",
          "nao",
          "sim",
          "sim",
          "nao",
          "nao",
          "nao",
          "sim",
          "sim",
          "sim",
          "sim",
          "sim",
          "sim",
          "nao",
          "nao",
          "nao",
          "sim",
          "nao",
          "sim",
          "sim",
          "nao",
          "nao",
          "sim",
          "nao",
          "sim",
          "sim",
          "nao",
          "sim",
          "nao",
          "sim",
          "nao",
          "nao",
          "nao",
          "nao",
          "sim",
          "sim",
          "sim",
          "sim",
          "sim",
          "nao",
          "nao",
          "sim",
          "sim",
          "nao",
          "nao",
          "nao",
          "nao",
          "nao",
          "sim",
          "nao",
          "nao",
          "sim",
          "sim",
          "nao",
          "nao",
          "nao",
          "nao",
          "nao",
          "sim",
          "nao",
          "nao",
          "nao",
          "nao",
          "nao",
          "nao",
          "nao",
          "nao",
          "sim",
          "sim",
          "sim",
          "nao",
          "sim",
          "sim",
          "nao",
          "sim",
          "sim",
          "nao",
          "nao",
          "nao",
          "sim",
          "nao",
          "nao",
          "nao",
          "nao",
          "sim",
          "sim",
          "nao",
          "nao",
          "sim",
          "sim",
          "sim",
          "sim",
          "nao",
          "sim",
          "sim",
          "sim",
          "sim",
          "sim",
          "nao",
          "sim",
          "nao",
          "sim",
          "nao",
          "nao",
          "sim",
          "nao",
          "nao",
          "nao",
          "nao",
          "sim",
          "nao",
          "sim",
          "sim",
          "nao",
          "nao",
          "sim",
          "sim",
          "sim",
          "sim",
          "nao",
          "nao",
          "sim",
          "nao",
          "nao",
          "nao",
          "nao",
          "sim",
          "sim",
          "nao",
          "sim",
          "nao",
          "sim",
          "nao",
          "nao",
          "sim",
          "sim",
          "nao",
          "nao",
          "nao",
          "nao",
          "nao",
          "nao",
          "sim",
          "nao",
          "sim",
          "nao",
          "nao",
          "sim",
          "nao",
          "nao",
          "nao",
          "sim",
          "nao",
          "sim",
          "sim",
          "nao",
          "sim",
          "nao",
          "nao",
          "nao",
          "nao",
          "nao",
          "sim",
          "sim",
          "sim",
          "nao",
          "nao",
          "sim",
          "nao",
          "nao",
          "nao",
          "sim",
          "nao",
          "nao",
          "sim",
          "sim",
          "sim",
          "nao",
          "sim",
          "nao",
          "nao",
          "nao",
          "sim",
          "nao",
          "sim",
          "nao",
          "nao",
          "sim",
          "nao",
          "nao",
          "sim",
          "nao",
          "nao",
          "sim",
          "sim",
          "sim",
          "nao",
          "nao",
          "sim",
          "sim",
          "nao",
          "sim",
          "sim",
          "sim",
          "nao",
          "nao",
          "sim",
          "nao",
          "nao",
          "nao",
          "sim",
          "nao",
          "nao",
          "sim",
          "sim",
          "sim",
          "sim",
          "nao",
          "nao",
          "sim",
          "nao",
          "sim",
          "nao",
          "nao",
          "nao",
          "nao",
          "nao",
          "nao",
          "sim",
          "sim",
          "nao",
          "sim",
          "nao",
          "nao",
          "nao",
          "sim",
          "sim",
          "nao",
          "nao",
          "nao",
          "nao",
          "nao",
          "sim",
          "sim",
          "sim",
          "nao",
          "nao",
          "nao",
          "sim",
          "nao",
          "sim",
          "nao",
          "sim",
          "nao",
          "nao",
          "nao",
          "nao",
          "nao",
          "sim",
          "nao",
          "sim",
          "sim",
          "sim",
          "nao",
          "nao",
          "sim",
          "nao",
          "sim",
          "nao",
          "sim",
          "nao",
          "sim",
          "nao",
          "nao",
          "nao",
          "nao",
          "nao",
          "nao",
          "sim",
          "nao",
          "nao",
          "sim",
          "sim",
          "nao",
          "sim",
          "nao",
          "sim",
          "nao",
          "sim",
          "nao",
          "nao",
          "sim",
          "nao",
          "sim",
          "nao",
          "nao",
          "nao",
          "nao",
          "sim",
          "nao",
          "sim",
          "sim",
          "nao",
          "sim",
          "nao",
          "sim",
          "nao",
          "sim",
          "sim",
          "nao",
          "nao",
          "sim",
          "nao",
          "nao",
          "sim",
          "sim",
          "sim",
          "sim",
          "sim"
         ],
         "xaxis": "x",
         "yaxis": "y"
        }
       ],
       "layout": {
        "barmode": "relative",
        "legend": {
         "tracegroupgap": 0
        },
        "margin": {
         "t": 60
        },
        "template": {
         "data": {
          "bar": [
           {
            "error_x": {
             "color": "#2a3f5f"
            },
            "error_y": {
             "color": "#2a3f5f"
            },
            "marker": {
             "line": {
              "color": "#E5ECF6",
              "width": 0.5
             },
             "pattern": {
              "fillmode": "overlay",
              "size": 10,
              "solidity": 0.2
             }
            },
            "type": "bar"
           }
          ],
          "barpolar": [
           {
            "marker": {
             "line": {
              "color": "#E5ECF6",
              "width": 0.5
             },
             "pattern": {
              "fillmode": "overlay",
              "size": 10,
              "solidity": 0.2
             }
            },
            "type": "barpolar"
           }
          ],
          "carpet": [
           {
            "aaxis": {
             "endlinecolor": "#2a3f5f",
             "gridcolor": "white",
             "linecolor": "white",
             "minorgridcolor": "white",
             "startlinecolor": "#2a3f5f"
            },
            "baxis": {
             "endlinecolor": "#2a3f5f",
             "gridcolor": "white",
             "linecolor": "white",
             "minorgridcolor": "white",
             "startlinecolor": "#2a3f5f"
            },
            "type": "carpet"
           }
          ],
          "choropleth": [
           {
            "colorbar": {
             "outlinewidth": 0,
             "ticks": ""
            },
            "type": "choropleth"
           }
          ],
          "contour": [
           {
            "colorbar": {
             "outlinewidth": 0,
             "ticks": ""
            },
            "colorscale": [
             [
              0,
              "#0d0887"
             ],
             [
              0.1111111111111111,
              "#46039f"
             ],
             [
              0.2222222222222222,
              "#7201a8"
             ],
             [
              0.3333333333333333,
              "#9c179e"
             ],
             [
              0.4444444444444444,
              "#bd3786"
             ],
             [
              0.5555555555555556,
              "#d8576b"
             ],
             [
              0.6666666666666666,
              "#ed7953"
             ],
             [
              0.7777777777777778,
              "#fb9f3a"
             ],
             [
              0.8888888888888888,
              "#fdca26"
             ],
             [
              1,
              "#f0f921"
             ]
            ],
            "type": "contour"
           }
          ],
          "contourcarpet": [
           {
            "colorbar": {
             "outlinewidth": 0,
             "ticks": ""
            },
            "type": "contourcarpet"
           }
          ],
          "heatmap": [
           {
            "colorbar": {
             "outlinewidth": 0,
             "ticks": ""
            },
            "colorscale": [
             [
              0,
              "#0d0887"
             ],
             [
              0.1111111111111111,
              "#46039f"
             ],
             [
              0.2222222222222222,
              "#7201a8"
             ],
             [
              0.3333333333333333,
              "#9c179e"
             ],
             [
              0.4444444444444444,
              "#bd3786"
             ],
             [
              0.5555555555555556,
              "#d8576b"
             ],
             [
              0.6666666666666666,
              "#ed7953"
             ],
             [
              0.7777777777777778,
              "#fb9f3a"
             ],
             [
              0.8888888888888888,
              "#fdca26"
             ],
             [
              1,
              "#f0f921"
             ]
            ],
            "type": "heatmap"
           }
          ],
          "histogram": [
           {
            "marker": {
             "pattern": {
              "fillmode": "overlay",
              "size": 10,
              "solidity": 0.2
             }
            },
            "type": "histogram"
           }
          ],
          "histogram2d": [
           {
            "colorbar": {
             "outlinewidth": 0,
             "ticks": ""
            },
            "colorscale": [
             [
              0,
              "#0d0887"
             ],
             [
              0.1111111111111111,
              "#46039f"
             ],
             [
              0.2222222222222222,
              "#7201a8"
             ],
             [
              0.3333333333333333,
              "#9c179e"
             ],
             [
              0.4444444444444444,
              "#bd3786"
             ],
             [
              0.5555555555555556,
              "#d8576b"
             ],
             [
              0.6666666666666666,
              "#ed7953"
             ],
             [
              0.7777777777777778,
              "#fb9f3a"
             ],
             [
              0.8888888888888888,
              "#fdca26"
             ],
             [
              1,
              "#f0f921"
             ]
            ],
            "type": "histogram2d"
           }
          ],
          "histogram2dcontour": [
           {
            "colorbar": {
             "outlinewidth": 0,
             "ticks": ""
            },
            "colorscale": [
             [
              0,
              "#0d0887"
             ],
             [
              0.1111111111111111,
              "#46039f"
             ],
             [
              0.2222222222222222,
              "#7201a8"
             ],
             [
              0.3333333333333333,
              "#9c179e"
             ],
             [
              0.4444444444444444,
              "#bd3786"
             ],
             [
              0.5555555555555556,
              "#d8576b"
             ],
             [
              0.6666666666666666,
              "#ed7953"
             ],
             [
              0.7777777777777778,
              "#fb9f3a"
             ],
             [
              0.8888888888888888,
              "#fdca26"
             ],
             [
              1,
              "#f0f921"
             ]
            ],
            "type": "histogram2dcontour"
           }
          ],
          "mesh3d": [
           {
            "colorbar": {
             "outlinewidth": 0,
             "ticks": ""
            },
            "type": "mesh3d"
           }
          ],
          "parcoords": [
           {
            "line": {
             "colorbar": {
              "outlinewidth": 0,
              "ticks": ""
             }
            },
            "type": "parcoords"
           }
          ],
          "pie": [
           {
            "automargin": true,
            "type": "pie"
           }
          ],
          "scatter": [
           {
            "fillpattern": {
             "fillmode": "overlay",
             "size": 10,
             "solidity": 0.2
            },
            "type": "scatter"
           }
          ],
          "scatter3d": [
           {
            "line": {
             "colorbar": {
              "outlinewidth": 0,
              "ticks": ""
             }
            },
            "marker": {
             "colorbar": {
              "outlinewidth": 0,
              "ticks": ""
             }
            },
            "type": "scatter3d"
           }
          ],
          "scattercarpet": [
           {
            "marker": {
             "colorbar": {
              "outlinewidth": 0,
              "ticks": ""
             }
            },
            "type": "scattercarpet"
           }
          ],
          "scattergeo": [
           {
            "marker": {
             "colorbar": {
              "outlinewidth": 0,
              "ticks": ""
             }
            },
            "type": "scattergeo"
           }
          ],
          "scattergl": [
           {
            "marker": {
             "colorbar": {
              "outlinewidth": 0,
              "ticks": ""
             }
            },
            "type": "scattergl"
           }
          ],
          "scattermap": [
           {
            "marker": {
             "colorbar": {
              "outlinewidth": 0,
              "ticks": ""
             }
            },
            "type": "scattermap"
           }
          ],
          "scattermapbox": [
           {
            "marker": {
             "colorbar": {
              "outlinewidth": 0,
              "ticks": ""
             }
            },
            "type": "scattermapbox"
           }
          ],
          "scatterpolar": [
           {
            "marker": {
             "colorbar": {
              "outlinewidth": 0,
              "ticks": ""
             }
            },
            "type": "scatterpolar"
           }
          ],
          "scatterpolargl": [
           {
            "marker": {
             "colorbar": {
              "outlinewidth": 0,
              "ticks": ""
             }
            },
            "type": "scatterpolargl"
           }
          ],
          "scatterternary": [
           {
            "marker": {
             "colorbar": {
              "outlinewidth": 0,
              "ticks": ""
             }
            },
            "type": "scatterternary"
           }
          ],
          "surface": [
           {
            "colorbar": {
             "outlinewidth": 0,
             "ticks": ""
            },
            "colorscale": [
             [
              0,
              "#0d0887"
             ],
             [
              0.1111111111111111,
              "#46039f"
             ],
             [
              0.2222222222222222,
              "#7201a8"
             ],
             [
              0.3333333333333333,
              "#9c179e"
             ],
             [
              0.4444444444444444,
              "#bd3786"
             ],
             [
              0.5555555555555556,
              "#d8576b"
             ],
             [
              0.6666666666666666,
              "#ed7953"
             ],
             [
              0.7777777777777778,
              "#fb9f3a"
             ],
             [
              0.8888888888888888,
              "#fdca26"
             ],
             [
              1,
              "#f0f921"
             ]
            ],
            "type": "surface"
           }
          ],
          "table": [
           {
            "cells": {
             "fill": {
              "color": "#EBF0F8"
             },
             "line": {
              "color": "white"
             }
            },
            "header": {
             "fill": {
              "color": "#C8D4E3"
             },
             "line": {
              "color": "white"
             }
            },
            "type": "table"
           }
          ]
         },
         "layout": {
          "annotationdefaults": {
           "arrowcolor": "#2a3f5f",
           "arrowhead": 0,
           "arrowwidth": 1
          },
          "autotypenumbers": "strict",
          "coloraxis": {
           "colorbar": {
            "outlinewidth": 0,
            "ticks": ""
           }
          },
          "colorscale": {
           "diverging": [
            [
             0,
             "#8e0152"
            ],
            [
             0.1,
             "#c51b7d"
            ],
            [
             0.2,
             "#de77ae"
            ],
            [
             0.3,
             "#f1b6da"
            ],
            [
             0.4,
             "#fde0ef"
            ],
            [
             0.5,
             "#f7f7f7"
            ],
            [
             0.6,
             "#e6f5d0"
            ],
            [
             0.7,
             "#b8e186"
            ],
            [
             0.8,
             "#7fbc41"
            ],
            [
             0.9,
             "#4d9221"
            ],
            [
             1,
             "#276419"
            ]
           ],
           "sequential": [
            [
             0,
             "#0d0887"
            ],
            [
             0.1111111111111111,
             "#46039f"
            ],
            [
             0.2222222222222222,
             "#7201a8"
            ],
            [
             0.3333333333333333,
             "#9c179e"
            ],
            [
             0.4444444444444444,
             "#bd3786"
            ],
            [
             0.5555555555555556,
             "#d8576b"
            ],
            [
             0.6666666666666666,
             "#ed7953"
            ],
            [
             0.7777777777777778,
             "#fb9f3a"
            ],
            [
             0.8888888888888888,
             "#fdca26"
            ],
            [
             1,
             "#f0f921"
            ]
           ],
           "sequentialminus": [
            [
             0,
             "#0d0887"
            ],
            [
             0.1111111111111111,
             "#46039f"
            ],
            [
             0.2222222222222222,
             "#7201a8"
            ],
            [
             0.3333333333333333,
             "#9c179e"
            ],
            [
             0.4444444444444444,
             "#bd3786"
            ],
            [
             0.5555555555555556,
             "#d8576b"
            ],
            [
             0.6666666666666666,
             "#ed7953"
            ],
            [
             0.7777777777777778,
             "#fb9f3a"
            ],
            [
             0.8888888888888888,
             "#fdca26"
            ],
            [
             1,
             "#f0f921"
            ]
           ]
          },
          "colorway": [
           "#636efa",
           "#EF553B",
           "#00cc96",
           "#ab63fa",
           "#FFA15A",
           "#19d3f3",
           "#FF6692",
           "#B6E880",
           "#FF97FF",
           "#FECB52"
          ],
          "font": {
           "color": "#2a3f5f"
          },
          "geo": {
           "bgcolor": "white",
           "lakecolor": "white",
           "landcolor": "#E5ECF6",
           "showlakes": true,
           "showland": true,
           "subunitcolor": "white"
          },
          "hoverlabel": {
           "align": "left"
          },
          "hovermode": "closest",
          "mapbox": {
           "style": "light"
          },
          "paper_bgcolor": "white",
          "plot_bgcolor": "#E5ECF6",
          "polar": {
           "angularaxis": {
            "gridcolor": "white",
            "linecolor": "white",
            "ticks": ""
           },
           "bgcolor": "#E5ECF6",
           "radialaxis": {
            "gridcolor": "white",
            "linecolor": "white",
            "ticks": ""
           }
          },
          "scene": {
           "xaxis": {
            "backgroundcolor": "#E5ECF6",
            "gridcolor": "white",
            "gridwidth": 2,
            "linecolor": "white",
            "showbackground": true,
            "ticks": "",
            "zerolinecolor": "white"
           },
           "yaxis": {
            "backgroundcolor": "#E5ECF6",
            "gridcolor": "white",
            "gridwidth": 2,
            "linecolor": "white",
            "showbackground": true,
            "ticks": "",
            "zerolinecolor": "white"
           },
           "zaxis": {
            "backgroundcolor": "#E5ECF6",
            "gridcolor": "white",
            "gridwidth": 2,
            "linecolor": "white",
            "showbackground": true,
            "ticks": "",
            "zerolinecolor": "white"
           }
          },
          "shapedefaults": {
           "line": {
            "color": "#2a3f5f"
           }
          },
          "ternary": {
           "aaxis": {
            "gridcolor": "white",
            "linecolor": "white",
            "ticks": ""
           },
           "baxis": {
            "gridcolor": "white",
            "linecolor": "white",
            "ticks": ""
           },
           "bgcolor": "#E5ECF6",
           "caxis": {
            "gridcolor": "white",
            "linecolor": "white",
            "ticks": ""
           }
          },
          "title": {
           "x": 0.05
          },
          "xaxis": {
           "automargin": true,
           "gridcolor": "white",
           "linecolor": "white",
           "ticks": "",
           "title": {
            "standoff": 15
           },
           "zerolinecolor": "white",
           "zerolinewidth": 2
          },
          "yaxis": {
           "automargin": true,
           "gridcolor": "white",
           "linecolor": "white",
           "ticks": "",
           "title": {
            "standoff": 15
           },
           "zerolinecolor": "white",
           "zerolinewidth": 2
          }
         }
        },
        "xaxis": {
         "anchor": "y",
         "domain": [
          0,
          1
         ],
         "title": {
          "text": "aderencia_investimento"
         }
        },
        "yaxis": {
         "anchor": "x",
         "domain": [
          0,
          1
         ],
         "title": {
          "text": "count"
         }
        }
       }
      }
     },
     "metadata": {},
     "output_type": "display_data"
    }
   ],
   "source": [
    "px.histogram(df, x='aderencia_investimento', text_auto=True)"
   ]
  },
  {
   "cell_type": "code",
   "execution_count": 7,
   "metadata": {},
   "outputs": [
    {
     "data": {
      "application/vnd.plotly.v1+json": {
       "config": {
        "plotlyServerURL": "https://plot.ly"
       },
       "data": [
        {
         "alignmentgroup": "True",
         "bingroup": "x",
         "hovertemplate": "aderencia_investimento=sim<br>estado_civil=%{x}<br>count=%{y}<extra></extra>",
         "legendgroup": "sim",
         "marker": {
          "color": "#636efa",
          "pattern": {
           "shape": ""
          }
         },
         "name": "sim",
         "offsetgroup": "sim",
         "orientation": "v",
         "showlegend": true,
         "texttemplate": "%{value}",
         "type": "histogram",
         "x": [
          "casado (a)",
          "casado (a)",
          "divorciado (a)",
          "casado (a)",
          "solteiro (a)",
          "solteiro (a)",
          "casado (a)",
          "divorciado (a)",
          "casado (a)",
          "divorciado (a)",
          "casado (a)",
          "solteiro (a)",
          "solteiro (a)",
          "casado (a)",
          "solteiro (a)",
          "casado (a)",
          "casado (a)",
          "casado (a)",
          "casado (a)",
          "casado (a)",
          "casado (a)",
          "casado (a)",
          "casado (a)",
          "solteiro (a)",
          "solteiro (a)",
          "divorciado (a)",
          "divorciado (a)",
          "solteiro (a)",
          "divorciado (a)",
          "solteiro (a)",
          "solteiro (a)",
          "solteiro (a)",
          "solteiro (a)",
          "solteiro (a)",
          "casado (a)",
          "casado (a)",
          "casado (a)",
          "casado (a)",
          "casado (a)",
          "solteiro (a)",
          "solteiro (a)",
          "casado (a)",
          "solteiro (a)",
          "casado (a)",
          "casado (a)",
          "casado (a)",
          "divorciado (a)",
          "casado (a)",
          "solteiro (a)",
          "solteiro (a)",
          "casado (a)",
          "casado (a)",
          "casado (a)",
          "casado (a)",
          "solteiro (a)",
          "casado (a)",
          "divorciado (a)",
          "casado (a)",
          "divorciado (a)",
          "casado (a)",
          "solteiro (a)",
          "casado (a)",
          "casado (a)",
          "divorciado (a)",
          "divorciado (a)",
          "solteiro (a)",
          "casado (a)",
          "casado (a)",
          "casado (a)",
          "solteiro (a)",
          "divorciado (a)",
          "solteiro (a)",
          "casado (a)",
          "casado (a)",
          "casado (a)",
          "divorciado (a)",
          "divorciado (a)",
          "casado (a)",
          "solteiro (a)",
          "casado (a)",
          "solteiro (a)",
          "casado (a)",
          "casado (a)",
          "casado (a)",
          "casado (a)",
          "casado (a)",
          "divorciado (a)",
          "divorciado (a)",
          "casado (a)",
          "divorciado (a)",
          "casado (a)",
          "casado (a)",
          "casado (a)",
          "solteiro (a)",
          "casado (a)",
          "casado (a)",
          "casado (a)",
          "solteiro (a)",
          "solteiro (a)",
          "solteiro (a)",
          "casado (a)",
          "casado (a)",
          "divorciado (a)",
          "casado (a)",
          "solteiro (a)",
          "casado (a)",
          "casado (a)",
          "solteiro (a)",
          "divorciado (a)",
          "solteiro (a)",
          "casado (a)",
          "solteiro (a)",
          "casado (a)",
          "solteiro (a)",
          "casado (a)",
          "solteiro (a)",
          "solteiro (a)",
          "casado (a)",
          "casado (a)",
          "casado (a)",
          "casado (a)",
          "solteiro (a)",
          "divorciado (a)",
          "solteiro (a)",
          "solteiro (a)",
          "solteiro (a)",
          "casado (a)",
          "solteiro (a)",
          "solteiro (a)",
          "solteiro (a)",
          "solteiro (a)",
          "casado (a)",
          "solteiro (a)",
          "divorciado (a)",
          "casado (a)",
          "casado (a)",
          "casado (a)",
          "divorciado (a)",
          "casado (a)",
          "solteiro (a)",
          "casado (a)",
          "casado (a)",
          "solteiro (a)",
          "casado (a)",
          "solteiro (a)",
          "casado (a)",
          "casado (a)",
          "solteiro (a)",
          "casado (a)",
          "solteiro (a)",
          "solteiro (a)",
          "casado (a)",
          "solteiro (a)",
          "casado (a)",
          "solteiro (a)",
          "divorciado (a)",
          "solteiro (a)",
          "solteiro (a)",
          "solteiro (a)",
          "casado (a)",
          "casado (a)",
          "casado (a)",
          "casado (a)",
          "solteiro (a)",
          "casado (a)",
          "casado (a)",
          "casado (a)",
          "casado (a)",
          "casado (a)",
          "solteiro (a)",
          "solteiro (a)",
          "casado (a)",
          "casado (a)",
          "casado (a)",
          "solteiro (a)",
          "casado (a)",
          "casado (a)",
          "divorciado (a)",
          "casado (a)",
          "casado (a)",
          "solteiro (a)",
          "casado (a)",
          "divorciado (a)",
          "casado (a)",
          "casado (a)",
          "solteiro (a)",
          "solteiro (a)",
          "divorciado (a)",
          "casado (a)",
          "casado (a)",
          "casado (a)",
          "casado (a)",
          "divorciado (a)",
          "divorciado (a)",
          "solteiro (a)",
          "solteiro (a)",
          "casado (a)",
          "solteiro (a)",
          "solteiro (a)",
          "casado (a)",
          "casado (a)",
          "casado (a)",
          "casado (a)",
          "casado (a)",
          "solteiro (a)",
          "solteiro (a)",
          "divorciado (a)",
          "solteiro (a)",
          "divorciado (a)",
          "casado (a)",
          "solteiro (a)",
          "casado (a)",
          "divorciado (a)",
          "solteiro (a)",
          "casado (a)",
          "casado (a)",
          "solteiro (a)",
          "casado (a)",
          "casado (a)",
          "divorciado (a)",
          "casado (a)",
          "solteiro (a)",
          "casado (a)",
          "casado (a)",
          "casado (a)",
          "divorciado (a)",
          "casado (a)",
          "solteiro (a)",
          "casado (a)",
          "casado (a)",
          "casado (a)",
          "divorciado (a)",
          "casado (a)",
          "solteiro (a)",
          "casado (a)",
          "casado (a)",
          "casado (a)",
          "casado (a)",
          "casado (a)",
          "casado (a)",
          "solteiro (a)",
          "casado (a)",
          "casado (a)",
          "casado (a)",
          "solteiro (a)",
          "casado (a)",
          "casado (a)",
          "casado (a)",
          "casado (a)",
          "divorciado (a)",
          "solteiro (a)",
          "casado (a)",
          "casado (a)",
          "casado (a)",
          "divorciado (a)",
          "casado (a)",
          "divorciado (a)",
          "solteiro (a)",
          "casado (a)",
          "solteiro (a)",
          "solteiro (a)",
          "casado (a)",
          "casado (a)",
          "casado (a)",
          "casado (a)",
          "solteiro (a)",
          "solteiro (a)",
          "casado (a)",
          "casado (a)",
          "casado (a)",
          "solteiro (a)",
          "solteiro (a)",
          "casado (a)",
          "casado (a)",
          "casado (a)",
          "solteiro (a)",
          "casado (a)",
          "casado (a)",
          "casado (a)",
          "casado (a)",
          "divorciado (a)",
          "solteiro (a)",
          "casado (a)",
          "divorciado (a)",
          "solteiro (a)",
          "solteiro (a)",
          "casado (a)",
          "casado (a)",
          "casado (a)",
          "casado (a)",
          "casado (a)",
          "solteiro (a)",
          "solteiro (a)",
          "casado (a)",
          "solteiro (a)",
          "solteiro (a)",
          "solteiro (a)",
          "divorciado (a)",
          "solteiro (a)",
          "casado (a)",
          "divorciado (a)",
          "casado (a)",
          "casado (a)",
          "casado (a)",
          "casado (a)",
          "casado (a)",
          "solteiro (a)",
          "casado (a)",
          "casado (a)",
          "casado (a)",
          "casado (a)",
          "solteiro (a)",
          "casado (a)",
          "solteiro (a)",
          "solteiro (a)",
          "divorciado (a)",
          "solteiro (a)",
          "solteiro (a)",
          "casado (a)",
          "casado (a)",
          "divorciado (a)",
          "casado (a)",
          "solteiro (a)",
          "casado (a)",
          "divorciado (a)",
          "solteiro (a)",
          "casado (a)",
          "casado (a)",
          "divorciado (a)",
          "casado (a)",
          "casado (a)",
          "casado (a)",
          "solteiro (a)",
          "casado (a)",
          "solteiro (a)",
          "solteiro (a)",
          "solteiro (a)",
          "casado (a)",
          "casado (a)",
          "solteiro (a)",
          "solteiro (a)",
          "casado (a)",
          "casado (a)",
          "solteiro (a)",
          "solteiro (a)",
          "solteiro (a)",
          "casado (a)",
          "casado (a)",
          "casado (a)",
          "casado (a)",
          "divorciado (a)",
          "solteiro (a)",
          "divorciado (a)",
          "casado (a)",
          "divorciado (a)",
          "casado (a)",
          "solteiro (a)",
          "solteiro (a)",
          "divorciado (a)",
          "casado (a)",
          "solteiro (a)",
          "solteiro (a)",
          "casado (a)",
          "casado (a)",
          "casado (a)",
          "divorciado (a)",
          "solteiro (a)",
          "solteiro (a)",
          "solteiro (a)",
          "casado (a)",
          "solteiro (a)",
          "casado (a)",
          "casado (a)",
          "casado (a)",
          "solteiro (a)",
          "casado (a)",
          "casado (a)",
          "solteiro (a)",
          "solteiro (a)",
          "divorciado (a)",
          "solteiro (a)",
          "divorciado (a)",
          "divorciado (a)",
          "casado (a)",
          "divorciado (a)",
          "casado (a)",
          "divorciado (a)",
          "divorciado (a)",
          "divorciado (a)",
          "solteiro (a)",
          "divorciado (a)",
          "divorciado (a)",
          "solteiro (a)",
          "solteiro (a)",
          "solteiro (a)",
          "casado (a)",
          "divorciado (a)",
          "solteiro (a)",
          "casado (a)",
          "divorciado (a)",
          "solteiro (a)",
          "solteiro (a)",
          "casado (a)",
          "solteiro (a)",
          "solteiro (a)",
          "solteiro (a)",
          "solteiro (a)",
          "casado (a)",
          "casado (a)",
          "solteiro (a)",
          "divorciado (a)",
          "solteiro (a)",
          "casado (a)",
          "casado (a)",
          "casado (a)",
          "casado (a)",
          "solteiro (a)",
          "divorciado (a)",
          "casado (a)",
          "casado (a)",
          "casado (a)",
          "solteiro (a)",
          "casado (a)",
          "casado (a)",
          "solteiro (a)",
          "solteiro (a)",
          "casado (a)",
          "solteiro (a)",
          "casado (a)",
          "casado (a)",
          "solteiro (a)",
          "casado (a)",
          "divorciado (a)",
          "casado (a)",
          "divorciado (a)",
          "solteiro (a)",
          "solteiro (a)",
          "casado (a)",
          "casado (a)",
          "solteiro (a)",
          "divorciado (a)",
          "casado (a)",
          "divorciado (a)",
          "casado (a)",
          "solteiro (a)",
          "casado (a)",
          "solteiro (a)",
          "divorciado (a)",
          "divorciado (a)",
          "casado (a)",
          "casado (a)",
          "solteiro (a)",
          "solteiro (a)",
          "casado (a)",
          "casado (a)",
          "casado (a)",
          "casado (a)",
          "divorciado (a)",
          "solteiro (a)",
          "casado (a)",
          "solteiro (a)",
          "casado (a)",
          "casado (a)",
          "divorciado (a)",
          "casado (a)",
          "casado (a)",
          "casado (a)",
          "solteiro (a)",
          "casado (a)",
          "solteiro (a)",
          "casado (a)",
          "casado (a)",
          "casado (a)",
          "solteiro (a)",
          "divorciado (a)",
          "casado (a)",
          "casado (a)",
          "casado (a)",
          "casado (a)",
          "casado (a)",
          "casado (a)",
          "solteiro (a)",
          "solteiro (a)",
          "casado (a)",
          "casado (a)",
          "casado (a)",
          "solteiro (a)",
          "casado (a)",
          "casado (a)",
          "casado (a)",
          "divorciado (a)",
          "casado (a)",
          "solteiro (a)",
          "casado (a)",
          "casado (a)",
          "divorciado (a)",
          "casado (a)",
          "solteiro (a)",
          "solteiro (a)",
          "solteiro (a)",
          "casado (a)",
          "solteiro (a)"
         ],
         "xaxis": "x",
         "yaxis": "y"
        },
        {
         "alignmentgroup": "True",
         "bingroup": "x",
         "hovertemplate": "aderencia_investimento=nao<br>estado_civil=%{x}<br>count=%{y}<extra></extra>",
         "legendgroup": "nao",
         "marker": {
          "color": "#EF553B",
          "pattern": {
           "shape": ""
          }
         },
         "name": "nao",
         "offsetgroup": "nao",
         "orientation": "v",
         "showlegend": true,
         "texttemplate": "%{value}",
         "type": "histogram",
         "x": [
          "solteiro (a)",
          "casado (a)",
          "casado (a)",
          "casado (a)",
          "divorciado (a)",
          "casado (a)",
          "casado (a)",
          "solteiro (a)",
          "casado (a)",
          "casado (a)",
          "casado (a)",
          "divorciado (a)",
          "solteiro (a)",
          "casado (a)",
          "casado (a)",
          "casado (a)",
          "casado (a)",
          "solteiro (a)",
          "casado (a)",
          "casado (a)",
          "casado (a)",
          "casado (a)",
          "divorciado (a)",
          "divorciado (a)",
          "casado (a)",
          "casado (a)",
          "casado (a)",
          "casado (a)",
          "casado (a)",
          "divorciado (a)",
          "casado (a)",
          "casado (a)",
          "casado (a)",
          "solteiro (a)",
          "casado (a)",
          "solteiro (a)",
          "divorciado (a)",
          "solteiro (a)",
          "casado (a)",
          "casado (a)",
          "casado (a)",
          "casado (a)",
          "divorciado (a)",
          "casado (a)",
          "casado (a)",
          "casado (a)",
          "casado (a)",
          "casado (a)",
          "casado (a)",
          "casado (a)",
          "solteiro (a)",
          "casado (a)",
          "casado (a)",
          "casado (a)",
          "solteiro (a)",
          "casado (a)",
          "casado (a)",
          "casado (a)",
          "divorciado (a)",
          "solteiro (a)",
          "casado (a)",
          "casado (a)",
          "solteiro (a)",
          "casado (a)",
          "casado (a)",
          "casado (a)",
          "solteiro (a)",
          "casado (a)",
          "solteiro (a)",
          "casado (a)",
          "casado (a)",
          "casado (a)",
          "solteiro (a)",
          "casado (a)",
          "casado (a)",
          "solteiro (a)",
          "casado (a)",
          "solteiro (a)",
          "casado (a)",
          "casado (a)",
          "casado (a)",
          "casado (a)",
          "casado (a)",
          "casado (a)",
          "casado (a)",
          "casado (a)",
          "casado (a)",
          "casado (a)",
          "casado (a)",
          "divorciado (a)",
          "casado (a)",
          "casado (a)",
          "casado (a)",
          "casado (a)",
          "solteiro (a)",
          "casado (a)",
          "casado (a)",
          "casado (a)",
          "casado (a)",
          "casado (a)",
          "casado (a)",
          "casado (a)",
          "casado (a)",
          "casado (a)",
          "casado (a)",
          "casado (a)",
          "casado (a)",
          "solteiro (a)",
          "solteiro (a)",
          "solteiro (a)",
          "solteiro (a)",
          "solteiro (a)",
          "casado (a)",
          "casado (a)",
          "casado (a)",
          "casado (a)",
          "casado (a)",
          "casado (a)",
          "casado (a)",
          "casado (a)",
          "casado (a)",
          "divorciado (a)",
          "casado (a)",
          "casado (a)",
          "casado (a)",
          "casado (a)",
          "casado (a)",
          "solteiro (a)",
          "casado (a)",
          "solteiro (a)",
          "casado (a)",
          "casado (a)",
          "casado (a)",
          "casado (a)",
          "casado (a)",
          "casado (a)",
          "solteiro (a)",
          "casado (a)",
          "casado (a)",
          "casado (a)",
          "solteiro (a)",
          "divorciado (a)",
          "casado (a)",
          "solteiro (a)",
          "divorciado (a)",
          "casado (a)",
          "solteiro (a)",
          "casado (a)",
          "solteiro (a)",
          "solteiro (a)",
          "casado (a)",
          "solteiro (a)",
          "divorciado (a)",
          "divorciado (a)",
          "casado (a)",
          "solteiro (a)",
          "casado (a)",
          "solteiro (a)",
          "solteiro (a)",
          "casado (a)",
          "casado (a)",
          "casado (a)",
          "solteiro (a)",
          "casado (a)",
          "solteiro (a)",
          "casado (a)",
          "casado (a)",
          "casado (a)",
          "casado (a)",
          "divorciado (a)",
          "solteiro (a)",
          "solteiro (a)",
          "casado (a)",
          "casado (a)",
          "divorciado (a)",
          "casado (a)",
          "solteiro (a)",
          "casado (a)",
          "solteiro (a)",
          "divorciado (a)",
          "casado (a)",
          "solteiro (a)",
          "solteiro (a)",
          "casado (a)",
          "casado (a)",
          "casado (a)",
          "solteiro (a)",
          "casado (a)",
          "solteiro (a)",
          "divorciado (a)",
          "divorciado (a)",
          "casado (a)",
          "casado (a)",
          "solteiro (a)",
          "casado (a)",
          "casado (a)",
          "casado (a)",
          "solteiro (a)",
          "divorciado (a)",
          "divorciado (a)",
          "casado (a)",
          "solteiro (a)",
          "casado (a)",
          "casado (a)",
          "solteiro (a)",
          "casado (a)",
          "divorciado (a)",
          "solteiro (a)",
          "casado (a)",
          "casado (a)",
          "casado (a)",
          "casado (a)",
          "casado (a)",
          "casado (a)",
          "casado (a)",
          "casado (a)",
          "solteiro (a)",
          "solteiro (a)",
          "solteiro (a)",
          "solteiro (a)",
          "solteiro (a)",
          "divorciado (a)",
          "solteiro (a)",
          "casado (a)",
          "divorciado (a)",
          "casado (a)",
          "casado (a)",
          "casado (a)",
          "solteiro (a)",
          "casado (a)",
          "solteiro (a)",
          "solteiro (a)",
          "casado (a)",
          "divorciado (a)",
          "solteiro (a)",
          "casado (a)",
          "casado (a)",
          "casado (a)",
          "solteiro (a)",
          "solteiro (a)",
          "casado (a)",
          "divorciado (a)",
          "divorciado (a)",
          "casado (a)",
          "casado (a)",
          "casado (a)",
          "casado (a)",
          "casado (a)",
          "casado (a)",
          "casado (a)",
          "solteiro (a)",
          "solteiro (a)",
          "casado (a)",
          "casado (a)",
          "casado (a)",
          "casado (a)",
          "casado (a)",
          "casado (a)",
          "divorciado (a)",
          "casado (a)",
          "casado (a)",
          "divorciado (a)",
          "solteiro (a)",
          "solteiro (a)",
          "casado (a)",
          "casado (a)",
          "solteiro (a)",
          "solteiro (a)",
          "casado (a)",
          "casado (a)",
          "casado (a)",
          "casado (a)",
          "solteiro (a)",
          "casado (a)",
          "solteiro (a)",
          "divorciado (a)",
          "solteiro (a)",
          "casado (a)",
          "casado (a)",
          "casado (a)",
          "divorciado (a)",
          "casado (a)",
          "casado (a)",
          "casado (a)",
          "solteiro (a)",
          "solteiro (a)",
          "divorciado (a)",
          "casado (a)",
          "casado (a)",
          "solteiro (a)",
          "casado (a)",
          "solteiro (a)",
          "solteiro (a)",
          "solteiro (a)",
          "casado (a)",
          "casado (a)",
          "casado (a)",
          "solteiro (a)",
          "solteiro (a)",
          "casado (a)",
          "casado (a)",
          "solteiro (a)",
          "divorciado (a)",
          "casado (a)",
          "casado (a)",
          "divorciado (a)",
          "solteiro (a)",
          "solteiro (a)",
          "solteiro (a)",
          "casado (a)",
          "casado (a)",
          "casado (a)",
          "casado (a)",
          "casado (a)",
          "solteiro (a)",
          "solteiro (a)",
          "solteiro (a)",
          "casado (a)",
          "solteiro (a)",
          "casado (a)",
          "casado (a)",
          "solteiro (a)",
          "solteiro (a)",
          "solteiro (a)",
          "casado (a)",
          "divorciado (a)",
          "divorciado (a)",
          "solteiro (a)",
          "casado (a)",
          "casado (a)",
          "casado (a)",
          "casado (a)",
          "solteiro (a)",
          "solteiro (a)",
          "casado (a)",
          "solteiro (a)",
          "casado (a)",
          "casado (a)",
          "solteiro (a)",
          "casado (a)",
          "casado (a)",
          "casado (a)",
          "casado (a)",
          "casado (a)",
          "casado (a)",
          "casado (a)",
          "casado (a)",
          "casado (a)",
          "casado (a)",
          "solteiro (a)",
          "casado (a)",
          "solteiro (a)",
          "solteiro (a)",
          "casado (a)",
          "solteiro (a)",
          "casado (a)",
          "casado (a)",
          "casado (a)",
          "casado (a)",
          "divorciado (a)",
          "solteiro (a)",
          "casado (a)",
          "solteiro (a)",
          "casado (a)",
          "solteiro (a)",
          "casado (a)",
          "casado (a)",
          "casado (a)",
          "casado (a)",
          "divorciado (a)",
          "solteiro (a)",
          "casado (a)",
          "solteiro (a)",
          "casado (a)",
          "solteiro (a)",
          "casado (a)",
          "casado (a)",
          "casado (a)",
          "casado (a)",
          "casado (a)",
          "solteiro (a)",
          "casado (a)",
          "casado (a)",
          "casado (a)",
          "solteiro (a)",
          "divorciado (a)",
          "solteiro (a)",
          "casado (a)",
          "casado (a)",
          "casado (a)",
          "solteiro (a)",
          "casado (a)",
          "casado (a)",
          "solteiro (a)",
          "casado (a)",
          "solteiro (a)",
          "casado (a)",
          "casado (a)",
          "casado (a)",
          "casado (a)",
          "casado (a)",
          "solteiro (a)",
          "casado (a)",
          "solteiro (a)",
          "casado (a)",
          "casado (a)",
          "casado (a)",
          "divorciado (a)",
          "casado (a)",
          "casado (a)",
          "casado (a)",
          "divorciado (a)",
          "casado (a)",
          "casado (a)",
          "solteiro (a)",
          "casado (a)",
          "solteiro (a)",
          "casado (a)",
          "divorciado (a)",
          "casado (a)",
          "casado (a)",
          "casado (a)",
          "divorciado (a)",
          "casado (a)",
          "casado (a)",
          "casado (a)",
          "solteiro (a)",
          "solteiro (a)",
          "casado (a)",
          "solteiro (a)",
          "casado (a)",
          "casado (a)",
          "solteiro (a)",
          "casado (a)",
          "solteiro (a)",
          "casado (a)",
          "casado (a)",
          "casado (a)",
          "casado (a)",
          "casado (a)",
          "casado (a)",
          "casado (a)",
          "casado (a)",
          "casado (a)",
          "solteiro (a)",
          "divorciado (a)",
          "casado (a)",
          "solteiro (a)",
          "divorciado (a)",
          "solteiro (a)",
          "divorciado (a)",
          "casado (a)",
          "casado (a)",
          "casado (a)",
          "casado (a)",
          "divorciado (a)",
          "casado (a)",
          "solteiro (a)",
          "divorciado (a)",
          "casado (a)",
          "solteiro (a)",
          "casado (a)",
          "divorciado (a)",
          "casado (a)",
          "casado (a)",
          "casado (a)",
          "solteiro (a)",
          "casado (a)",
          "solteiro (a)",
          "solteiro (a)",
          "casado (a)",
          "casado (a)",
          "divorciado (a)",
          "solteiro (a)",
          "solteiro (a)",
          "casado (a)",
          "solteiro (a)",
          "solteiro (a)",
          "divorciado (a)",
          "casado (a)",
          "divorciado (a)",
          "casado (a)",
          "solteiro (a)",
          "casado (a)",
          "divorciado (a)",
          "casado (a)",
          "casado (a)",
          "casado (a)",
          "divorciado (a)",
          "casado (a)",
          "casado (a)",
          "divorciado (a)",
          "casado (a)",
          "casado (a)",
          "casado (a)",
          "solteiro (a)",
          "casado (a)",
          "divorciado (a)",
          "casado (a)",
          "casado (a)",
          "casado (a)",
          "casado (a)",
          "casado (a)",
          "casado (a)",
          "solteiro (a)",
          "casado (a)",
          "solteiro (a)",
          "casado (a)",
          "solteiro (a)",
          "solteiro (a)",
          "solteiro (a)",
          "casado (a)",
          "casado (a)",
          "casado (a)",
          "casado (a)",
          "casado (a)",
          "solteiro (a)",
          "casado (a)",
          "casado (a)",
          "solteiro (a)",
          "solteiro (a)",
          "casado (a)",
          "casado (a)",
          "divorciado (a)",
          "casado (a)",
          "divorciado (a)",
          "casado (a)",
          "solteiro (a)",
          "casado (a)",
          "divorciado (a)",
          "casado (a)",
          "casado (a)",
          "solteiro (a)",
          "casado (a)",
          "casado (a)",
          "divorciado (a)",
          "solteiro (a)",
          "divorciado (a)",
          "casado (a)",
          "solteiro (a)",
          "solteiro (a)",
          "casado (a)",
          "solteiro (a)",
          "casado (a)",
          "divorciado (a)",
          "casado (a)",
          "casado (a)",
          "casado (a)",
          "casado (a)",
          "casado (a)",
          "casado (a)",
          "solteiro (a)",
          "casado (a)",
          "casado (a)",
          "casado (a)",
          "solteiro (a)",
          "casado (a)",
          "casado (a)",
          "casado (a)",
          "solteiro (a)",
          "divorciado (a)",
          "solteiro (a)",
          "casado (a)",
          "solteiro (a)",
          "casado (a)",
          "solteiro (a)",
          "casado (a)",
          "casado (a)",
          "casado (a)",
          "casado (a)",
          "divorciado (a)",
          "casado (a)",
          "casado (a)",
          "divorciado (a)",
          "casado (a)",
          "casado (a)",
          "casado (a)",
          "casado (a)",
          "casado (a)",
          "solteiro (a)",
          "divorciado (a)",
          "casado (a)",
          "casado (a)",
          "casado (a)",
          "solteiro (a)",
          "casado (a)",
          "casado (a)",
          "casado (a)",
          "casado (a)",
          "casado (a)",
          "solteiro (a)",
          "solteiro (a)",
          "solteiro (a)",
          "casado (a)",
          "divorciado (a)",
          "casado (a)",
          "divorciado (a)",
          "casado (a)",
          "casado (a)",
          "solteiro (a)",
          "divorciado (a)",
          "casado (a)",
          "solteiro (a)",
          "casado (a)",
          "casado (a)",
          "solteiro (a)",
          "casado (a)",
          "casado (a)",
          "casado (a)",
          "casado (a)",
          "divorciado (a)",
          "casado (a)",
          "casado (a)",
          "casado (a)",
          "solteiro (a)",
          "divorciado (a)",
          "solteiro (a)",
          "casado (a)",
          "casado (a)",
          "solteiro (a)",
          "casado (a)",
          "casado (a)",
          "casado (a)",
          "casado (a)",
          "casado (a)",
          "casado (a)",
          "solteiro (a)",
          "solteiro (a)",
          "divorciado (a)",
          "divorciado (a)",
          "casado (a)",
          "casado (a)",
          "solteiro (a)",
          "divorciado (a)",
          "casado (a)",
          "solteiro (a)",
          "casado (a)",
          "casado (a)",
          "casado (a)",
          "solteiro (a)",
          "casado (a)",
          "casado (a)",
          "solteiro (a)",
          "casado (a)",
          "solteiro (a)",
          "solteiro (a)",
          "casado (a)",
          "casado (a)",
          "casado (a)",
          "casado (a)",
          "divorciado (a)",
          "divorciado (a)",
          "casado (a)",
          "casado (a)",
          "casado (a)",
          "solteiro (a)",
          "casado (a)",
          "divorciado (a)",
          "divorciado (a)",
          "divorciado (a)",
          "casado (a)",
          "solteiro (a)",
          "divorciado (a)",
          "solteiro (a)",
          "casado (a)",
          "casado (a)",
          "solteiro (a)",
          "casado (a)",
          "divorciado (a)",
          "casado (a)",
          "casado (a)",
          "casado (a)",
          "solteiro (a)",
          "casado (a)",
          "casado (a)",
          "casado (a)",
          "casado (a)",
          "casado (a)",
          "casado (a)",
          "casado (a)",
          "casado (a)",
          "casado (a)",
          "solteiro (a)",
          "casado (a)",
          "divorciado (a)",
          "solteiro (a)",
          "casado (a)",
          "casado (a)",
          "casado (a)",
          "casado (a)",
          "solteiro (a)",
          "casado (a)",
          "casado (a)",
          "solteiro (a)",
          "solteiro (a)",
          "solteiro (a)",
          "casado (a)",
          "casado (a)",
          "casado (a)",
          "casado (a)",
          "solteiro (a)",
          "casado (a)",
          "casado (a)",
          "solteiro (a)",
          "casado (a)",
          "divorciado (a)",
          "solteiro (a)",
          "divorciado (a)",
          "casado (a)",
          "solteiro (a)",
          "casado (a)",
          "casado (a)",
          "casado (a)",
          "solteiro (a)",
          "casado (a)",
          "solteiro (a)",
          "casado (a)",
          "casado (a)",
          "casado (a)",
          "divorciado (a)",
          "casado (a)",
          "solteiro (a)",
          "solteiro (a)",
          "casado (a)",
          "casado (a)",
          "solteiro (a)",
          "casado (a)",
          "casado (a)",
          "divorciado (a)",
          "casado (a)",
          "solteiro (a)",
          "casado (a)",
          "solteiro (a)",
          "casado (a)",
          "divorciado (a)",
          "casado (a)",
          "solteiro (a)",
          "casado (a)",
          "casado (a)",
          "solteiro (a)",
          "casado (a)",
          "solteiro (a)",
          "casado (a)",
          "casado (a)",
          "casado (a)",
          "casado (a)",
          "casado (a)",
          "casado (a)",
          "solteiro (a)",
          "casado (a)",
          "solteiro (a)",
          "casado (a)",
          "casado (a)",
          "casado (a)",
          "solteiro (a)",
          "casado (a)",
          "casado (a)",
          "solteiro (a)",
          "casado (a)",
          "casado (a)",
          "solteiro (a)",
          "casado (a)",
          "divorciado (a)",
          "solteiro (a)",
          "casado (a)",
          "casado (a)"
         ],
         "xaxis": "x",
         "yaxis": "y"
        }
       ],
       "layout": {
        "barmode": "group",
        "legend": {
         "title": {
          "text": "aderencia_investimento"
         },
         "tracegroupgap": 0
        },
        "margin": {
         "t": 60
        },
        "template": {
         "data": {
          "bar": [
           {
            "error_x": {
             "color": "#2a3f5f"
            },
            "error_y": {
             "color": "#2a3f5f"
            },
            "marker": {
             "line": {
              "color": "#E5ECF6",
              "width": 0.5
             },
             "pattern": {
              "fillmode": "overlay",
              "size": 10,
              "solidity": 0.2
             }
            },
            "type": "bar"
           }
          ],
          "barpolar": [
           {
            "marker": {
             "line": {
              "color": "#E5ECF6",
              "width": 0.5
             },
             "pattern": {
              "fillmode": "overlay",
              "size": 10,
              "solidity": 0.2
             }
            },
            "type": "barpolar"
           }
          ],
          "carpet": [
           {
            "aaxis": {
             "endlinecolor": "#2a3f5f",
             "gridcolor": "white",
             "linecolor": "white",
             "minorgridcolor": "white",
             "startlinecolor": "#2a3f5f"
            },
            "baxis": {
             "endlinecolor": "#2a3f5f",
             "gridcolor": "white",
             "linecolor": "white",
             "minorgridcolor": "white",
             "startlinecolor": "#2a3f5f"
            },
            "type": "carpet"
           }
          ],
          "choropleth": [
           {
            "colorbar": {
             "outlinewidth": 0,
             "ticks": ""
            },
            "type": "choropleth"
           }
          ],
          "contour": [
           {
            "colorbar": {
             "outlinewidth": 0,
             "ticks": ""
            },
            "colorscale": [
             [
              0,
              "#0d0887"
             ],
             [
              0.1111111111111111,
              "#46039f"
             ],
             [
              0.2222222222222222,
              "#7201a8"
             ],
             [
              0.3333333333333333,
              "#9c179e"
             ],
             [
              0.4444444444444444,
              "#bd3786"
             ],
             [
              0.5555555555555556,
              "#d8576b"
             ],
             [
              0.6666666666666666,
              "#ed7953"
             ],
             [
              0.7777777777777778,
              "#fb9f3a"
             ],
             [
              0.8888888888888888,
              "#fdca26"
             ],
             [
              1,
              "#f0f921"
             ]
            ],
            "type": "contour"
           }
          ],
          "contourcarpet": [
           {
            "colorbar": {
             "outlinewidth": 0,
             "ticks": ""
            },
            "type": "contourcarpet"
           }
          ],
          "heatmap": [
           {
            "colorbar": {
             "outlinewidth": 0,
             "ticks": ""
            },
            "colorscale": [
             [
              0,
              "#0d0887"
             ],
             [
              0.1111111111111111,
              "#46039f"
             ],
             [
              0.2222222222222222,
              "#7201a8"
             ],
             [
              0.3333333333333333,
              "#9c179e"
             ],
             [
              0.4444444444444444,
              "#bd3786"
             ],
             [
              0.5555555555555556,
              "#d8576b"
             ],
             [
              0.6666666666666666,
              "#ed7953"
             ],
             [
              0.7777777777777778,
              "#fb9f3a"
             ],
             [
              0.8888888888888888,
              "#fdca26"
             ],
             [
              1,
              "#f0f921"
             ]
            ],
            "type": "heatmap"
           }
          ],
          "histogram": [
           {
            "marker": {
             "pattern": {
              "fillmode": "overlay",
              "size": 10,
              "solidity": 0.2
             }
            },
            "type": "histogram"
           }
          ],
          "histogram2d": [
           {
            "colorbar": {
             "outlinewidth": 0,
             "ticks": ""
            },
            "colorscale": [
             [
              0,
              "#0d0887"
             ],
             [
              0.1111111111111111,
              "#46039f"
             ],
             [
              0.2222222222222222,
              "#7201a8"
             ],
             [
              0.3333333333333333,
              "#9c179e"
             ],
             [
              0.4444444444444444,
              "#bd3786"
             ],
             [
              0.5555555555555556,
              "#d8576b"
             ],
             [
              0.6666666666666666,
              "#ed7953"
             ],
             [
              0.7777777777777778,
              "#fb9f3a"
             ],
             [
              0.8888888888888888,
              "#fdca26"
             ],
             [
              1,
              "#f0f921"
             ]
            ],
            "type": "histogram2d"
           }
          ],
          "histogram2dcontour": [
           {
            "colorbar": {
             "outlinewidth": 0,
             "ticks": ""
            },
            "colorscale": [
             [
              0,
              "#0d0887"
             ],
             [
              0.1111111111111111,
              "#46039f"
             ],
             [
              0.2222222222222222,
              "#7201a8"
             ],
             [
              0.3333333333333333,
              "#9c179e"
             ],
             [
              0.4444444444444444,
              "#bd3786"
             ],
             [
              0.5555555555555556,
              "#d8576b"
             ],
             [
              0.6666666666666666,
              "#ed7953"
             ],
             [
              0.7777777777777778,
              "#fb9f3a"
             ],
             [
              0.8888888888888888,
              "#fdca26"
             ],
             [
              1,
              "#f0f921"
             ]
            ],
            "type": "histogram2dcontour"
           }
          ],
          "mesh3d": [
           {
            "colorbar": {
             "outlinewidth": 0,
             "ticks": ""
            },
            "type": "mesh3d"
           }
          ],
          "parcoords": [
           {
            "line": {
             "colorbar": {
              "outlinewidth": 0,
              "ticks": ""
             }
            },
            "type": "parcoords"
           }
          ],
          "pie": [
           {
            "automargin": true,
            "type": "pie"
           }
          ],
          "scatter": [
           {
            "fillpattern": {
             "fillmode": "overlay",
             "size": 10,
             "solidity": 0.2
            },
            "type": "scatter"
           }
          ],
          "scatter3d": [
           {
            "line": {
             "colorbar": {
              "outlinewidth": 0,
              "ticks": ""
             }
            },
            "marker": {
             "colorbar": {
              "outlinewidth": 0,
              "ticks": ""
             }
            },
            "type": "scatter3d"
           }
          ],
          "scattercarpet": [
           {
            "marker": {
             "colorbar": {
              "outlinewidth": 0,
              "ticks": ""
             }
            },
            "type": "scattercarpet"
           }
          ],
          "scattergeo": [
           {
            "marker": {
             "colorbar": {
              "outlinewidth": 0,
              "ticks": ""
             }
            },
            "type": "scattergeo"
           }
          ],
          "scattergl": [
           {
            "marker": {
             "colorbar": {
              "outlinewidth": 0,
              "ticks": ""
             }
            },
            "type": "scattergl"
           }
          ],
          "scattermap": [
           {
            "marker": {
             "colorbar": {
              "outlinewidth": 0,
              "ticks": ""
             }
            },
            "type": "scattermap"
           }
          ],
          "scattermapbox": [
           {
            "marker": {
             "colorbar": {
              "outlinewidth": 0,
              "ticks": ""
             }
            },
            "type": "scattermapbox"
           }
          ],
          "scatterpolar": [
           {
            "marker": {
             "colorbar": {
              "outlinewidth": 0,
              "ticks": ""
             }
            },
            "type": "scatterpolar"
           }
          ],
          "scatterpolargl": [
           {
            "marker": {
             "colorbar": {
              "outlinewidth": 0,
              "ticks": ""
             }
            },
            "type": "scatterpolargl"
           }
          ],
          "scatterternary": [
           {
            "marker": {
             "colorbar": {
              "outlinewidth": 0,
              "ticks": ""
             }
            },
            "type": "scatterternary"
           }
          ],
          "surface": [
           {
            "colorbar": {
             "outlinewidth": 0,
             "ticks": ""
            },
            "colorscale": [
             [
              0,
              "#0d0887"
             ],
             [
              0.1111111111111111,
              "#46039f"
             ],
             [
              0.2222222222222222,
              "#7201a8"
             ],
             [
              0.3333333333333333,
              "#9c179e"
             ],
             [
              0.4444444444444444,
              "#bd3786"
             ],
             [
              0.5555555555555556,
              "#d8576b"
             ],
             [
              0.6666666666666666,
              "#ed7953"
             ],
             [
              0.7777777777777778,
              "#fb9f3a"
             ],
             [
              0.8888888888888888,
              "#fdca26"
             ],
             [
              1,
              "#f0f921"
             ]
            ],
            "type": "surface"
           }
          ],
          "table": [
           {
            "cells": {
             "fill": {
              "color": "#EBF0F8"
             },
             "line": {
              "color": "white"
             }
            },
            "header": {
             "fill": {
              "color": "#C8D4E3"
             },
             "line": {
              "color": "white"
             }
            },
            "type": "table"
           }
          ]
         },
         "layout": {
          "annotationdefaults": {
           "arrowcolor": "#2a3f5f",
           "arrowhead": 0,
           "arrowwidth": 1
          },
          "autotypenumbers": "strict",
          "coloraxis": {
           "colorbar": {
            "outlinewidth": 0,
            "ticks": ""
           }
          },
          "colorscale": {
           "diverging": [
            [
             0,
             "#8e0152"
            ],
            [
             0.1,
             "#c51b7d"
            ],
            [
             0.2,
             "#de77ae"
            ],
            [
             0.3,
             "#f1b6da"
            ],
            [
             0.4,
             "#fde0ef"
            ],
            [
             0.5,
             "#f7f7f7"
            ],
            [
             0.6,
             "#e6f5d0"
            ],
            [
             0.7,
             "#b8e186"
            ],
            [
             0.8,
             "#7fbc41"
            ],
            [
             0.9,
             "#4d9221"
            ],
            [
             1,
             "#276419"
            ]
           ],
           "sequential": [
            [
             0,
             "#0d0887"
            ],
            [
             0.1111111111111111,
             "#46039f"
            ],
            [
             0.2222222222222222,
             "#7201a8"
            ],
            [
             0.3333333333333333,
             "#9c179e"
            ],
            [
             0.4444444444444444,
             "#bd3786"
            ],
            [
             0.5555555555555556,
             "#d8576b"
            ],
            [
             0.6666666666666666,
             "#ed7953"
            ],
            [
             0.7777777777777778,
             "#fb9f3a"
            ],
            [
             0.8888888888888888,
             "#fdca26"
            ],
            [
             1,
             "#f0f921"
            ]
           ],
           "sequentialminus": [
            [
             0,
             "#0d0887"
            ],
            [
             0.1111111111111111,
             "#46039f"
            ],
            [
             0.2222222222222222,
             "#7201a8"
            ],
            [
             0.3333333333333333,
             "#9c179e"
            ],
            [
             0.4444444444444444,
             "#bd3786"
            ],
            [
             0.5555555555555556,
             "#d8576b"
            ],
            [
             0.6666666666666666,
             "#ed7953"
            ],
            [
             0.7777777777777778,
             "#fb9f3a"
            ],
            [
             0.8888888888888888,
             "#fdca26"
            ],
            [
             1,
             "#f0f921"
            ]
           ]
          },
          "colorway": [
           "#636efa",
           "#EF553B",
           "#00cc96",
           "#ab63fa",
           "#FFA15A",
           "#19d3f3",
           "#FF6692",
           "#B6E880",
           "#FF97FF",
           "#FECB52"
          ],
          "font": {
           "color": "#2a3f5f"
          },
          "geo": {
           "bgcolor": "white",
           "lakecolor": "white",
           "landcolor": "#E5ECF6",
           "showlakes": true,
           "showland": true,
           "subunitcolor": "white"
          },
          "hoverlabel": {
           "align": "left"
          },
          "hovermode": "closest",
          "mapbox": {
           "style": "light"
          },
          "paper_bgcolor": "white",
          "plot_bgcolor": "#E5ECF6",
          "polar": {
           "angularaxis": {
            "gridcolor": "white",
            "linecolor": "white",
            "ticks": ""
           },
           "bgcolor": "#E5ECF6",
           "radialaxis": {
            "gridcolor": "white",
            "linecolor": "white",
            "ticks": ""
           }
          },
          "scene": {
           "xaxis": {
            "backgroundcolor": "#E5ECF6",
            "gridcolor": "white",
            "gridwidth": 2,
            "linecolor": "white",
            "showbackground": true,
            "ticks": "",
            "zerolinecolor": "white"
           },
           "yaxis": {
            "backgroundcolor": "#E5ECF6",
            "gridcolor": "white",
            "gridwidth": 2,
            "linecolor": "white",
            "showbackground": true,
            "ticks": "",
            "zerolinecolor": "white"
           },
           "zaxis": {
            "backgroundcolor": "#E5ECF6",
            "gridcolor": "white",
            "gridwidth": 2,
            "linecolor": "white",
            "showbackground": true,
            "ticks": "",
            "zerolinecolor": "white"
           }
          },
          "shapedefaults": {
           "line": {
            "color": "#2a3f5f"
           }
          },
          "ternary": {
           "aaxis": {
            "gridcolor": "white",
            "linecolor": "white",
            "ticks": ""
           },
           "baxis": {
            "gridcolor": "white",
            "linecolor": "white",
            "ticks": ""
           },
           "bgcolor": "#E5ECF6",
           "caxis": {
            "gridcolor": "white",
            "linecolor": "white",
            "ticks": ""
           }
          },
          "title": {
           "x": 0.05
          },
          "xaxis": {
           "automargin": true,
           "gridcolor": "white",
           "linecolor": "white",
           "ticks": "",
           "title": {
            "standoff": 15
           },
           "zerolinecolor": "white",
           "zerolinewidth": 2
          },
          "yaxis": {
           "automargin": true,
           "gridcolor": "white",
           "linecolor": "white",
           "ticks": "",
           "title": {
            "standoff": 15
           },
           "zerolinecolor": "white",
           "zerolinewidth": 2
          }
         }
        },
        "xaxis": {
         "anchor": "y",
         "domain": [
          0,
          1
         ],
         "title": {
          "text": "estado_civil"
         }
        },
        "yaxis": {
         "anchor": "x",
         "domain": [
          0,
          1
         ],
         "title": {
          "text": "count"
         }
        }
       }
      }
     },
     "metadata": {},
     "output_type": "display_data"
    },
    {
     "data": {
      "application/vnd.plotly.v1+json": {
       "config": {
        "plotlyServerURL": "https://plot.ly"
       },
       "data": [
        {
         "alignmentgroup": "True",
         "bingroup": "x",
         "hovertemplate": "aderencia_investimento=sim<br>escolaridade=%{x}<br>count=%{y}<extra></extra>",
         "legendgroup": "sim",
         "marker": {
          "color": "#636efa",
          "pattern": {
           "shape": ""
          }
         },
         "name": "sim",
         "offsetgroup": "sim",
         "orientation": "v",
         "showlegend": true,
         "texttemplate": "%{value}",
         "type": "histogram",
         "x": [
          "superior",
          "medio",
          "superior",
          "medio",
          "medio",
          "superior",
          "medio",
          "medio",
          "medio",
          "superior",
          "superior",
          "superior",
          "medio",
          "medio",
          "medio",
          "superior",
          "superior",
          "medio",
          "medio",
          "medio",
          "medio",
          "medio",
          "superior",
          "superior",
          "superior",
          "superior",
          "superior",
          "superior",
          "superior",
          "medio",
          "superior",
          "superior",
          "medio",
          "fundamental",
          "medio",
          "medio",
          "superior",
          "superior",
          "superior",
          "superior",
          "medio",
          "medio",
          "superior",
          "medio",
          "superior",
          "medio",
          "medio",
          "fundamental",
          "medio",
          "medio",
          "medio",
          "superior",
          "medio",
          "superior",
          "superior",
          "superior",
          "fundamental",
          "medio",
          "fundamental",
          "superior",
          "superior",
          "medio",
          "superior",
          "medio",
          "medio",
          "medio",
          "medio",
          "medio",
          "superior",
          "superior",
          "fundamental",
          "medio",
          "medio",
          "superior",
          "fundamental",
          "superior",
          "medio",
          "fundamental",
          "superior",
          "medio",
          "medio",
          "fundamental",
          "medio",
          "fundamental",
          "medio",
          "fundamental",
          "fundamental",
          "superior",
          "superior",
          "medio",
          "superior",
          "medio",
          "medio",
          "superior",
          "medio",
          "superior",
          "medio",
          "medio",
          "superior",
          "medio",
          "medio",
          "medio",
          "medio",
          "medio",
          "superior",
          "medio",
          "medio",
          "medio",
          "medio",
          "superior",
          "medio",
          "medio",
          "superior",
          "medio",
          "superior",
          "medio",
          "medio",
          "medio",
          "superior",
          "medio",
          "superior",
          "fundamental",
          "medio",
          "superior",
          "medio",
          "medio",
          "fundamental",
          "medio",
          "medio",
          "superior",
          "medio",
          "medio",
          "superior",
          "medio",
          "medio",
          "superior",
          "medio",
          "medio",
          "medio",
          "medio",
          "fundamental",
          "fundamental",
          "superior",
          "superior",
          "medio",
          "superior",
          "superior",
          "superior",
          "medio",
          "medio",
          "superior",
          "medio",
          "superior",
          "superior",
          "medio",
          "superior",
          "medio",
          "superior",
          "medio",
          "fundamental",
          "medio",
          "superior",
          "medio",
          "medio",
          "fundamental",
          "superior",
          "medio",
          "medio",
          "medio",
          "superior",
          "medio",
          "superior",
          "superior",
          "superior",
          "medio",
          "superior",
          "fundamental",
          "superior",
          "medio",
          "medio",
          "medio",
          "superior",
          "medio",
          "superior",
          "superior",
          "fundamental",
          "medio",
          "medio",
          "medio",
          "superior",
          "medio",
          "medio",
          "fundamental",
          "fundamental",
          "superior",
          "superior",
          "medio",
          "superior",
          "medio",
          "fundamental",
          "fundamental",
          "medio",
          "fundamental",
          "superior",
          "fundamental",
          "medio",
          "medio",
          "medio",
          "medio",
          "superior",
          "medio",
          "medio",
          "superior",
          "superior",
          "superior",
          "superior",
          "medio",
          "medio",
          "superior",
          "superior",
          "medio",
          "medio",
          "medio",
          "medio",
          "medio",
          "superior",
          "medio",
          "superior",
          "medio",
          "medio",
          "superior",
          "medio",
          "fundamental",
          "medio",
          "fundamental",
          "superior",
          "superior",
          "fundamental",
          "fundamental",
          "fundamental",
          "superior",
          "superior",
          "superior",
          "medio",
          "medio",
          "medio",
          "medio",
          "medio",
          "medio",
          "medio",
          "medio",
          "medio",
          "superior",
          "fundamental",
          "medio",
          "superior",
          "medio",
          "superior",
          "medio",
          "superior",
          "medio",
          "fundamental",
          "fundamental",
          "medio",
          "superior",
          "superior",
          "superior",
          "medio",
          "medio",
          "medio",
          "superior",
          "medio",
          "superior",
          "superior",
          "medio",
          "superior",
          "fundamental",
          "medio",
          "medio",
          "medio",
          "medio",
          "superior",
          "superior",
          "medio",
          "medio",
          "medio",
          "fundamental",
          "fundamental",
          "medio",
          "superior",
          "superior",
          "fundamental",
          "superior",
          "superior",
          "superior",
          "superior",
          "medio",
          "medio",
          "medio",
          "superior",
          "medio",
          "medio",
          "medio",
          "medio",
          "fundamental",
          "medio",
          "superior",
          "medio",
          "medio",
          "medio",
          "superior",
          "medio",
          "medio",
          "fundamental",
          "medio",
          "superior",
          "superior",
          "superior",
          "superior",
          "medio",
          "superior",
          "fundamental",
          "medio",
          "fundamental",
          "medio",
          "superior",
          "medio",
          "superior",
          "fundamental",
          "medio",
          "superior",
          "medio",
          "medio",
          "superior",
          "superior",
          "superior",
          "medio",
          "medio",
          "superior",
          "medio",
          "superior",
          "medio",
          "superior",
          "medio",
          "medio",
          "fundamental",
          "medio",
          "medio",
          "superior",
          "fundamental",
          "medio",
          "fundamental",
          "medio",
          "superior",
          "medio",
          "medio",
          "superior",
          "medio",
          "fundamental",
          "superior",
          "medio",
          "medio",
          "medio",
          "medio",
          "medio",
          "fundamental",
          "fundamental",
          "superior",
          "medio",
          "medio",
          "superior",
          "superior",
          "superior",
          "superior",
          "medio",
          "medio",
          "fundamental",
          "medio",
          "medio",
          "superior",
          "medio",
          "fundamental",
          "superior",
          "fundamental",
          "superior",
          "medio",
          "superior",
          "fundamental",
          "medio",
          "medio",
          "fundamental",
          "fundamental",
          "superior",
          "medio",
          "medio",
          "superior",
          "medio",
          "medio",
          "superior",
          "superior",
          "medio",
          "medio",
          "superior",
          "superior",
          "superior",
          "superior",
          "medio",
          "fundamental",
          "superior",
          "superior",
          "medio",
          "superior",
          "medio",
          "medio",
          "fundamental",
          "superior",
          "superior",
          "medio",
          "medio",
          "fundamental",
          "fundamental",
          "superior",
          "superior",
          "superior",
          "superior",
          "superior",
          "medio",
          "medio",
          "superior",
          "medio",
          "medio",
          "superior",
          "medio",
          "superior",
          "superior",
          "superior",
          "superior",
          "medio",
          "fundamental",
          "superior",
          "medio",
          "medio",
          "fundamental",
          "superior",
          "medio",
          "medio",
          "superior",
          "medio",
          "superior",
          "superior",
          "medio",
          "medio",
          "superior",
          "medio",
          "superior",
          "superior",
          "superior",
          "superior",
          "medio",
          "medio",
          "superior",
          "medio",
          "fundamental",
          "medio",
          "medio",
          "fundamental",
          "superior",
          "medio",
          "medio",
          "medio",
          "medio",
          "medio",
          "medio",
          "medio",
          "medio",
          "medio",
          "medio",
          "fundamental",
          "medio",
          "medio",
          "superior",
          "superior",
          "superior",
          "superior",
          "superior",
          "fundamental",
          "superior",
          "superior",
          "superior",
          "medio",
          "medio",
          "medio",
          "medio",
          "superior",
          "medio",
          "superior",
          "superior",
          "superior",
          "superior",
          "superior",
          "superior",
          "superior"
         ],
         "xaxis": "x",
         "yaxis": "y"
        },
        {
         "alignmentgroup": "True",
         "bingroup": "x",
         "hovertemplate": "aderencia_investimento=nao<br>escolaridade=%{x}<br>count=%{y}<extra></extra>",
         "legendgroup": "nao",
         "marker": {
          "color": "#EF553B",
          "pattern": {
           "shape": ""
          }
         },
         "name": "nao",
         "offsetgroup": "nao",
         "orientation": "v",
         "showlegend": true,
         "texttemplate": "%{value}",
         "type": "histogram",
         "x": [
          "superior",
          "superior",
          "medio",
          "fundamental",
          "medio",
          "fundamental",
          "superior",
          "superior",
          "fundamental",
          "medio",
          "medio",
          "medio",
          "medio",
          "medio",
          "medio",
          "fundamental",
          "medio",
          "medio",
          "medio",
          "medio",
          "medio",
          "superior",
          "medio",
          "medio",
          "fundamental",
          "superior",
          "superior",
          "superior",
          "superior",
          "superior",
          "superior",
          "medio",
          "superior",
          "medio",
          "medio",
          "fundamental",
          "superior",
          "medio",
          "medio",
          "superior",
          "medio",
          "fundamental",
          "fundamental",
          "superior",
          "superior",
          "medio",
          "superior",
          "medio",
          "fundamental",
          "medio",
          "superior",
          "superior",
          "medio",
          "superior",
          "medio",
          "medio",
          "fundamental",
          "fundamental",
          "medio",
          "superior",
          "medio",
          "fundamental",
          "superior",
          "medio",
          "medio",
          "medio",
          "medio",
          "superior",
          "superior",
          "superior",
          "superior",
          "fundamental",
          "superior",
          "medio",
          "medio",
          "medio",
          "fundamental",
          "medio",
          "fundamental",
          "medio",
          "superior",
          "medio",
          "medio",
          "superior",
          "medio",
          "medio",
          "fundamental",
          "medio",
          "medio",
          "superior",
          "medio",
          "medio",
          "medio",
          "medio",
          "superior",
          "medio",
          "medio",
          "medio",
          "superior",
          "medio",
          "medio",
          "superior",
          "medio",
          "medio",
          "superior",
          "medio",
          "medio",
          "superior",
          "medio",
          "medio",
          "fundamental",
          "superior",
          "medio",
          "medio",
          "medio",
          "medio",
          "medio",
          "fundamental",
          "medio",
          "superior",
          "medio",
          "medio",
          "medio",
          "superior",
          "medio",
          "medio",
          "superior",
          "fundamental",
          "medio",
          "medio",
          "medio",
          "medio",
          "medio",
          "medio",
          "medio",
          "medio",
          "superior",
          "medio",
          "medio",
          "fundamental",
          "medio",
          "medio",
          "superior",
          "superior",
          "superior",
          "medio",
          "medio",
          "medio",
          "superior",
          "fundamental",
          "superior",
          "fundamental",
          "medio",
          "medio",
          "medio",
          "medio",
          "fundamental",
          "medio",
          "medio",
          "fundamental",
          "superior",
          "fundamental",
          "fundamental",
          "superior",
          "medio",
          "fundamental",
          "medio",
          "medio",
          "superior",
          "medio",
          "fundamental",
          "superior",
          "superior",
          "medio",
          "superior",
          "medio",
          "medio",
          "fundamental",
          "medio",
          "fundamental",
          "medio",
          "superior",
          "superior",
          "medio",
          "medio",
          "superior",
          "medio",
          "superior",
          "medio",
          "superior",
          "superior",
          "medio",
          "medio",
          "superior",
          "superior",
          "fundamental",
          "medio",
          "superior",
          "medio",
          "medio",
          "fundamental",
          "fundamental",
          "medio",
          "medio",
          "medio",
          "fundamental",
          "medio",
          "medio",
          "superior",
          "superior",
          "fundamental",
          "medio",
          "medio",
          "medio",
          "superior",
          "fundamental",
          "superior",
          "superior",
          "medio",
          "superior",
          "superior",
          "superior",
          "medio",
          "medio",
          "fundamental",
          "superior",
          "medio",
          "medio",
          "fundamental",
          "medio",
          "fundamental",
          "superior",
          "medio",
          "medio",
          "medio",
          "medio",
          "medio",
          "medio",
          "medio",
          "medio",
          "medio",
          "medio",
          "medio",
          "medio",
          "medio",
          "superior",
          "fundamental",
          "fundamental",
          "superior",
          "medio",
          "medio",
          "superior",
          "medio",
          "fundamental",
          "superior",
          "fundamental",
          "superior",
          "medio",
          "superior",
          "fundamental",
          "medio",
          "medio",
          "fundamental",
          "superior",
          "medio",
          "medio",
          "fundamental",
          "superior",
          "medio",
          "superior",
          "medio",
          "medio",
          "medio",
          "medio",
          "superior",
          "medio",
          "medio",
          "fundamental",
          "superior",
          "medio",
          "superior",
          "medio",
          "medio",
          "superior",
          "superior",
          "superior",
          "superior",
          "superior",
          "medio",
          "medio",
          "medio",
          "medio",
          "medio",
          "medio",
          "medio",
          "medio",
          "fundamental",
          "fundamental",
          "medio",
          "medio",
          "superior",
          "medio",
          "superior",
          "medio",
          "medio",
          "superior",
          "superior",
          "medio",
          "medio",
          "medio",
          "medio",
          "medio",
          "medio",
          "medio",
          "superior",
          "medio",
          "superior",
          "fundamental",
          "medio",
          "medio",
          "medio",
          "medio",
          "medio",
          "superior",
          "medio",
          "medio",
          "medio",
          "superior",
          "fundamental",
          "superior",
          "medio",
          "superior",
          "superior",
          "medio",
          "superior",
          "superior",
          "superior",
          "medio",
          "medio",
          "fundamental",
          "medio",
          "fundamental",
          "medio",
          "fundamental",
          "medio",
          "medio",
          "fundamental",
          "fundamental",
          "medio",
          "superior",
          "medio",
          "medio",
          "superior",
          "medio",
          "medio",
          "fundamental",
          "fundamental",
          "fundamental",
          "medio",
          "medio",
          "superior",
          "medio",
          "fundamental",
          "superior",
          "medio",
          "fundamental",
          "fundamental",
          "superior",
          "fundamental",
          "medio",
          "medio",
          "medio",
          "medio",
          "fundamental",
          "medio",
          "medio",
          "medio",
          "fundamental",
          "medio",
          "superior",
          "medio",
          "medio",
          "medio",
          "medio",
          "medio",
          "medio",
          "superior",
          "medio",
          "medio",
          "medio",
          "superior",
          "medio",
          "medio",
          "medio",
          "fundamental",
          "superior",
          "superior",
          "superior",
          "medio",
          "superior",
          "fundamental",
          "medio",
          "medio",
          "superior",
          "superior",
          "medio",
          "superior",
          "superior",
          "medio",
          "medio",
          "fundamental",
          "medio",
          "medio",
          "fundamental",
          "medio",
          "medio",
          "superior",
          "fundamental",
          "fundamental",
          "superior",
          "medio",
          "medio",
          "medio",
          "superior",
          "medio",
          "superior",
          "medio",
          "superior",
          "fundamental",
          "medio",
          "superior",
          "medio",
          "fundamental",
          "medio",
          "superior",
          "superior",
          "medio",
          "medio",
          "superior",
          "fundamental",
          "medio",
          "medio",
          "superior",
          "fundamental",
          "medio",
          "superior",
          "medio",
          "superior",
          "superior",
          "superior",
          "superior",
          "fundamental",
          "medio",
          "superior",
          "medio",
          "medio",
          "superior",
          "medio",
          "superior",
          "superior",
          "superior",
          "superior",
          "medio",
          "fundamental",
          "medio",
          "medio",
          "superior",
          "fundamental",
          "superior",
          "medio",
          "medio",
          "medio",
          "medio",
          "medio",
          "medio",
          "medio",
          "medio",
          "medio",
          "fundamental",
          "fundamental",
          "medio",
          "medio",
          "superior",
          "medio",
          "fundamental",
          "medio",
          "fundamental",
          "superior",
          "medio",
          "medio",
          "medio",
          "medio",
          "medio",
          "superior",
          "fundamental",
          "medio",
          "medio",
          "medio",
          "medio",
          "medio",
          "medio",
          "superior",
          "superior",
          "medio",
          "medio",
          "superior",
          "superior",
          "medio",
          "medio",
          "medio",
          "medio",
          "medio",
          "medio",
          "fundamental",
          "superior",
          "superior",
          "superior",
          "superior",
          "medio",
          "fundamental",
          "fundamental",
          "medio",
          "medio",
          "fundamental",
          "medio",
          "medio",
          "superior",
          "medio",
          "medio",
          "medio",
          "superior",
          "superior",
          "superior",
          "medio",
          "medio",
          "medio",
          "medio",
          "fundamental",
          "medio",
          "superior",
          "superior",
          "superior",
          "medio",
          "medio",
          "superior",
          "superior",
          "superior",
          "medio",
          "medio",
          "superior",
          "superior",
          "medio",
          "medio",
          "medio",
          "fundamental",
          "fundamental",
          "fundamental",
          "medio",
          "medio",
          "medio",
          "medio",
          "medio",
          "medio",
          "superior",
          "medio",
          "superior",
          "fundamental",
          "medio",
          "medio",
          "fundamental",
          "fundamental",
          "fundamental",
          "medio",
          "medio",
          "medio",
          "superior",
          "fundamental",
          "superior",
          "medio",
          "medio",
          "superior",
          "fundamental",
          "superior",
          "fundamental",
          "medio",
          "fundamental",
          "superior",
          "fundamental",
          "superior",
          "superior",
          "medio",
          "superior",
          "medio",
          "medio",
          "superior",
          "medio",
          "medio",
          "superior",
          "medio",
          "superior",
          "fundamental",
          "superior",
          "medio",
          "fundamental",
          "superior",
          "superior",
          "medio",
          "fundamental",
          "fundamental",
          "fundamental",
          "medio",
          "medio",
          "medio",
          "fundamental",
          "superior",
          "medio",
          "medio",
          "medio",
          "medio",
          "medio",
          "medio",
          "medio",
          "medio",
          "superior",
          "superior",
          "medio",
          "superior",
          "medio",
          "superior",
          "medio",
          "medio",
          "medio",
          "superior",
          "medio",
          "medio",
          "superior",
          "fundamental",
          "medio",
          "medio",
          "superior",
          "medio",
          "medio",
          "medio",
          "superior",
          "medio",
          "medio",
          "fundamental",
          "fundamental",
          "fundamental",
          "superior",
          "medio",
          "medio",
          "superior",
          "superior",
          "fundamental",
          "medio",
          "medio",
          "medio",
          "medio",
          "medio",
          "medio",
          "fundamental",
          "fundamental",
          "superior",
          "medio",
          "medio",
          "medio",
          "superior",
          "superior",
          "medio",
          "superior",
          "fundamental",
          "superior",
          "superior",
          "medio",
          "medio",
          "medio",
          "fundamental",
          "medio",
          "medio",
          "medio",
          "fundamental",
          "superior",
          "superior",
          "medio",
          "medio",
          "medio",
          "medio",
          "superior",
          "medio",
          "superior",
          "superior",
          "medio",
          "medio",
          "medio",
          "superior",
          "fundamental",
          "medio",
          "medio",
          "fundamental",
          "medio",
          "medio",
          "fundamental",
          "superior",
          "medio",
          "medio",
          "superior",
          "medio",
          "fundamental",
          "superior",
          "medio",
          "fundamental",
          "superior",
          "superior",
          "medio",
          "superior",
          "fundamental",
          "superior",
          "medio",
          "fundamental",
          "medio",
          "medio",
          "superior",
          "fundamental",
          "medio",
          "medio",
          "medio",
          "medio",
          "medio",
          "medio",
          "fundamental",
          "medio",
          "medio",
          "medio",
          "medio",
          "medio",
          "superior",
          "medio",
          "medio",
          "superior",
          "superior",
          "medio",
          "superior",
          "fundamental",
          "superior",
          "fundamental",
          "superior",
          "medio",
          "medio",
          "medio",
          "medio",
          "medio",
          "fundamental",
          "medio",
          "medio",
          "fundamental",
          "medio",
          "superior",
          "superior",
          "superior",
          "medio",
          "medio",
          "medio",
          "medio",
          "medio",
          "medio"
         ],
         "xaxis": "x",
         "yaxis": "y"
        }
       ],
       "layout": {
        "barmode": "group",
        "legend": {
         "title": {
          "text": "aderencia_investimento"
         },
         "tracegroupgap": 0
        },
        "margin": {
         "t": 60
        },
        "template": {
         "data": {
          "bar": [
           {
            "error_x": {
             "color": "#2a3f5f"
            },
            "error_y": {
             "color": "#2a3f5f"
            },
            "marker": {
             "line": {
              "color": "#E5ECF6",
              "width": 0.5
             },
             "pattern": {
              "fillmode": "overlay",
              "size": 10,
              "solidity": 0.2
             }
            },
            "type": "bar"
           }
          ],
          "barpolar": [
           {
            "marker": {
             "line": {
              "color": "#E5ECF6",
              "width": 0.5
             },
             "pattern": {
              "fillmode": "overlay",
              "size": 10,
              "solidity": 0.2
             }
            },
            "type": "barpolar"
           }
          ],
          "carpet": [
           {
            "aaxis": {
             "endlinecolor": "#2a3f5f",
             "gridcolor": "white",
             "linecolor": "white",
             "minorgridcolor": "white",
             "startlinecolor": "#2a3f5f"
            },
            "baxis": {
             "endlinecolor": "#2a3f5f",
             "gridcolor": "white",
             "linecolor": "white",
             "minorgridcolor": "white",
             "startlinecolor": "#2a3f5f"
            },
            "type": "carpet"
           }
          ],
          "choropleth": [
           {
            "colorbar": {
             "outlinewidth": 0,
             "ticks": ""
            },
            "type": "choropleth"
           }
          ],
          "contour": [
           {
            "colorbar": {
             "outlinewidth": 0,
             "ticks": ""
            },
            "colorscale": [
             [
              0,
              "#0d0887"
             ],
             [
              0.1111111111111111,
              "#46039f"
             ],
             [
              0.2222222222222222,
              "#7201a8"
             ],
             [
              0.3333333333333333,
              "#9c179e"
             ],
             [
              0.4444444444444444,
              "#bd3786"
             ],
             [
              0.5555555555555556,
              "#d8576b"
             ],
             [
              0.6666666666666666,
              "#ed7953"
             ],
             [
              0.7777777777777778,
              "#fb9f3a"
             ],
             [
              0.8888888888888888,
              "#fdca26"
             ],
             [
              1,
              "#f0f921"
             ]
            ],
            "type": "contour"
           }
          ],
          "contourcarpet": [
           {
            "colorbar": {
             "outlinewidth": 0,
             "ticks": ""
            },
            "type": "contourcarpet"
           }
          ],
          "heatmap": [
           {
            "colorbar": {
             "outlinewidth": 0,
             "ticks": ""
            },
            "colorscale": [
             [
              0,
              "#0d0887"
             ],
             [
              0.1111111111111111,
              "#46039f"
             ],
             [
              0.2222222222222222,
              "#7201a8"
             ],
             [
              0.3333333333333333,
              "#9c179e"
             ],
             [
              0.4444444444444444,
              "#bd3786"
             ],
             [
              0.5555555555555556,
              "#d8576b"
             ],
             [
              0.6666666666666666,
              "#ed7953"
             ],
             [
              0.7777777777777778,
              "#fb9f3a"
             ],
             [
              0.8888888888888888,
              "#fdca26"
             ],
             [
              1,
              "#f0f921"
             ]
            ],
            "type": "heatmap"
           }
          ],
          "histogram": [
           {
            "marker": {
             "pattern": {
              "fillmode": "overlay",
              "size": 10,
              "solidity": 0.2
             }
            },
            "type": "histogram"
           }
          ],
          "histogram2d": [
           {
            "colorbar": {
             "outlinewidth": 0,
             "ticks": ""
            },
            "colorscale": [
             [
              0,
              "#0d0887"
             ],
             [
              0.1111111111111111,
              "#46039f"
             ],
             [
              0.2222222222222222,
              "#7201a8"
             ],
             [
              0.3333333333333333,
              "#9c179e"
             ],
             [
              0.4444444444444444,
              "#bd3786"
             ],
             [
              0.5555555555555556,
              "#d8576b"
             ],
             [
              0.6666666666666666,
              "#ed7953"
             ],
             [
              0.7777777777777778,
              "#fb9f3a"
             ],
             [
              0.8888888888888888,
              "#fdca26"
             ],
             [
              1,
              "#f0f921"
             ]
            ],
            "type": "histogram2d"
           }
          ],
          "histogram2dcontour": [
           {
            "colorbar": {
             "outlinewidth": 0,
             "ticks": ""
            },
            "colorscale": [
             [
              0,
              "#0d0887"
             ],
             [
              0.1111111111111111,
              "#46039f"
             ],
             [
              0.2222222222222222,
              "#7201a8"
             ],
             [
              0.3333333333333333,
              "#9c179e"
             ],
             [
              0.4444444444444444,
              "#bd3786"
             ],
             [
              0.5555555555555556,
              "#d8576b"
             ],
             [
              0.6666666666666666,
              "#ed7953"
             ],
             [
              0.7777777777777778,
              "#fb9f3a"
             ],
             [
              0.8888888888888888,
              "#fdca26"
             ],
             [
              1,
              "#f0f921"
             ]
            ],
            "type": "histogram2dcontour"
           }
          ],
          "mesh3d": [
           {
            "colorbar": {
             "outlinewidth": 0,
             "ticks": ""
            },
            "type": "mesh3d"
           }
          ],
          "parcoords": [
           {
            "line": {
             "colorbar": {
              "outlinewidth": 0,
              "ticks": ""
             }
            },
            "type": "parcoords"
           }
          ],
          "pie": [
           {
            "automargin": true,
            "type": "pie"
           }
          ],
          "scatter": [
           {
            "fillpattern": {
             "fillmode": "overlay",
             "size": 10,
             "solidity": 0.2
            },
            "type": "scatter"
           }
          ],
          "scatter3d": [
           {
            "line": {
             "colorbar": {
              "outlinewidth": 0,
              "ticks": ""
             }
            },
            "marker": {
             "colorbar": {
              "outlinewidth": 0,
              "ticks": ""
             }
            },
            "type": "scatter3d"
           }
          ],
          "scattercarpet": [
           {
            "marker": {
             "colorbar": {
              "outlinewidth": 0,
              "ticks": ""
             }
            },
            "type": "scattercarpet"
           }
          ],
          "scattergeo": [
           {
            "marker": {
             "colorbar": {
              "outlinewidth": 0,
              "ticks": ""
             }
            },
            "type": "scattergeo"
           }
          ],
          "scattergl": [
           {
            "marker": {
             "colorbar": {
              "outlinewidth": 0,
              "ticks": ""
             }
            },
            "type": "scattergl"
           }
          ],
          "scattermap": [
           {
            "marker": {
             "colorbar": {
              "outlinewidth": 0,
              "ticks": ""
             }
            },
            "type": "scattermap"
           }
          ],
          "scattermapbox": [
           {
            "marker": {
             "colorbar": {
              "outlinewidth": 0,
              "ticks": ""
             }
            },
            "type": "scattermapbox"
           }
          ],
          "scatterpolar": [
           {
            "marker": {
             "colorbar": {
              "outlinewidth": 0,
              "ticks": ""
             }
            },
            "type": "scatterpolar"
           }
          ],
          "scatterpolargl": [
           {
            "marker": {
             "colorbar": {
              "outlinewidth": 0,
              "ticks": ""
             }
            },
            "type": "scatterpolargl"
           }
          ],
          "scatterternary": [
           {
            "marker": {
             "colorbar": {
              "outlinewidth": 0,
              "ticks": ""
             }
            },
            "type": "scatterternary"
           }
          ],
          "surface": [
           {
            "colorbar": {
             "outlinewidth": 0,
             "ticks": ""
            },
            "colorscale": [
             [
              0,
              "#0d0887"
             ],
             [
              0.1111111111111111,
              "#46039f"
             ],
             [
              0.2222222222222222,
              "#7201a8"
             ],
             [
              0.3333333333333333,
              "#9c179e"
             ],
             [
              0.4444444444444444,
              "#bd3786"
             ],
             [
              0.5555555555555556,
              "#d8576b"
             ],
             [
              0.6666666666666666,
              "#ed7953"
             ],
             [
              0.7777777777777778,
              "#fb9f3a"
             ],
             [
              0.8888888888888888,
              "#fdca26"
             ],
             [
              1,
              "#f0f921"
             ]
            ],
            "type": "surface"
           }
          ],
          "table": [
           {
            "cells": {
             "fill": {
              "color": "#EBF0F8"
             },
             "line": {
              "color": "white"
             }
            },
            "header": {
             "fill": {
              "color": "#C8D4E3"
             },
             "line": {
              "color": "white"
             }
            },
            "type": "table"
           }
          ]
         },
         "layout": {
          "annotationdefaults": {
           "arrowcolor": "#2a3f5f",
           "arrowhead": 0,
           "arrowwidth": 1
          },
          "autotypenumbers": "strict",
          "coloraxis": {
           "colorbar": {
            "outlinewidth": 0,
            "ticks": ""
           }
          },
          "colorscale": {
           "diverging": [
            [
             0,
             "#8e0152"
            ],
            [
             0.1,
             "#c51b7d"
            ],
            [
             0.2,
             "#de77ae"
            ],
            [
             0.3,
             "#f1b6da"
            ],
            [
             0.4,
             "#fde0ef"
            ],
            [
             0.5,
             "#f7f7f7"
            ],
            [
             0.6,
             "#e6f5d0"
            ],
            [
             0.7,
             "#b8e186"
            ],
            [
             0.8,
             "#7fbc41"
            ],
            [
             0.9,
             "#4d9221"
            ],
            [
             1,
             "#276419"
            ]
           ],
           "sequential": [
            [
             0,
             "#0d0887"
            ],
            [
             0.1111111111111111,
             "#46039f"
            ],
            [
             0.2222222222222222,
             "#7201a8"
            ],
            [
             0.3333333333333333,
             "#9c179e"
            ],
            [
             0.4444444444444444,
             "#bd3786"
            ],
            [
             0.5555555555555556,
             "#d8576b"
            ],
            [
             0.6666666666666666,
             "#ed7953"
            ],
            [
             0.7777777777777778,
             "#fb9f3a"
            ],
            [
             0.8888888888888888,
             "#fdca26"
            ],
            [
             1,
             "#f0f921"
            ]
           ],
           "sequentialminus": [
            [
             0,
             "#0d0887"
            ],
            [
             0.1111111111111111,
             "#46039f"
            ],
            [
             0.2222222222222222,
             "#7201a8"
            ],
            [
             0.3333333333333333,
             "#9c179e"
            ],
            [
             0.4444444444444444,
             "#bd3786"
            ],
            [
             0.5555555555555556,
             "#d8576b"
            ],
            [
             0.6666666666666666,
             "#ed7953"
            ],
            [
             0.7777777777777778,
             "#fb9f3a"
            ],
            [
             0.8888888888888888,
             "#fdca26"
            ],
            [
             1,
             "#f0f921"
            ]
           ]
          },
          "colorway": [
           "#636efa",
           "#EF553B",
           "#00cc96",
           "#ab63fa",
           "#FFA15A",
           "#19d3f3",
           "#FF6692",
           "#B6E880",
           "#FF97FF",
           "#FECB52"
          ],
          "font": {
           "color": "#2a3f5f"
          },
          "geo": {
           "bgcolor": "white",
           "lakecolor": "white",
           "landcolor": "#E5ECF6",
           "showlakes": true,
           "showland": true,
           "subunitcolor": "white"
          },
          "hoverlabel": {
           "align": "left"
          },
          "hovermode": "closest",
          "mapbox": {
           "style": "light"
          },
          "paper_bgcolor": "white",
          "plot_bgcolor": "#E5ECF6",
          "polar": {
           "angularaxis": {
            "gridcolor": "white",
            "linecolor": "white",
            "ticks": ""
           },
           "bgcolor": "#E5ECF6",
           "radialaxis": {
            "gridcolor": "white",
            "linecolor": "white",
            "ticks": ""
           }
          },
          "scene": {
           "xaxis": {
            "backgroundcolor": "#E5ECF6",
            "gridcolor": "white",
            "gridwidth": 2,
            "linecolor": "white",
            "showbackground": true,
            "ticks": "",
            "zerolinecolor": "white"
           },
           "yaxis": {
            "backgroundcolor": "#E5ECF6",
            "gridcolor": "white",
            "gridwidth": 2,
            "linecolor": "white",
            "showbackground": true,
            "ticks": "",
            "zerolinecolor": "white"
           },
           "zaxis": {
            "backgroundcolor": "#E5ECF6",
            "gridcolor": "white",
            "gridwidth": 2,
            "linecolor": "white",
            "showbackground": true,
            "ticks": "",
            "zerolinecolor": "white"
           }
          },
          "shapedefaults": {
           "line": {
            "color": "#2a3f5f"
           }
          },
          "ternary": {
           "aaxis": {
            "gridcolor": "white",
            "linecolor": "white",
            "ticks": ""
           },
           "baxis": {
            "gridcolor": "white",
            "linecolor": "white",
            "ticks": ""
           },
           "bgcolor": "#E5ECF6",
           "caxis": {
            "gridcolor": "white",
            "linecolor": "white",
            "ticks": ""
           }
          },
          "title": {
           "x": 0.05
          },
          "xaxis": {
           "automargin": true,
           "gridcolor": "white",
           "linecolor": "white",
           "ticks": "",
           "title": {
            "standoff": 15
           },
           "zerolinecolor": "white",
           "zerolinewidth": 2
          },
          "yaxis": {
           "automargin": true,
           "gridcolor": "white",
           "linecolor": "white",
           "ticks": "",
           "title": {
            "standoff": 15
           },
           "zerolinecolor": "white",
           "zerolinewidth": 2
          }
         }
        },
        "xaxis": {
         "anchor": "y",
         "domain": [
          0,
          1
         ],
         "title": {
          "text": "escolaridade"
         }
        },
        "yaxis": {
         "anchor": "x",
         "domain": [
          0,
          1
         ],
         "title": {
          "text": "count"
         }
        }
       }
      }
     },
     "metadata": {},
     "output_type": "display_data"
    },
    {
     "data": {
      "application/vnd.plotly.v1+json": {
       "config": {
        "plotlyServerURL": "https://plot.ly"
       },
       "data": [
        {
         "alignmentgroup": "True",
         "bingroup": "x",
         "hovertemplate": "aderencia_investimento=sim<br>inadimplencia=%{x}<br>count=%{y}<extra></extra>",
         "legendgroup": "sim",
         "marker": {
          "color": "#636efa",
          "pattern": {
           "shape": ""
          }
         },
         "name": "sim",
         "offsetgroup": "sim",
         "orientation": "v",
         "showlegend": true,
         "texttemplate": "%{value}",
         "type": "histogram",
         "x": [
          "nao",
          "nao",
          "nao",
          "nao",
          "nao",
          "nao",
          "nao",
          "nao",
          "nao",
          "nao",
          "nao",
          "nao",
          "nao",
          "nao",
          "nao",
          "nao",
          "nao",
          "nao",
          "nao",
          "nao",
          "nao",
          "nao",
          "nao",
          "nao",
          "nao",
          "nao",
          "nao",
          "nao",
          "nao",
          "nao",
          "nao",
          "nao",
          "nao",
          "nao",
          "nao",
          "nao",
          "nao",
          "nao",
          "nao",
          "nao",
          "nao",
          "nao",
          "nao",
          "nao",
          "nao",
          "sim",
          "nao",
          "nao",
          "nao",
          "nao",
          "nao",
          "nao",
          "nao",
          "nao",
          "nao",
          "nao",
          "nao",
          "nao",
          "nao",
          "nao",
          "nao",
          "nao",
          "nao",
          "nao",
          "nao",
          "nao",
          "nao",
          "nao",
          "nao",
          "nao",
          "nao",
          "nao",
          "nao",
          "nao",
          "nao",
          "nao",
          "nao",
          "nao",
          "nao",
          "nao",
          "nao",
          "nao",
          "nao",
          "nao",
          "nao",
          "nao",
          "nao",
          "nao",
          "nao",
          "nao",
          "nao",
          "nao",
          "nao",
          "nao",
          "nao",
          "nao",
          "nao",
          "nao",
          "nao",
          "nao",
          "nao",
          "nao",
          "nao",
          "nao",
          "nao",
          "nao",
          "nao",
          "nao",
          "nao",
          "nao",
          "nao",
          "nao",
          "nao",
          "nao",
          "nao",
          "nao",
          "nao",
          "nao",
          "nao",
          "nao",
          "nao",
          "nao",
          "nao",
          "nao",
          "nao",
          "nao",
          "nao",
          "nao",
          "nao",
          "nao",
          "nao",
          "nao",
          "nao",
          "nao",
          "nao",
          "nao",
          "nao",
          "nao",
          "nao",
          "nao",
          "nao",
          "nao",
          "nao",
          "nao",
          "nao",
          "nao",
          "nao",
          "nao",
          "nao",
          "nao",
          "nao",
          "nao",
          "nao",
          "nao",
          "nao",
          "nao",
          "nao",
          "nao",
          "sim",
          "nao",
          "nao",
          "nao",
          "nao",
          "nao",
          "nao",
          "nao",
          "nao",
          "nao",
          "sim",
          "nao",
          "nao",
          "nao",
          "nao",
          "nao",
          "nao",
          "nao",
          "nao",
          "nao",
          "nao",
          "nao",
          "nao",
          "nao",
          "nao",
          "nao",
          "nao",
          "nao",
          "nao",
          "nao",
          "nao",
          "nao",
          "nao",
          "nao",
          "nao",
          "nao",
          "nao",
          "nao",
          "nao",
          "nao",
          "nao",
          "nao",
          "nao",
          "nao",
          "nao",
          "nao",
          "nao",
          "nao",
          "nao",
          "nao",
          "nao",
          "nao",
          "sim",
          "nao",
          "nao",
          "nao",
          "nao",
          "nao",
          "nao",
          "nao",
          "nao",
          "nao",
          "nao",
          "nao",
          "nao",
          "nao",
          "nao",
          "nao",
          "nao",
          "nao",
          "nao",
          "nao",
          "nao",
          "nao",
          "nao",
          "nao",
          "nao",
          "nao",
          "nao",
          "nao",
          "nao",
          "nao",
          "nao",
          "nao",
          "nao",
          "nao",
          "nao",
          "nao",
          "nao",
          "nao",
          "nao",
          "nao",
          "nao",
          "nao",
          "nao",
          "nao",
          "nao",
          "nao",
          "nao",
          "nao",
          "nao",
          "nao",
          "nao",
          "nao",
          "nao",
          "nao",
          "nao",
          "nao",
          "nao",
          "nao",
          "nao",
          "nao",
          "nao",
          "nao",
          "nao",
          "nao",
          "nao",
          "nao",
          "nao",
          "nao",
          "nao",
          "nao",
          "nao",
          "nao",
          "nao",
          "nao",
          "nao",
          "nao",
          "nao",
          "nao",
          "nao",
          "nao",
          "nao",
          "nao",
          "nao",
          "nao",
          "nao",
          "nao",
          "nao",
          "nao",
          "nao",
          "nao",
          "nao",
          "nao",
          "nao",
          "nao",
          "nao",
          "nao",
          "nao",
          "nao",
          "nao",
          "nao",
          "nao",
          "nao",
          "nao",
          "nao",
          "nao",
          "nao",
          "nao",
          "nao",
          "nao",
          "nao",
          "nao",
          "nao",
          "nao",
          "nao",
          "nao",
          "nao",
          "nao",
          "nao",
          "nao",
          "nao",
          "nao",
          "nao",
          "nao",
          "nao",
          "nao",
          "nao",
          "nao",
          "nao",
          "nao",
          "nao",
          "nao",
          "nao",
          "nao",
          "nao",
          "nao",
          "nao",
          "nao",
          "nao",
          "nao",
          "nao",
          "nao",
          "nao",
          "nao",
          "nao",
          "nao",
          "nao",
          "nao",
          "nao",
          "nao",
          "nao",
          "nao",
          "nao",
          "nao",
          "nao",
          "nao",
          "nao",
          "nao",
          "nao",
          "nao",
          "nao",
          "nao",
          "nao",
          "nao",
          "nao",
          "nao",
          "nao",
          "nao",
          "nao",
          "nao",
          "nao",
          "nao",
          "nao",
          "nao",
          "nao",
          "nao",
          "nao",
          "nao",
          "sim",
          "nao",
          "nao",
          "nao",
          "nao",
          "nao",
          "nao",
          "nao",
          "nao",
          "nao",
          "nao",
          "nao",
          "nao",
          "nao",
          "sim",
          "nao",
          "nao",
          "nao",
          "nao",
          "nao",
          "nao",
          "nao",
          "nao",
          "nao",
          "nao",
          "nao",
          "nao",
          "nao",
          "nao",
          "nao",
          "nao",
          "nao",
          "nao",
          "nao",
          "nao",
          "nao",
          "nao",
          "nao",
          "nao",
          "nao",
          "nao",
          "nao",
          "nao",
          "nao",
          "nao",
          "nao",
          "nao",
          "nao",
          "nao",
          "nao",
          "nao",
          "nao",
          "nao",
          "nao",
          "nao",
          "nao",
          "nao",
          "nao",
          "nao",
          "nao",
          "nao",
          "sim",
          "nao",
          "nao",
          "nao",
          "nao",
          "nao",
          "nao",
          "nao",
          "nao",
          "nao",
          "nao",
          "nao",
          "nao",
          "nao",
          "nao",
          "nao",
          "nao",
          "nao",
          "nao",
          "nao",
          "nao",
          "nao",
          "nao",
          "nao",
          "nao",
          "nao",
          "nao",
          "nao",
          "sim",
          "nao",
          "nao",
          "nao",
          "nao",
          "nao",
          "nao",
          "nao",
          "nao",
          "nao",
          "nao",
          "nao",
          "nao",
          "nao",
          "nao",
          "nao",
          "nao",
          "nao",
          "nao",
          "nao",
          "nao",
          "nao",
          "nao",
          "nao",
          "nao",
          "nao"
         ],
         "xaxis": "x",
         "yaxis": "y"
        },
        {
         "alignmentgroup": "True",
         "bingroup": "x",
         "hovertemplate": "aderencia_investimento=nao<br>inadimplencia=%{x}<br>count=%{y}<extra></extra>",
         "legendgroup": "nao",
         "marker": {
          "color": "#EF553B",
          "pattern": {
           "shape": ""
          }
         },
         "name": "nao",
         "offsetgroup": "nao",
         "orientation": "v",
         "showlegend": true,
         "texttemplate": "%{value}",
         "type": "histogram",
         "x": [
          "nao",
          "nao",
          "nao",
          "nao",
          "nao",
          "nao",
          "nao",
          "nao",
          "nao",
          "nao",
          "nao",
          "nao",
          "nao",
          "nao",
          "nao",
          "nao",
          "nao",
          "nao",
          "nao",
          "nao",
          "nao",
          "nao",
          "nao",
          "sim",
          "nao",
          "nao",
          "nao",
          "nao",
          "nao",
          "nao",
          "nao",
          "nao",
          "nao",
          "nao",
          "nao",
          "nao",
          "nao",
          "nao",
          "nao",
          "nao",
          "nao",
          "nao",
          "nao",
          "nao",
          "nao",
          "nao",
          "nao",
          "nao",
          "nao",
          "nao",
          "nao",
          "nao",
          "nao",
          "nao",
          "nao",
          "nao",
          "sim",
          "nao",
          "nao",
          "nao",
          "nao",
          "nao",
          "nao",
          "nao",
          "nao",
          "nao",
          "nao",
          "nao",
          "nao",
          "nao",
          "nao",
          "nao",
          "nao",
          "nao",
          "nao",
          "nao",
          "nao",
          "nao",
          "nao",
          "nao",
          "nao",
          "nao",
          "nao",
          "nao",
          "nao",
          "nao",
          "nao",
          "nao",
          "nao",
          "nao",
          "nao",
          "nao",
          "nao",
          "nao",
          "nao",
          "nao",
          "nao",
          "nao",
          "nao",
          "nao",
          "nao",
          "nao",
          "nao",
          "nao",
          "nao",
          "nao",
          "nao",
          "nao",
          "nao",
          "nao",
          "nao",
          "sim",
          "nao",
          "nao",
          "sim",
          "nao",
          "nao",
          "nao",
          "nao",
          "nao",
          "nao",
          "nao",
          "nao",
          "nao",
          "nao",
          "nao",
          "nao",
          "nao",
          "nao",
          "nao",
          "nao",
          "nao",
          "nao",
          "nao",
          "nao",
          "nao",
          "nao",
          "nao",
          "nao",
          "nao",
          "nao",
          "nao",
          "nao",
          "nao",
          "nao",
          "nao",
          "nao",
          "nao",
          "nao",
          "nao",
          "nao",
          "nao",
          "nao",
          "nao",
          "nao",
          "nao",
          "nao",
          "nao",
          "nao",
          "nao",
          "nao",
          "nao",
          "nao",
          "nao",
          "sim",
          "nao",
          "nao",
          "nao",
          "nao",
          "nao",
          "nao",
          "nao",
          "nao",
          "nao",
          "nao",
          "nao",
          "nao",
          "nao",
          "nao",
          "nao",
          "nao",
          "nao",
          "nao",
          "nao",
          "nao",
          "nao",
          "nao",
          "nao",
          "nao",
          "nao",
          "nao",
          "nao",
          "nao",
          "nao",
          "nao",
          "nao",
          "nao",
          "nao",
          "nao",
          "nao",
          "nao",
          "nao",
          "nao",
          "nao",
          "nao",
          "nao",
          "nao",
          "nao",
          "nao",
          "nao",
          "nao",
          "nao",
          "nao",
          "nao",
          "nao",
          "nao",
          "nao",
          "nao",
          "nao",
          "nao",
          "nao",
          "nao",
          "nao",
          "nao",
          "nao",
          "nao",
          "nao",
          "nao",
          "nao",
          "nao",
          "nao",
          "nao",
          "nao",
          "nao",
          "nao",
          "nao",
          "nao",
          "nao",
          "nao",
          "nao",
          "nao",
          "nao",
          "nao",
          "nao",
          "nao",
          "nao",
          "nao",
          "nao",
          "nao",
          "nao",
          "nao",
          "nao",
          "nao",
          "nao",
          "nao",
          "nao",
          "nao",
          "nao",
          "nao",
          "nao",
          "nao",
          "nao",
          "nao",
          "nao",
          "nao",
          "nao",
          "nao",
          "nao",
          "nao",
          "nao",
          "nao",
          "nao",
          "nao",
          "nao",
          "nao",
          "nao",
          "nao",
          "nao",
          "nao",
          "nao",
          "nao",
          "nao",
          "nao",
          "nao",
          "nao",
          "nao",
          "nao",
          "nao",
          "nao",
          "nao",
          "nao",
          "nao",
          "nao",
          "nao",
          "nao",
          "nao",
          "nao",
          "nao",
          "nao",
          "nao",
          "nao",
          "nao",
          "nao",
          "nao",
          "nao",
          "sim",
          "nao",
          "sim",
          "nao",
          "nao",
          "nao",
          "nao",
          "nao",
          "nao",
          "nao",
          "nao",
          "nao",
          "nao",
          "nao",
          "nao",
          "nao",
          "nao",
          "nao",
          "nao",
          "nao",
          "nao",
          "sim",
          "nao",
          "nao",
          "nao",
          "nao",
          "nao",
          "nao",
          "nao",
          "nao",
          "nao",
          "nao",
          "nao",
          "nao",
          "nao",
          "nao",
          "nao",
          "nao",
          "nao",
          "nao",
          "nao",
          "nao",
          "nao",
          "nao",
          "nao",
          "nao",
          "nao",
          "nao",
          "nao",
          "nao",
          "nao",
          "nao",
          "nao",
          "nao",
          "nao",
          "nao",
          "nao",
          "nao",
          "nao",
          "sim",
          "nao",
          "nao",
          "nao",
          "nao",
          "nao",
          "nao",
          "nao",
          "nao",
          "nao",
          "nao",
          "nao",
          "nao",
          "nao",
          "nao",
          "nao",
          "nao",
          "nao",
          "nao",
          "nao",
          "nao",
          "nao",
          "nao",
          "nao",
          "nao",
          "nao",
          "nao",
          "nao",
          "nao",
          "nao",
          "nao",
          "nao",
          "nao",
          "nao",
          "nao",
          "nao",
          "nao",
          "nao",
          "nao",
          "nao",
          "nao",
          "nao",
          "nao",
          "nao",
          "nao",
          "nao",
          "nao",
          "nao",
          "nao",
          "nao",
          "nao",
          "nao",
          "nao",
          "nao",
          "nao",
          "nao",
          "nao",
          "nao",
          "nao",
          "nao",
          "nao",
          "nao",
          "nao",
          "nao",
          "nao",
          "nao",
          "nao",
          "nao",
          "nao",
          "nao",
          "nao",
          "nao",
          "nao",
          "nao",
          "nao",
          "nao",
          "nao",
          "nao",
          "nao",
          "nao",
          "nao",
          "nao",
          "nao",
          "nao",
          "sim",
          "nao",
          "nao",
          "nao",
          "nao",
          "nao",
          "nao",
          "nao",
          "nao",
          "nao",
          "nao",
          "nao",
          "nao",
          "nao",
          "nao",
          "nao",
          "nao",
          "nao",
          "nao",
          "nao",
          "nao",
          "nao",
          "nao",
          "nao",
          "nao",
          "nao",
          "nao",
          "nao",
          "nao",
          "nao",
          "nao",
          "nao",
          "nao",
          "nao",
          "nao",
          "nao",
          "nao",
          "nao",
          "nao",
          "nao",
          "nao",
          "nao",
          "nao",
          "nao",
          "nao",
          "nao",
          "nao",
          "nao",
          "nao",
          "nao",
          "nao",
          "nao",
          "nao",
          "nao",
          "nao",
          "nao",
          "nao",
          "nao",
          "nao",
          "nao",
          "nao",
          "nao",
          "nao",
          "nao",
          "nao",
          "nao",
          "nao",
          "nao",
          "nao",
          "nao",
          "nao",
          "nao",
          "nao",
          "nao",
          "nao",
          "nao",
          "nao",
          "nao",
          "nao",
          "nao",
          "nao",
          "nao",
          "nao",
          "nao",
          "nao",
          "nao",
          "nao",
          "nao",
          "nao",
          "nao",
          "nao",
          "nao",
          "nao",
          "nao",
          "nao",
          "nao",
          "nao",
          "nao",
          "nao",
          "nao",
          "nao",
          "nao",
          "nao",
          "nao",
          "nao",
          "nao",
          "nao",
          "nao",
          "nao",
          "nao",
          "nao",
          "nao",
          "nao",
          "nao",
          "nao",
          "nao",
          "nao",
          "nao",
          "nao",
          "nao",
          "nao",
          "nao",
          "nao",
          "nao",
          "nao",
          "sim",
          "nao",
          "nao",
          "nao",
          "nao",
          "nao",
          "nao",
          "nao",
          "nao",
          "nao",
          "nao",
          "nao",
          "sim",
          "nao",
          "nao",
          "nao",
          "nao",
          "nao",
          "nao",
          "nao",
          "nao",
          "nao",
          "nao",
          "nao",
          "nao",
          "nao",
          "nao",
          "nao",
          "nao",
          "nao",
          "nao",
          "nao",
          "nao",
          "nao",
          "nao",
          "nao",
          "nao",
          "nao",
          "nao",
          "nao",
          "nao",
          "nao",
          "nao",
          "nao",
          "nao",
          "nao",
          "nao",
          "nao",
          "nao",
          "nao",
          "nao",
          "nao",
          "nao",
          "nao",
          "nao",
          "nao",
          "nao",
          "nao",
          "nao",
          "nao",
          "nao",
          "nao",
          "nao",
          "nao",
          "nao",
          "nao",
          "nao",
          "nao",
          "nao",
          "nao",
          "nao",
          "nao",
          "nao",
          "nao",
          "nao",
          "nao",
          "nao",
          "nao",
          "nao",
          "nao",
          "nao",
          "nao",
          "nao",
          "nao",
          "nao",
          "nao",
          "nao",
          "nao",
          "nao",
          "nao",
          "nao",
          "nao",
          "nao",
          "nao",
          "nao",
          "nao",
          "nao",
          "nao",
          "nao",
          "nao",
          "nao",
          "nao",
          "nao",
          "nao",
          "nao",
          "nao",
          "nao",
          "nao",
          "nao",
          "nao",
          "nao",
          "nao",
          "nao",
          "nao",
          "nao",
          "nao",
          "nao",
          "sim",
          "nao",
          "sim",
          "nao",
          "nao",
          "nao",
          "nao",
          "nao",
          "nao",
          "nao",
          "nao",
          "nao",
          "nao",
          "nao",
          "nao",
          "nao",
          "nao",
          "nao",
          "nao",
          "nao",
          "nao",
          "nao",
          "nao",
          "nao",
          "nao",
          "nao",
          "nao",
          "nao",
          "nao",
          "nao",
          "nao",
          "nao",
          "nao",
          "nao",
          "nao",
          "nao",
          "nao",
          "nao",
          "nao",
          "nao",
          "nao",
          "nao",
          "nao",
          "nao",
          "nao",
          "nao",
          "sim",
          "nao",
          "nao",
          "nao",
          "nao",
          "nao",
          "nao",
          "nao",
          "nao",
          "nao",
          "nao",
          "nao",
          "nao",
          "nao",
          "nao",
          "nao",
          "nao",
          "nao",
          "nao",
          "nao",
          "nao",
          "nao",
          "nao",
          "nao",
          "nao",
          "nao",
          "nao",
          "nao",
          "nao",
          "nao"
         ],
         "xaxis": "x",
         "yaxis": "y"
        }
       ],
       "layout": {
        "barmode": "group",
        "legend": {
         "title": {
          "text": "aderencia_investimento"
         },
         "tracegroupgap": 0
        },
        "margin": {
         "t": 60
        },
        "template": {
         "data": {
          "bar": [
           {
            "error_x": {
             "color": "#2a3f5f"
            },
            "error_y": {
             "color": "#2a3f5f"
            },
            "marker": {
             "line": {
              "color": "#E5ECF6",
              "width": 0.5
             },
             "pattern": {
              "fillmode": "overlay",
              "size": 10,
              "solidity": 0.2
             }
            },
            "type": "bar"
           }
          ],
          "barpolar": [
           {
            "marker": {
             "line": {
              "color": "#E5ECF6",
              "width": 0.5
             },
             "pattern": {
              "fillmode": "overlay",
              "size": 10,
              "solidity": 0.2
             }
            },
            "type": "barpolar"
           }
          ],
          "carpet": [
           {
            "aaxis": {
             "endlinecolor": "#2a3f5f",
             "gridcolor": "white",
             "linecolor": "white",
             "minorgridcolor": "white",
             "startlinecolor": "#2a3f5f"
            },
            "baxis": {
             "endlinecolor": "#2a3f5f",
             "gridcolor": "white",
             "linecolor": "white",
             "minorgridcolor": "white",
             "startlinecolor": "#2a3f5f"
            },
            "type": "carpet"
           }
          ],
          "choropleth": [
           {
            "colorbar": {
             "outlinewidth": 0,
             "ticks": ""
            },
            "type": "choropleth"
           }
          ],
          "contour": [
           {
            "colorbar": {
             "outlinewidth": 0,
             "ticks": ""
            },
            "colorscale": [
             [
              0,
              "#0d0887"
             ],
             [
              0.1111111111111111,
              "#46039f"
             ],
             [
              0.2222222222222222,
              "#7201a8"
             ],
             [
              0.3333333333333333,
              "#9c179e"
             ],
             [
              0.4444444444444444,
              "#bd3786"
             ],
             [
              0.5555555555555556,
              "#d8576b"
             ],
             [
              0.6666666666666666,
              "#ed7953"
             ],
             [
              0.7777777777777778,
              "#fb9f3a"
             ],
             [
              0.8888888888888888,
              "#fdca26"
             ],
             [
              1,
              "#f0f921"
             ]
            ],
            "type": "contour"
           }
          ],
          "contourcarpet": [
           {
            "colorbar": {
             "outlinewidth": 0,
             "ticks": ""
            },
            "type": "contourcarpet"
           }
          ],
          "heatmap": [
           {
            "colorbar": {
             "outlinewidth": 0,
             "ticks": ""
            },
            "colorscale": [
             [
              0,
              "#0d0887"
             ],
             [
              0.1111111111111111,
              "#46039f"
             ],
             [
              0.2222222222222222,
              "#7201a8"
             ],
             [
              0.3333333333333333,
              "#9c179e"
             ],
             [
              0.4444444444444444,
              "#bd3786"
             ],
             [
              0.5555555555555556,
              "#d8576b"
             ],
             [
              0.6666666666666666,
              "#ed7953"
             ],
             [
              0.7777777777777778,
              "#fb9f3a"
             ],
             [
              0.8888888888888888,
              "#fdca26"
             ],
             [
              1,
              "#f0f921"
             ]
            ],
            "type": "heatmap"
           }
          ],
          "histogram": [
           {
            "marker": {
             "pattern": {
              "fillmode": "overlay",
              "size": 10,
              "solidity": 0.2
             }
            },
            "type": "histogram"
           }
          ],
          "histogram2d": [
           {
            "colorbar": {
             "outlinewidth": 0,
             "ticks": ""
            },
            "colorscale": [
             [
              0,
              "#0d0887"
             ],
             [
              0.1111111111111111,
              "#46039f"
             ],
             [
              0.2222222222222222,
              "#7201a8"
             ],
             [
              0.3333333333333333,
              "#9c179e"
             ],
             [
              0.4444444444444444,
              "#bd3786"
             ],
             [
              0.5555555555555556,
              "#d8576b"
             ],
             [
              0.6666666666666666,
              "#ed7953"
             ],
             [
              0.7777777777777778,
              "#fb9f3a"
             ],
             [
              0.8888888888888888,
              "#fdca26"
             ],
             [
              1,
              "#f0f921"
             ]
            ],
            "type": "histogram2d"
           }
          ],
          "histogram2dcontour": [
           {
            "colorbar": {
             "outlinewidth": 0,
             "ticks": ""
            },
            "colorscale": [
             [
              0,
              "#0d0887"
             ],
             [
              0.1111111111111111,
              "#46039f"
             ],
             [
              0.2222222222222222,
              "#7201a8"
             ],
             [
              0.3333333333333333,
              "#9c179e"
             ],
             [
              0.4444444444444444,
              "#bd3786"
             ],
             [
              0.5555555555555556,
              "#d8576b"
             ],
             [
              0.6666666666666666,
              "#ed7953"
             ],
             [
              0.7777777777777778,
              "#fb9f3a"
             ],
             [
              0.8888888888888888,
              "#fdca26"
             ],
             [
              1,
              "#f0f921"
             ]
            ],
            "type": "histogram2dcontour"
           }
          ],
          "mesh3d": [
           {
            "colorbar": {
             "outlinewidth": 0,
             "ticks": ""
            },
            "type": "mesh3d"
           }
          ],
          "parcoords": [
           {
            "line": {
             "colorbar": {
              "outlinewidth": 0,
              "ticks": ""
             }
            },
            "type": "parcoords"
           }
          ],
          "pie": [
           {
            "automargin": true,
            "type": "pie"
           }
          ],
          "scatter": [
           {
            "fillpattern": {
             "fillmode": "overlay",
             "size": 10,
             "solidity": 0.2
            },
            "type": "scatter"
           }
          ],
          "scatter3d": [
           {
            "line": {
             "colorbar": {
              "outlinewidth": 0,
              "ticks": ""
             }
            },
            "marker": {
             "colorbar": {
              "outlinewidth": 0,
              "ticks": ""
             }
            },
            "type": "scatter3d"
           }
          ],
          "scattercarpet": [
           {
            "marker": {
             "colorbar": {
              "outlinewidth": 0,
              "ticks": ""
             }
            },
            "type": "scattercarpet"
           }
          ],
          "scattergeo": [
           {
            "marker": {
             "colorbar": {
              "outlinewidth": 0,
              "ticks": ""
             }
            },
            "type": "scattergeo"
           }
          ],
          "scattergl": [
           {
            "marker": {
             "colorbar": {
              "outlinewidth": 0,
              "ticks": ""
             }
            },
            "type": "scattergl"
           }
          ],
          "scattermap": [
           {
            "marker": {
             "colorbar": {
              "outlinewidth": 0,
              "ticks": ""
             }
            },
            "type": "scattermap"
           }
          ],
          "scattermapbox": [
           {
            "marker": {
             "colorbar": {
              "outlinewidth": 0,
              "ticks": ""
             }
            },
            "type": "scattermapbox"
           }
          ],
          "scatterpolar": [
           {
            "marker": {
             "colorbar": {
              "outlinewidth": 0,
              "ticks": ""
             }
            },
            "type": "scatterpolar"
           }
          ],
          "scatterpolargl": [
           {
            "marker": {
             "colorbar": {
              "outlinewidth": 0,
              "ticks": ""
             }
            },
            "type": "scatterpolargl"
           }
          ],
          "scatterternary": [
           {
            "marker": {
             "colorbar": {
              "outlinewidth": 0,
              "ticks": ""
             }
            },
            "type": "scatterternary"
           }
          ],
          "surface": [
           {
            "colorbar": {
             "outlinewidth": 0,
             "ticks": ""
            },
            "colorscale": [
             [
              0,
              "#0d0887"
             ],
             [
              0.1111111111111111,
              "#46039f"
             ],
             [
              0.2222222222222222,
              "#7201a8"
             ],
             [
              0.3333333333333333,
              "#9c179e"
             ],
             [
              0.4444444444444444,
              "#bd3786"
             ],
             [
              0.5555555555555556,
              "#d8576b"
             ],
             [
              0.6666666666666666,
              "#ed7953"
             ],
             [
              0.7777777777777778,
              "#fb9f3a"
             ],
             [
              0.8888888888888888,
              "#fdca26"
             ],
             [
              1,
              "#f0f921"
             ]
            ],
            "type": "surface"
           }
          ],
          "table": [
           {
            "cells": {
             "fill": {
              "color": "#EBF0F8"
             },
             "line": {
              "color": "white"
             }
            },
            "header": {
             "fill": {
              "color": "#C8D4E3"
             },
             "line": {
              "color": "white"
             }
            },
            "type": "table"
           }
          ]
         },
         "layout": {
          "annotationdefaults": {
           "arrowcolor": "#2a3f5f",
           "arrowhead": 0,
           "arrowwidth": 1
          },
          "autotypenumbers": "strict",
          "coloraxis": {
           "colorbar": {
            "outlinewidth": 0,
            "ticks": ""
           }
          },
          "colorscale": {
           "diverging": [
            [
             0,
             "#8e0152"
            ],
            [
             0.1,
             "#c51b7d"
            ],
            [
             0.2,
             "#de77ae"
            ],
            [
             0.3,
             "#f1b6da"
            ],
            [
             0.4,
             "#fde0ef"
            ],
            [
             0.5,
             "#f7f7f7"
            ],
            [
             0.6,
             "#e6f5d0"
            ],
            [
             0.7,
             "#b8e186"
            ],
            [
             0.8,
             "#7fbc41"
            ],
            [
             0.9,
             "#4d9221"
            ],
            [
             1,
             "#276419"
            ]
           ],
           "sequential": [
            [
             0,
             "#0d0887"
            ],
            [
             0.1111111111111111,
             "#46039f"
            ],
            [
             0.2222222222222222,
             "#7201a8"
            ],
            [
             0.3333333333333333,
             "#9c179e"
            ],
            [
             0.4444444444444444,
             "#bd3786"
            ],
            [
             0.5555555555555556,
             "#d8576b"
            ],
            [
             0.6666666666666666,
             "#ed7953"
            ],
            [
             0.7777777777777778,
             "#fb9f3a"
            ],
            [
             0.8888888888888888,
             "#fdca26"
            ],
            [
             1,
             "#f0f921"
            ]
           ],
           "sequentialminus": [
            [
             0,
             "#0d0887"
            ],
            [
             0.1111111111111111,
             "#46039f"
            ],
            [
             0.2222222222222222,
             "#7201a8"
            ],
            [
             0.3333333333333333,
             "#9c179e"
            ],
            [
             0.4444444444444444,
             "#bd3786"
            ],
            [
             0.5555555555555556,
             "#d8576b"
            ],
            [
             0.6666666666666666,
             "#ed7953"
            ],
            [
             0.7777777777777778,
             "#fb9f3a"
            ],
            [
             0.8888888888888888,
             "#fdca26"
            ],
            [
             1,
             "#f0f921"
            ]
           ]
          },
          "colorway": [
           "#636efa",
           "#EF553B",
           "#00cc96",
           "#ab63fa",
           "#FFA15A",
           "#19d3f3",
           "#FF6692",
           "#B6E880",
           "#FF97FF",
           "#FECB52"
          ],
          "font": {
           "color": "#2a3f5f"
          },
          "geo": {
           "bgcolor": "white",
           "lakecolor": "white",
           "landcolor": "#E5ECF6",
           "showlakes": true,
           "showland": true,
           "subunitcolor": "white"
          },
          "hoverlabel": {
           "align": "left"
          },
          "hovermode": "closest",
          "mapbox": {
           "style": "light"
          },
          "paper_bgcolor": "white",
          "plot_bgcolor": "#E5ECF6",
          "polar": {
           "angularaxis": {
            "gridcolor": "white",
            "linecolor": "white",
            "ticks": ""
           },
           "bgcolor": "#E5ECF6",
           "radialaxis": {
            "gridcolor": "white",
            "linecolor": "white",
            "ticks": ""
           }
          },
          "scene": {
           "xaxis": {
            "backgroundcolor": "#E5ECF6",
            "gridcolor": "white",
            "gridwidth": 2,
            "linecolor": "white",
            "showbackground": true,
            "ticks": "",
            "zerolinecolor": "white"
           },
           "yaxis": {
            "backgroundcolor": "#E5ECF6",
            "gridcolor": "white",
            "gridwidth": 2,
            "linecolor": "white",
            "showbackground": true,
            "ticks": "",
            "zerolinecolor": "white"
           },
           "zaxis": {
            "backgroundcolor": "#E5ECF6",
            "gridcolor": "white",
            "gridwidth": 2,
            "linecolor": "white",
            "showbackground": true,
            "ticks": "",
            "zerolinecolor": "white"
           }
          },
          "shapedefaults": {
           "line": {
            "color": "#2a3f5f"
           }
          },
          "ternary": {
           "aaxis": {
            "gridcolor": "white",
            "linecolor": "white",
            "ticks": ""
           },
           "baxis": {
            "gridcolor": "white",
            "linecolor": "white",
            "ticks": ""
           },
           "bgcolor": "#E5ECF6",
           "caxis": {
            "gridcolor": "white",
            "linecolor": "white",
            "ticks": ""
           }
          },
          "title": {
           "x": 0.05
          },
          "xaxis": {
           "automargin": true,
           "gridcolor": "white",
           "linecolor": "white",
           "ticks": "",
           "title": {
            "standoff": 15
           },
           "zerolinecolor": "white",
           "zerolinewidth": 2
          },
          "yaxis": {
           "automargin": true,
           "gridcolor": "white",
           "linecolor": "white",
           "ticks": "",
           "title": {
            "standoff": 15
           },
           "zerolinecolor": "white",
           "zerolinewidth": 2
          }
         }
        },
        "xaxis": {
         "anchor": "y",
         "domain": [
          0,
          1
         ],
         "title": {
          "text": "inadimplencia"
         }
        },
        "yaxis": {
         "anchor": "x",
         "domain": [
          0,
          1
         ],
         "title": {
          "text": "count"
         }
        }
       }
      }
     },
     "metadata": {},
     "output_type": "display_data"
    },
    {
     "data": {
      "application/vnd.plotly.v1+json": {
       "config": {
        "plotlyServerURL": "https://plot.ly"
       },
       "data": [
        {
         "alignmentgroup": "True",
         "bingroup": "x",
         "hovertemplate": "aderencia_investimento=sim<br>fez_emprestimo=%{x}<br>count=%{y}<extra></extra>",
         "legendgroup": "sim",
         "marker": {
          "color": "#636efa",
          "pattern": {
           "shape": ""
          }
         },
         "name": "sim",
         "offsetgroup": "sim",
         "orientation": "v",
         "showlegend": true,
         "texttemplate": "%{value}",
         "type": "histogram",
         "x": [
          "nao",
          "nao",
          "nao",
          "nao",
          "sim",
          "nao",
          "sim",
          "nao",
          "nao",
          "nao",
          "nao",
          "nao",
          "nao",
          "nao",
          "nao",
          "nao",
          "nao",
          "sim",
          "nao",
          "nao",
          "nao",
          "nao",
          "nao",
          "nao",
          "nao",
          "nao",
          "nao",
          "nao",
          "sim",
          "nao",
          "nao",
          "nao",
          "nao",
          "nao",
          "nao",
          "nao",
          "nao",
          "nao",
          "nao",
          "nao",
          "nao",
          "nao",
          "sim",
          "nao",
          "nao",
          "nao",
          "nao",
          "nao",
          "nao",
          "nao",
          "nao",
          "nao",
          "nao",
          "nao",
          "nao",
          "nao",
          "nao",
          "nao",
          "nao",
          "sim",
          "nao",
          "nao",
          "nao",
          "nao",
          "nao",
          "nao",
          "nao",
          "nao",
          "nao",
          "nao",
          "nao",
          "sim",
          "nao",
          "nao",
          "nao",
          "nao",
          "sim",
          "nao",
          "nao",
          "nao",
          "nao",
          "nao",
          "nao",
          "nao",
          "nao",
          "nao",
          "nao",
          "nao",
          "nao",
          "nao",
          "nao",
          "nao",
          "nao",
          "nao",
          "nao",
          "nao",
          "nao",
          "nao",
          "nao",
          "nao",
          "sim",
          "nao",
          "nao",
          "nao",
          "nao",
          "nao",
          "nao",
          "nao",
          "nao",
          "nao",
          "nao",
          "nao",
          "nao",
          "nao",
          "nao",
          "nao",
          "nao",
          "nao",
          "nao",
          "nao",
          "nao",
          "nao",
          "nao",
          "nao",
          "nao",
          "nao",
          "sim",
          "nao",
          "nao",
          "nao",
          "nao",
          "nao",
          "nao",
          "nao",
          "nao",
          "sim",
          "nao",
          "nao",
          "nao",
          "nao",
          "nao",
          "nao",
          "nao",
          "nao",
          "nao",
          "nao",
          "nao",
          "sim",
          "nao",
          "nao",
          "nao",
          "nao",
          "nao",
          "nao",
          "nao",
          "nao",
          "nao",
          "nao",
          "sim",
          "nao",
          "nao",
          "nao",
          "nao",
          "nao",
          "nao",
          "nao",
          "nao",
          "nao",
          "sim",
          "nao",
          "nao",
          "sim",
          "nao",
          "sim",
          "nao",
          "nao",
          "nao",
          "nao",
          "nao",
          "nao",
          "nao",
          "nao",
          "nao",
          "nao",
          "nao",
          "nao",
          "nao",
          "nao",
          "nao",
          "nao",
          "nao",
          "nao",
          "nao",
          "nao",
          "nao",
          "nao",
          "nao",
          "nao",
          "nao",
          "nao",
          "nao",
          "nao",
          "nao",
          "nao",
          "nao",
          "nao",
          "nao",
          "nao",
          "nao",
          "nao",
          "nao",
          "nao",
          "nao",
          "nao",
          "nao",
          "nao",
          "nao",
          "sim",
          "nao",
          "nao",
          "nao",
          "nao",
          "nao",
          "nao",
          "nao",
          "nao",
          "nao",
          "nao",
          "nao",
          "nao",
          "nao",
          "sim",
          "nao",
          "nao",
          "nao",
          "nao",
          "nao",
          "nao",
          "nao",
          "nao",
          "nao",
          "nao",
          "nao",
          "nao",
          "nao",
          "nao",
          "nao",
          "nao",
          "nao",
          "nao",
          "sim",
          "nao",
          "nao",
          "sim",
          "nao",
          "nao",
          "nao",
          "nao",
          "nao",
          "nao",
          "nao",
          "nao",
          "nao",
          "nao",
          "nao",
          "nao",
          "nao",
          "sim",
          "nao",
          "nao",
          "nao",
          "nao",
          "sim",
          "sim",
          "nao",
          "nao",
          "nao",
          "nao",
          "nao",
          "nao",
          "nao",
          "nao",
          "nao",
          "nao",
          "nao",
          "nao",
          "nao",
          "nao",
          "nao",
          "nao",
          "nao",
          "nao",
          "nao",
          "nao",
          "nao",
          "nao",
          "nao",
          "nao",
          "nao",
          "nao",
          "sim",
          "nao",
          "nao",
          "nao",
          "nao",
          "nao",
          "nao",
          "nao",
          "nao",
          "nao",
          "nao",
          "sim",
          "nao",
          "nao",
          "nao",
          "nao",
          "nao",
          "nao",
          "nao",
          "nao",
          "nao",
          "nao",
          "nao",
          "nao",
          "nao",
          "nao",
          "sim",
          "nao",
          "sim",
          "nao",
          "nao",
          "nao",
          "nao",
          "sim",
          "nao",
          "nao",
          "sim",
          "nao",
          "nao",
          "nao",
          "nao",
          "nao",
          "nao",
          "nao",
          "nao",
          "nao",
          "nao",
          "nao",
          "nao",
          "nao",
          "nao",
          "nao",
          "nao",
          "nao",
          "nao",
          "nao",
          "nao",
          "nao",
          "nao",
          "nao",
          "sim",
          "nao",
          "nao",
          "sim",
          "sim",
          "nao",
          "nao",
          "nao",
          "nao",
          "nao",
          "nao",
          "nao",
          "nao",
          "nao",
          "sim",
          "nao",
          "nao",
          "nao",
          "nao",
          "nao",
          "nao",
          "nao",
          "nao",
          "nao",
          "nao",
          "nao",
          "nao",
          "nao",
          "sim",
          "nao",
          "nao",
          "nao",
          "nao",
          "nao",
          "nao",
          "nao",
          "nao",
          "nao",
          "nao",
          "nao",
          "nao",
          "nao",
          "nao",
          "nao",
          "nao",
          "nao",
          "nao",
          "sim",
          "nao",
          "nao",
          "nao",
          "nao",
          "nao",
          "nao",
          "nao",
          "sim",
          "nao",
          "nao",
          "sim",
          "nao",
          "nao",
          "nao",
          "sim",
          "nao",
          "nao",
          "nao",
          "nao",
          "nao",
          "nao",
          "nao",
          "nao",
          "nao",
          "nao",
          "nao",
          "nao",
          "nao",
          "nao",
          "nao",
          "nao",
          "nao",
          "sim",
          "nao",
          "nao",
          "nao",
          "nao",
          "nao",
          "nao",
          "nao",
          "nao",
          "nao",
          "nao",
          "nao",
          "nao",
          "nao",
          "nao",
          "nao",
          "nao",
          "nao",
          "sim",
          "nao",
          "nao",
          "nao",
          "nao",
          "nao",
          "nao",
          "nao",
          "nao",
          "nao",
          "nao",
          "nao",
          "sim",
          "nao",
          "nao",
          "nao",
          "nao",
          "nao",
          "nao",
          "nao",
          "nao",
          "nao",
          "nao",
          "nao",
          "nao",
          "nao",
          "nao",
          "nao",
          "nao",
          "nao",
          "nao",
          "nao",
          "nao",
          "sim",
          "nao",
          "nao",
          "nao",
          "nao",
          "nao",
          "nao",
          "nao",
          "sim",
          "nao",
          "nao"
         ],
         "xaxis": "x",
         "yaxis": "y"
        },
        {
         "alignmentgroup": "True",
         "bingroup": "x",
         "hovertemplate": "aderencia_investimento=nao<br>fez_emprestimo=%{x}<br>count=%{y}<extra></extra>",
         "legendgroup": "nao",
         "marker": {
          "color": "#EF553B",
          "pattern": {
           "shape": ""
          }
         },
         "name": "nao",
         "offsetgroup": "nao",
         "orientation": "v",
         "showlegend": true,
         "texttemplate": "%{value}",
         "type": "histogram",
         "x": [
          "nao",
          "nao",
          "nao",
          "nao",
          "nao",
          "nao",
          "nao",
          "nao",
          "nao",
          "nao",
          "nao",
          "nao",
          "nao",
          "nao",
          "nao",
          "nao",
          "sim",
          "sim",
          "nao",
          "nao",
          "nao",
          "nao",
          "nao",
          "nao",
          "sim",
          "nao",
          "nao",
          "nao",
          "nao",
          "nao",
          "nao",
          "sim",
          "sim",
          "nao",
          "nao",
          "nao",
          "nao",
          "nao",
          "sim",
          "nao",
          "nao",
          "nao",
          "nao",
          "nao",
          "nao",
          "nao",
          "nao",
          "nao",
          "nao",
          "sim",
          "nao",
          "nao",
          "nao",
          "sim",
          "nao",
          "sim",
          "sim",
          "nao",
          "nao",
          "sim",
          "nao",
          "nao",
          "nao",
          "nao",
          "nao",
          "sim",
          "nao",
          "nao",
          "sim",
          "sim",
          "sim",
          "nao",
          "nao",
          "nao",
          "nao",
          "nao",
          "nao",
          "nao",
          "sim",
          "nao",
          "nao",
          "nao",
          "nao",
          "nao",
          "sim",
          "nao",
          "nao",
          "nao",
          "nao",
          "nao",
          "nao",
          "nao",
          "nao",
          "nao",
          "sim",
          "nao",
          "nao",
          "nao",
          "nao",
          "nao",
          "nao",
          "nao",
          "nao",
          "nao",
          "nao",
          "nao",
          "nao",
          "nao",
          "nao",
          "nao",
          "nao",
          "nao",
          "sim",
          "nao",
          "sim",
          "nao",
          "sim",
          "nao",
          "nao",
          "nao",
          "nao",
          "nao",
          "nao",
          "nao",
          "nao",
          "nao",
          "nao",
          "nao",
          "nao",
          "sim",
          "nao",
          "sim",
          "sim",
          "nao",
          "nao",
          "nao",
          "nao",
          "sim",
          "nao",
          "nao",
          "nao",
          "nao",
          "sim",
          "nao",
          "nao",
          "nao",
          "nao",
          "nao",
          "nao",
          "nao",
          "nao",
          "nao",
          "nao",
          "nao",
          "sim",
          "nao",
          "nao",
          "nao",
          "nao",
          "nao",
          "nao",
          "nao",
          "sim",
          "nao",
          "nao",
          "nao",
          "nao",
          "nao",
          "nao",
          "nao",
          "sim",
          "nao",
          "nao",
          "nao",
          "nao",
          "nao",
          "nao",
          "nao",
          "nao",
          "nao",
          "nao",
          "nao",
          "nao",
          "nao",
          "nao",
          "nao",
          "nao",
          "nao",
          "nao",
          "nao",
          "nao",
          "nao",
          "nao",
          "nao",
          "nao",
          "nao",
          "nao",
          "nao",
          "sim",
          "nao",
          "nao",
          "sim",
          "nao",
          "sim",
          "nao",
          "nao",
          "nao",
          "nao",
          "sim",
          "nao",
          "nao",
          "sim",
          "sim",
          "nao",
          "nao",
          "nao",
          "nao",
          "nao",
          "nao",
          "nao",
          "sim",
          "nao",
          "nao",
          "nao",
          "nao",
          "nao",
          "nao",
          "nao",
          "nao",
          "nao",
          "nao",
          "nao",
          "nao",
          "sim",
          "nao",
          "nao",
          "nao",
          "nao",
          "nao",
          "nao",
          "nao",
          "nao",
          "nao",
          "nao",
          "nao",
          "nao",
          "nao",
          "sim",
          "nao",
          "nao",
          "nao",
          "nao",
          "sim",
          "nao",
          "nao",
          "nao",
          "nao",
          "nao",
          "nao",
          "nao",
          "sim",
          "nao",
          "nao",
          "nao",
          "nao",
          "nao",
          "nao",
          "nao",
          "nao",
          "nao",
          "nao",
          "nao",
          "nao",
          "nao",
          "nao",
          "nao",
          "nao",
          "nao",
          "sim",
          "nao",
          "nao",
          "nao",
          "nao",
          "nao",
          "nao",
          "nao",
          "nao",
          "nao",
          "sim",
          "nao",
          "sim",
          "nao",
          "sim",
          "sim",
          "sim",
          "nao",
          "nao",
          "nao",
          "nao",
          "nao",
          "nao",
          "nao",
          "nao",
          "sim",
          "nao",
          "sim",
          "nao",
          "nao",
          "nao",
          "nao",
          "nao",
          "nao",
          "nao",
          "nao",
          "nao",
          "nao",
          "nao",
          "nao",
          "sim",
          "nao",
          "nao",
          "sim",
          "sim",
          "nao",
          "nao",
          "nao",
          "sim",
          "nao",
          "sim",
          "nao",
          "nao",
          "nao",
          "nao",
          "nao",
          "nao",
          "nao",
          "nao",
          "nao",
          "nao",
          "nao",
          "nao",
          "nao",
          "nao",
          "sim",
          "sim",
          "sim",
          "nao",
          "nao",
          "nao",
          "nao",
          "nao",
          "nao",
          "sim",
          "nao",
          "nao",
          "sim",
          "nao",
          "sim",
          "nao",
          "nao",
          "nao",
          "nao",
          "nao",
          "nao",
          "nao",
          "nao",
          "nao",
          "nao",
          "nao",
          "sim",
          "sim",
          "nao",
          "nao",
          "nao",
          "nao",
          "nao",
          "nao",
          "nao",
          "nao",
          "sim",
          "nao",
          "nao",
          "nao",
          "nao",
          "nao",
          "sim",
          "nao",
          "sim",
          "sim",
          "nao",
          "nao",
          "nao",
          "nao",
          "sim",
          "sim",
          "nao",
          "nao",
          "nao",
          "nao",
          "nao",
          "nao",
          "nao",
          "nao",
          "nao",
          "nao",
          "nao",
          "nao",
          "nao",
          "nao",
          "nao",
          "nao",
          "sim",
          "nao",
          "nao",
          "sim",
          "nao",
          "nao",
          "nao",
          "nao",
          "nao",
          "nao",
          "nao",
          "nao",
          "nao",
          "sim",
          "nao",
          "nao",
          "nao",
          "nao",
          "nao",
          "nao",
          "nao",
          "nao",
          "nao",
          "nao",
          "sim",
          "nao",
          "nao",
          "nao",
          "nao",
          "nao",
          "nao",
          "nao",
          "nao",
          "nao",
          "nao",
          "nao",
          "nao",
          "nao",
          "nao",
          "nao",
          "nao",
          "nao",
          "nao",
          "sim",
          "nao",
          "nao",
          "sim",
          "sim",
          "nao",
          "nao",
          "nao",
          "nao",
          "nao",
          "nao",
          "nao",
          "nao",
          "sim",
          "sim",
          "nao",
          "nao",
          "nao",
          "nao",
          "sim",
          "nao",
          "sim",
          "nao",
          "sim",
          "nao",
          "sim",
          "nao",
          "sim",
          "sim",
          "nao",
          "nao",
          "nao",
          "nao",
          "nao",
          "nao",
          "sim",
          "nao",
          "sim",
          "nao",
          "sim",
          "nao",
          "nao",
          "nao",
          "nao",
          "nao",
          "nao",
          "nao",
          "nao",
          "sim",
          "nao",
          "nao",
          "nao",
          "nao",
          "nao",
          "nao",
          "nao",
          "nao",
          "sim",
          "sim",
          "nao",
          "nao",
          "nao",
          "nao",
          "nao",
          "nao",
          "nao",
          "nao",
          "nao",
          "sim",
          "nao",
          "sim",
          "nao",
          "nao",
          "sim",
          "sim",
          "nao",
          "sim",
          "nao",
          "nao",
          "nao",
          "nao",
          "nao",
          "nao",
          "nao",
          "nao",
          "nao",
          "nao",
          "nao",
          "nao",
          "nao",
          "nao",
          "nao",
          "nao",
          "nao",
          "nao",
          "nao",
          "nao",
          "nao",
          "nao",
          "sim",
          "nao",
          "sim",
          "nao",
          "nao",
          "nao",
          "sim",
          "nao",
          "nao",
          "nao",
          "nao",
          "nao",
          "nao",
          "nao",
          "sim",
          "nao",
          "nao",
          "nao",
          "nao",
          "nao",
          "nao",
          "nao",
          "nao",
          "sim",
          "sim",
          "sim",
          "nao",
          "nao",
          "nao",
          "nao",
          "nao",
          "nao",
          "nao",
          "nao",
          "nao",
          "nao",
          "nao",
          "nao",
          "nao",
          "nao",
          "nao",
          "nao",
          "nao",
          "nao",
          "nao",
          "nao",
          "nao",
          "nao",
          "nao",
          "nao",
          "sim",
          "sim",
          "nao",
          "nao",
          "nao",
          "nao",
          "nao",
          "sim",
          "nao",
          "sim",
          "nao",
          "nao",
          "sim",
          "sim",
          "nao",
          "nao",
          "nao",
          "nao",
          "nao",
          "nao",
          "nao",
          "sim",
          "sim",
          "sim",
          "nao",
          "nao",
          "nao",
          "sim",
          "nao",
          "nao",
          "nao",
          "nao",
          "nao",
          "sim",
          "nao",
          "nao",
          "nao",
          "nao",
          "nao",
          "sim",
          "nao",
          "nao",
          "nao",
          "nao",
          "nao",
          "nao",
          "nao",
          "nao",
          "nao",
          "sim",
          "nao",
          "nao",
          "nao",
          "nao",
          "nao",
          "nao",
          "nao",
          "nao",
          "nao",
          "nao",
          "nao",
          "nao",
          "nao",
          "nao",
          "nao",
          "nao",
          "nao",
          "nao",
          "nao",
          "nao",
          "nao",
          "nao",
          "nao",
          "nao",
          "nao",
          "nao",
          "nao",
          "nao",
          "nao",
          "nao",
          "nao",
          "nao",
          "sim",
          "nao",
          "nao",
          "nao",
          "nao",
          "nao",
          "nao",
          "nao",
          "nao",
          "nao",
          "nao",
          "nao",
          "nao",
          "nao",
          "sim",
          "nao",
          "nao",
          "sim",
          "nao",
          "nao",
          "nao",
          "nao",
          "nao",
          "nao",
          "nao",
          "nao",
          "nao",
          "nao",
          "nao",
          "sim",
          "nao",
          "nao",
          "nao",
          "sim",
          "nao",
          "sim",
          "nao",
          "sim",
          "nao",
          "nao",
          "nao",
          "nao",
          "nao",
          "nao",
          "nao",
          "nao",
          "sim",
          "nao",
          "sim",
          "sim",
          "nao",
          "nao",
          "nao",
          "nao",
          "nao",
          "nao",
          "nao",
          "nao",
          "nao",
          "nao",
          "nao",
          "nao",
          "nao",
          "nao",
          "nao",
          "nao",
          "nao",
          "sim",
          "sim",
          "nao",
          "nao",
          "nao",
          "nao",
          "nao",
          "nao",
          "nao",
          "nao",
          "nao",
          "nao",
          "sim",
          "sim"
         ],
         "xaxis": "x",
         "yaxis": "y"
        }
       ],
       "layout": {
        "barmode": "group",
        "legend": {
         "title": {
          "text": "aderencia_investimento"
         },
         "tracegroupgap": 0
        },
        "margin": {
         "t": 60
        },
        "template": {
         "data": {
          "bar": [
           {
            "error_x": {
             "color": "#2a3f5f"
            },
            "error_y": {
             "color": "#2a3f5f"
            },
            "marker": {
             "line": {
              "color": "#E5ECF6",
              "width": 0.5
             },
             "pattern": {
              "fillmode": "overlay",
              "size": 10,
              "solidity": 0.2
             }
            },
            "type": "bar"
           }
          ],
          "barpolar": [
           {
            "marker": {
             "line": {
              "color": "#E5ECF6",
              "width": 0.5
             },
             "pattern": {
              "fillmode": "overlay",
              "size": 10,
              "solidity": 0.2
             }
            },
            "type": "barpolar"
           }
          ],
          "carpet": [
           {
            "aaxis": {
             "endlinecolor": "#2a3f5f",
             "gridcolor": "white",
             "linecolor": "white",
             "minorgridcolor": "white",
             "startlinecolor": "#2a3f5f"
            },
            "baxis": {
             "endlinecolor": "#2a3f5f",
             "gridcolor": "white",
             "linecolor": "white",
             "minorgridcolor": "white",
             "startlinecolor": "#2a3f5f"
            },
            "type": "carpet"
           }
          ],
          "choropleth": [
           {
            "colorbar": {
             "outlinewidth": 0,
             "ticks": ""
            },
            "type": "choropleth"
           }
          ],
          "contour": [
           {
            "colorbar": {
             "outlinewidth": 0,
             "ticks": ""
            },
            "colorscale": [
             [
              0,
              "#0d0887"
             ],
             [
              0.1111111111111111,
              "#46039f"
             ],
             [
              0.2222222222222222,
              "#7201a8"
             ],
             [
              0.3333333333333333,
              "#9c179e"
             ],
             [
              0.4444444444444444,
              "#bd3786"
             ],
             [
              0.5555555555555556,
              "#d8576b"
             ],
             [
              0.6666666666666666,
              "#ed7953"
             ],
             [
              0.7777777777777778,
              "#fb9f3a"
             ],
             [
              0.8888888888888888,
              "#fdca26"
             ],
             [
              1,
              "#f0f921"
             ]
            ],
            "type": "contour"
           }
          ],
          "contourcarpet": [
           {
            "colorbar": {
             "outlinewidth": 0,
             "ticks": ""
            },
            "type": "contourcarpet"
           }
          ],
          "heatmap": [
           {
            "colorbar": {
             "outlinewidth": 0,
             "ticks": ""
            },
            "colorscale": [
             [
              0,
              "#0d0887"
             ],
             [
              0.1111111111111111,
              "#46039f"
             ],
             [
              0.2222222222222222,
              "#7201a8"
             ],
             [
              0.3333333333333333,
              "#9c179e"
             ],
             [
              0.4444444444444444,
              "#bd3786"
             ],
             [
              0.5555555555555556,
              "#d8576b"
             ],
             [
              0.6666666666666666,
              "#ed7953"
             ],
             [
              0.7777777777777778,
              "#fb9f3a"
             ],
             [
              0.8888888888888888,
              "#fdca26"
             ],
             [
              1,
              "#f0f921"
             ]
            ],
            "type": "heatmap"
           }
          ],
          "histogram": [
           {
            "marker": {
             "pattern": {
              "fillmode": "overlay",
              "size": 10,
              "solidity": 0.2
             }
            },
            "type": "histogram"
           }
          ],
          "histogram2d": [
           {
            "colorbar": {
             "outlinewidth": 0,
             "ticks": ""
            },
            "colorscale": [
             [
              0,
              "#0d0887"
             ],
             [
              0.1111111111111111,
              "#46039f"
             ],
             [
              0.2222222222222222,
              "#7201a8"
             ],
             [
              0.3333333333333333,
              "#9c179e"
             ],
             [
              0.4444444444444444,
              "#bd3786"
             ],
             [
              0.5555555555555556,
              "#d8576b"
             ],
             [
              0.6666666666666666,
              "#ed7953"
             ],
             [
              0.7777777777777778,
              "#fb9f3a"
             ],
             [
              0.8888888888888888,
              "#fdca26"
             ],
             [
              1,
              "#f0f921"
             ]
            ],
            "type": "histogram2d"
           }
          ],
          "histogram2dcontour": [
           {
            "colorbar": {
             "outlinewidth": 0,
             "ticks": ""
            },
            "colorscale": [
             [
              0,
              "#0d0887"
             ],
             [
              0.1111111111111111,
              "#46039f"
             ],
             [
              0.2222222222222222,
              "#7201a8"
             ],
             [
              0.3333333333333333,
              "#9c179e"
             ],
             [
              0.4444444444444444,
              "#bd3786"
             ],
             [
              0.5555555555555556,
              "#d8576b"
             ],
             [
              0.6666666666666666,
              "#ed7953"
             ],
             [
              0.7777777777777778,
              "#fb9f3a"
             ],
             [
              0.8888888888888888,
              "#fdca26"
             ],
             [
              1,
              "#f0f921"
             ]
            ],
            "type": "histogram2dcontour"
           }
          ],
          "mesh3d": [
           {
            "colorbar": {
             "outlinewidth": 0,
             "ticks": ""
            },
            "type": "mesh3d"
           }
          ],
          "parcoords": [
           {
            "line": {
             "colorbar": {
              "outlinewidth": 0,
              "ticks": ""
             }
            },
            "type": "parcoords"
           }
          ],
          "pie": [
           {
            "automargin": true,
            "type": "pie"
           }
          ],
          "scatter": [
           {
            "fillpattern": {
             "fillmode": "overlay",
             "size": 10,
             "solidity": 0.2
            },
            "type": "scatter"
           }
          ],
          "scatter3d": [
           {
            "line": {
             "colorbar": {
              "outlinewidth": 0,
              "ticks": ""
             }
            },
            "marker": {
             "colorbar": {
              "outlinewidth": 0,
              "ticks": ""
             }
            },
            "type": "scatter3d"
           }
          ],
          "scattercarpet": [
           {
            "marker": {
             "colorbar": {
              "outlinewidth": 0,
              "ticks": ""
             }
            },
            "type": "scattercarpet"
           }
          ],
          "scattergeo": [
           {
            "marker": {
             "colorbar": {
              "outlinewidth": 0,
              "ticks": ""
             }
            },
            "type": "scattergeo"
           }
          ],
          "scattergl": [
           {
            "marker": {
             "colorbar": {
              "outlinewidth": 0,
              "ticks": ""
             }
            },
            "type": "scattergl"
           }
          ],
          "scattermap": [
           {
            "marker": {
             "colorbar": {
              "outlinewidth": 0,
              "ticks": ""
             }
            },
            "type": "scattermap"
           }
          ],
          "scattermapbox": [
           {
            "marker": {
             "colorbar": {
              "outlinewidth": 0,
              "ticks": ""
             }
            },
            "type": "scattermapbox"
           }
          ],
          "scatterpolar": [
           {
            "marker": {
             "colorbar": {
              "outlinewidth": 0,
              "ticks": ""
             }
            },
            "type": "scatterpolar"
           }
          ],
          "scatterpolargl": [
           {
            "marker": {
             "colorbar": {
              "outlinewidth": 0,
              "ticks": ""
             }
            },
            "type": "scatterpolargl"
           }
          ],
          "scatterternary": [
           {
            "marker": {
             "colorbar": {
              "outlinewidth": 0,
              "ticks": ""
             }
            },
            "type": "scatterternary"
           }
          ],
          "surface": [
           {
            "colorbar": {
             "outlinewidth": 0,
             "ticks": ""
            },
            "colorscale": [
             [
              0,
              "#0d0887"
             ],
             [
              0.1111111111111111,
              "#46039f"
             ],
             [
              0.2222222222222222,
              "#7201a8"
             ],
             [
              0.3333333333333333,
              "#9c179e"
             ],
             [
              0.4444444444444444,
              "#bd3786"
             ],
             [
              0.5555555555555556,
              "#d8576b"
             ],
             [
              0.6666666666666666,
              "#ed7953"
             ],
             [
              0.7777777777777778,
              "#fb9f3a"
             ],
             [
              0.8888888888888888,
              "#fdca26"
             ],
             [
              1,
              "#f0f921"
             ]
            ],
            "type": "surface"
           }
          ],
          "table": [
           {
            "cells": {
             "fill": {
              "color": "#EBF0F8"
             },
             "line": {
              "color": "white"
             }
            },
            "header": {
             "fill": {
              "color": "#C8D4E3"
             },
             "line": {
              "color": "white"
             }
            },
            "type": "table"
           }
          ]
         },
         "layout": {
          "annotationdefaults": {
           "arrowcolor": "#2a3f5f",
           "arrowhead": 0,
           "arrowwidth": 1
          },
          "autotypenumbers": "strict",
          "coloraxis": {
           "colorbar": {
            "outlinewidth": 0,
            "ticks": ""
           }
          },
          "colorscale": {
           "diverging": [
            [
             0,
             "#8e0152"
            ],
            [
             0.1,
             "#c51b7d"
            ],
            [
             0.2,
             "#de77ae"
            ],
            [
             0.3,
             "#f1b6da"
            ],
            [
             0.4,
             "#fde0ef"
            ],
            [
             0.5,
             "#f7f7f7"
            ],
            [
             0.6,
             "#e6f5d0"
            ],
            [
             0.7,
             "#b8e186"
            ],
            [
             0.8,
             "#7fbc41"
            ],
            [
             0.9,
             "#4d9221"
            ],
            [
             1,
             "#276419"
            ]
           ],
           "sequential": [
            [
             0,
             "#0d0887"
            ],
            [
             0.1111111111111111,
             "#46039f"
            ],
            [
             0.2222222222222222,
             "#7201a8"
            ],
            [
             0.3333333333333333,
             "#9c179e"
            ],
            [
             0.4444444444444444,
             "#bd3786"
            ],
            [
             0.5555555555555556,
             "#d8576b"
            ],
            [
             0.6666666666666666,
             "#ed7953"
            ],
            [
             0.7777777777777778,
             "#fb9f3a"
            ],
            [
             0.8888888888888888,
             "#fdca26"
            ],
            [
             1,
             "#f0f921"
            ]
           ],
           "sequentialminus": [
            [
             0,
             "#0d0887"
            ],
            [
             0.1111111111111111,
             "#46039f"
            ],
            [
             0.2222222222222222,
             "#7201a8"
            ],
            [
             0.3333333333333333,
             "#9c179e"
            ],
            [
             0.4444444444444444,
             "#bd3786"
            ],
            [
             0.5555555555555556,
             "#d8576b"
            ],
            [
             0.6666666666666666,
             "#ed7953"
            ],
            [
             0.7777777777777778,
             "#fb9f3a"
            ],
            [
             0.8888888888888888,
             "#fdca26"
            ],
            [
             1,
             "#f0f921"
            ]
           ]
          },
          "colorway": [
           "#636efa",
           "#EF553B",
           "#00cc96",
           "#ab63fa",
           "#FFA15A",
           "#19d3f3",
           "#FF6692",
           "#B6E880",
           "#FF97FF",
           "#FECB52"
          ],
          "font": {
           "color": "#2a3f5f"
          },
          "geo": {
           "bgcolor": "white",
           "lakecolor": "white",
           "landcolor": "#E5ECF6",
           "showlakes": true,
           "showland": true,
           "subunitcolor": "white"
          },
          "hoverlabel": {
           "align": "left"
          },
          "hovermode": "closest",
          "mapbox": {
           "style": "light"
          },
          "paper_bgcolor": "white",
          "plot_bgcolor": "#E5ECF6",
          "polar": {
           "angularaxis": {
            "gridcolor": "white",
            "linecolor": "white",
            "ticks": ""
           },
           "bgcolor": "#E5ECF6",
           "radialaxis": {
            "gridcolor": "white",
            "linecolor": "white",
            "ticks": ""
           }
          },
          "scene": {
           "xaxis": {
            "backgroundcolor": "#E5ECF6",
            "gridcolor": "white",
            "gridwidth": 2,
            "linecolor": "white",
            "showbackground": true,
            "ticks": "",
            "zerolinecolor": "white"
           },
           "yaxis": {
            "backgroundcolor": "#E5ECF6",
            "gridcolor": "white",
            "gridwidth": 2,
            "linecolor": "white",
            "showbackground": true,
            "ticks": "",
            "zerolinecolor": "white"
           },
           "zaxis": {
            "backgroundcolor": "#E5ECF6",
            "gridcolor": "white",
            "gridwidth": 2,
            "linecolor": "white",
            "showbackground": true,
            "ticks": "",
            "zerolinecolor": "white"
           }
          },
          "shapedefaults": {
           "line": {
            "color": "#2a3f5f"
           }
          },
          "ternary": {
           "aaxis": {
            "gridcolor": "white",
            "linecolor": "white",
            "ticks": ""
           },
           "baxis": {
            "gridcolor": "white",
            "linecolor": "white",
            "ticks": ""
           },
           "bgcolor": "#E5ECF6",
           "caxis": {
            "gridcolor": "white",
            "linecolor": "white",
            "ticks": ""
           }
          },
          "title": {
           "x": 0.05
          },
          "xaxis": {
           "automargin": true,
           "gridcolor": "white",
           "linecolor": "white",
           "ticks": "",
           "title": {
            "standoff": 15
           },
           "zerolinecolor": "white",
           "zerolinewidth": 2
          },
          "yaxis": {
           "automargin": true,
           "gridcolor": "white",
           "linecolor": "white",
           "ticks": "",
           "title": {
            "standoff": 15
           },
           "zerolinecolor": "white",
           "zerolinewidth": 2
          }
         }
        },
        "xaxis": {
         "anchor": "y",
         "domain": [
          0,
          1
         ],
         "title": {
          "text": "fez_emprestimo"
         }
        },
        "yaxis": {
         "anchor": "x",
         "domain": [
          0,
          1
         ],
         "title": {
          "text": "count"
         }
        }
       }
      }
     },
     "metadata": {},
     "output_type": "display_data"
    }
   ],
   "source": [
    "\"\"\"\"Relationship between the categorical columns escolaridade, inadimplencia,\n",
    "    estado_civil, fez_emprestimo with the column aderencia_investimento\"\"\"\n",
    "    \n",
    "categorical_columns = ['estado_civil','escolaridade', 'inadimplencia', 'fez_emprestimo']\n",
    "for iter in categorical_columns:\n",
    "    fig = px.histogram(df, x = iter, text_auto=True, color='aderencia_investimento', barmode='group')\n",
    "    fig.show()"
   ]
  },
  {
   "cell_type": "markdown",
   "metadata": {},
   "source": [
    "##### Numerical variables"
   ]
  },
  {
   "cell_type": "code",
   "execution_count": 8,
   "metadata": {},
   "outputs": [
    {
     "data": {
      "application/vnd.plotly.v1+json": {
       "config": {
        "plotlyServerURL": "https://plot.ly"
       },
       "data": [
        {
         "alignmentgroup": "True",
         "hovertemplate": "aderencia_investimento=sim<br>idade=%{x}<extra></extra>",
         "legendgroup": "sim",
         "marker": {
          "color": "#636efa"
         },
         "name": "sim",
         "notched": false,
         "offsetgroup": "sim",
         "orientation": "h",
         "showlegend": true,
         "type": "box",
         "x": {
          "bdata": "LSo6MhgiISFQLh4vHi8gRx8eNDMiOyMWHDwrIzYgMSsUMTAxMSAmHxsgIiEiIEQ8IBUhJzYqLR9TIi8wHSEfOiUcMTkiHk4dOzAxSy5PHCsaQj1INTo0PiU3ISMoGTElSiMhJy8iMy4kKz0fNx4xICQiMSYtNTQrPR87HiMmNS8WIxs/HC8bHS4sICZHSSkmGS5NHjAZIDUzJRwxEzIpUDQfLhwpGy4sKRwsOSseJSQ6NiAsGDc1IyIfIDshHi40LTcgITgiKyApKjU2FyBLJSckJDUjIDFNKS1DLjAbNj8bIDAbITEpI1cgNR8eODEkHCQhICwxIz0kLiovMDwuQjceIigoOzInJS8rJiYjGRkfMi8dOy5LJT8gIjAbITc8LiEeLRc7LB0cIh0iMisvRyIcIDUxIUAZPBYgIh8dHzM9Ux0sJh0uLCkrJzslKCYsKi02HCQ7OyQaGiNAJjsqPDM+GyIaNSQlHiAoKxstExksJhslIykcOCQdITccVCBJTTQ+OCkpHzgnKBwkKh8ZIzseNSAmIhoyJiYiRS8jJyImHTY3MCIZNCgkGCEiRBsvJyQpIiM5IBw3KSM8HCMbSiciOBodISUqPTIdJCAfNS0lNSgbJCIfNz0tLTE3KS8qJSAZJidPGiEvGDUoHiYgJSQ0Ix4qHQ==",
          "dtype": "i1"
         },
         "x0": " ",
         "xaxis": "x",
         "y0": " ",
         "yaxis": "y"
        },
        {
         "alignmentgroup": "True",
         "hovertemplate": "aderencia_investimento=nao<br>idade=%{x}<extra></extra>",
         "legendgroup": "nao",
         "marker": {
          "color": "#EF553B"
         },
         "name": "nao",
         "notched": false,
         "offsetgroup": "nao",
         "orientation": "h",
         "showlegend": true,
         "type": "box",
         "x": {
          "bdata": "FzUeJx4nIiYwJzUmGCw1KRs6My8iKCw3JiY2Kx8kISY5HyIdJikiJTI3LSMxJCkwMTciOSYoLT05TCEgIiUiHy8fIx8jKCYxKCIyKCsnLRoqIUseIDsmNCQyGy0oMCQxJCchHiAdJCkmJCoeHx4bJSI7IyocNzIhIDU8IjYqJCFDIkYjIj0vKBwhNCseOycgKjkhJSwtKRozLi0uKR0pOyIeKiEeJzsnISo0ISQoLTwkNSIxKy4nKSwpGx8ZIDgeHR8lOjkhMyo2HCMuGjsyJDQgNTQpKCIxIhwgIiQ4Kh0tJS4oKiI3ITMqHjIpICA1JCEhOjErUDceGyQjJCAnMiQ0JS8nKRckOjQXIi8yJh8oKDAnIik3OygcJCkbIS8sHxwiHx8iISU6JRwiIhkjJzoaIB8fLSVTMzQdHiMeGi0pFikhKSIhHTEzKCofHx8uIiYbOCElHio0MS8uMyo7GzwmHB8mNzo1HjEZLhwxKzgmISAbHTscICw/MywmKCEkIzggIzkfJzksJjwmJSIxKC4dHxcwJiEqMDAtJyI7KB8hOTokMiItJDUkHB4hKyYgHi0eNSsxIyQtHigoIiQqNCocJykuKCE2MyE4Kx0rOh05NioiHx4fLyweITklJDMrOzYgLSVFKx86OCIvHycmLjkbOho6JSkxJSsiNSEkGiklISQmITAhGyEhITshJC4aKC4aJyQnJyMfLTAvISkfMjclJCQ8ICMgJzI0IyMrNxofHiYwKyMlOikxMTE1MBwkKiQlHCpFLS4oMDQ0ICAfIiA4IicsJyoeNiYjHiAkKCkfOjcnJiIqIx02MCAuMzgjKi46LDY1KSoZRjgjJjIeHickIjUbKjM5OycmLSktNCYoHSMrIilMHiAnJjsvLDQzICE4Izs6HDgqOiAhNyEwPTEkMx4bIRwiLTI2OBkvMxwhJyQlIxopKCQjHx4vLzghHx4eMyUiNikjMSUxOh8qITMkOSIqHisqIi4hGy4fQjkmLRwhIyA6IholKBomOA==",
          "dtype": "i1"
         },
         "x0": " ",
         "xaxis": "x",
         "y0": " ",
         "yaxis": "y"
        }
       ],
       "layout": {
        "boxmode": "group",
        "legend": {
         "title": {
          "text": "aderencia_investimento"
         },
         "tracegroupgap": 0
        },
        "margin": {
         "t": 60
        },
        "template": {
         "data": {
          "bar": [
           {
            "error_x": {
             "color": "#2a3f5f"
            },
            "error_y": {
             "color": "#2a3f5f"
            },
            "marker": {
             "line": {
              "color": "#E5ECF6",
              "width": 0.5
             },
             "pattern": {
              "fillmode": "overlay",
              "size": 10,
              "solidity": 0.2
             }
            },
            "type": "bar"
           }
          ],
          "barpolar": [
           {
            "marker": {
             "line": {
              "color": "#E5ECF6",
              "width": 0.5
             },
             "pattern": {
              "fillmode": "overlay",
              "size": 10,
              "solidity": 0.2
             }
            },
            "type": "barpolar"
           }
          ],
          "carpet": [
           {
            "aaxis": {
             "endlinecolor": "#2a3f5f",
             "gridcolor": "white",
             "linecolor": "white",
             "minorgridcolor": "white",
             "startlinecolor": "#2a3f5f"
            },
            "baxis": {
             "endlinecolor": "#2a3f5f",
             "gridcolor": "white",
             "linecolor": "white",
             "minorgridcolor": "white",
             "startlinecolor": "#2a3f5f"
            },
            "type": "carpet"
           }
          ],
          "choropleth": [
           {
            "colorbar": {
             "outlinewidth": 0,
             "ticks": ""
            },
            "type": "choropleth"
           }
          ],
          "contour": [
           {
            "colorbar": {
             "outlinewidth": 0,
             "ticks": ""
            },
            "colorscale": [
             [
              0,
              "#0d0887"
             ],
             [
              0.1111111111111111,
              "#46039f"
             ],
             [
              0.2222222222222222,
              "#7201a8"
             ],
             [
              0.3333333333333333,
              "#9c179e"
             ],
             [
              0.4444444444444444,
              "#bd3786"
             ],
             [
              0.5555555555555556,
              "#d8576b"
             ],
             [
              0.6666666666666666,
              "#ed7953"
             ],
             [
              0.7777777777777778,
              "#fb9f3a"
             ],
             [
              0.8888888888888888,
              "#fdca26"
             ],
             [
              1,
              "#f0f921"
             ]
            ],
            "type": "contour"
           }
          ],
          "contourcarpet": [
           {
            "colorbar": {
             "outlinewidth": 0,
             "ticks": ""
            },
            "type": "contourcarpet"
           }
          ],
          "heatmap": [
           {
            "colorbar": {
             "outlinewidth": 0,
             "ticks": ""
            },
            "colorscale": [
             [
              0,
              "#0d0887"
             ],
             [
              0.1111111111111111,
              "#46039f"
             ],
             [
              0.2222222222222222,
              "#7201a8"
             ],
             [
              0.3333333333333333,
              "#9c179e"
             ],
             [
              0.4444444444444444,
              "#bd3786"
             ],
             [
              0.5555555555555556,
              "#d8576b"
             ],
             [
              0.6666666666666666,
              "#ed7953"
             ],
             [
              0.7777777777777778,
              "#fb9f3a"
             ],
             [
              0.8888888888888888,
              "#fdca26"
             ],
             [
              1,
              "#f0f921"
             ]
            ],
            "type": "heatmap"
           }
          ],
          "histogram": [
           {
            "marker": {
             "pattern": {
              "fillmode": "overlay",
              "size": 10,
              "solidity": 0.2
             }
            },
            "type": "histogram"
           }
          ],
          "histogram2d": [
           {
            "colorbar": {
             "outlinewidth": 0,
             "ticks": ""
            },
            "colorscale": [
             [
              0,
              "#0d0887"
             ],
             [
              0.1111111111111111,
              "#46039f"
             ],
             [
              0.2222222222222222,
              "#7201a8"
             ],
             [
              0.3333333333333333,
              "#9c179e"
             ],
             [
              0.4444444444444444,
              "#bd3786"
             ],
             [
              0.5555555555555556,
              "#d8576b"
             ],
             [
              0.6666666666666666,
              "#ed7953"
             ],
             [
              0.7777777777777778,
              "#fb9f3a"
             ],
             [
              0.8888888888888888,
              "#fdca26"
             ],
             [
              1,
              "#f0f921"
             ]
            ],
            "type": "histogram2d"
           }
          ],
          "histogram2dcontour": [
           {
            "colorbar": {
             "outlinewidth": 0,
             "ticks": ""
            },
            "colorscale": [
             [
              0,
              "#0d0887"
             ],
             [
              0.1111111111111111,
              "#46039f"
             ],
             [
              0.2222222222222222,
              "#7201a8"
             ],
             [
              0.3333333333333333,
              "#9c179e"
             ],
             [
              0.4444444444444444,
              "#bd3786"
             ],
             [
              0.5555555555555556,
              "#d8576b"
             ],
             [
              0.6666666666666666,
              "#ed7953"
             ],
             [
              0.7777777777777778,
              "#fb9f3a"
             ],
             [
              0.8888888888888888,
              "#fdca26"
             ],
             [
              1,
              "#f0f921"
             ]
            ],
            "type": "histogram2dcontour"
           }
          ],
          "mesh3d": [
           {
            "colorbar": {
             "outlinewidth": 0,
             "ticks": ""
            },
            "type": "mesh3d"
           }
          ],
          "parcoords": [
           {
            "line": {
             "colorbar": {
              "outlinewidth": 0,
              "ticks": ""
             }
            },
            "type": "parcoords"
           }
          ],
          "pie": [
           {
            "automargin": true,
            "type": "pie"
           }
          ],
          "scatter": [
           {
            "fillpattern": {
             "fillmode": "overlay",
             "size": 10,
             "solidity": 0.2
            },
            "type": "scatter"
           }
          ],
          "scatter3d": [
           {
            "line": {
             "colorbar": {
              "outlinewidth": 0,
              "ticks": ""
             }
            },
            "marker": {
             "colorbar": {
              "outlinewidth": 0,
              "ticks": ""
             }
            },
            "type": "scatter3d"
           }
          ],
          "scattercarpet": [
           {
            "marker": {
             "colorbar": {
              "outlinewidth": 0,
              "ticks": ""
             }
            },
            "type": "scattercarpet"
           }
          ],
          "scattergeo": [
           {
            "marker": {
             "colorbar": {
              "outlinewidth": 0,
              "ticks": ""
             }
            },
            "type": "scattergeo"
           }
          ],
          "scattergl": [
           {
            "marker": {
             "colorbar": {
              "outlinewidth": 0,
              "ticks": ""
             }
            },
            "type": "scattergl"
           }
          ],
          "scattermap": [
           {
            "marker": {
             "colorbar": {
              "outlinewidth": 0,
              "ticks": ""
             }
            },
            "type": "scattermap"
           }
          ],
          "scattermapbox": [
           {
            "marker": {
             "colorbar": {
              "outlinewidth": 0,
              "ticks": ""
             }
            },
            "type": "scattermapbox"
           }
          ],
          "scatterpolar": [
           {
            "marker": {
             "colorbar": {
              "outlinewidth": 0,
              "ticks": ""
             }
            },
            "type": "scatterpolar"
           }
          ],
          "scatterpolargl": [
           {
            "marker": {
             "colorbar": {
              "outlinewidth": 0,
              "ticks": ""
             }
            },
            "type": "scatterpolargl"
           }
          ],
          "scatterternary": [
           {
            "marker": {
             "colorbar": {
              "outlinewidth": 0,
              "ticks": ""
             }
            },
            "type": "scatterternary"
           }
          ],
          "surface": [
           {
            "colorbar": {
             "outlinewidth": 0,
             "ticks": ""
            },
            "colorscale": [
             [
              0,
              "#0d0887"
             ],
             [
              0.1111111111111111,
              "#46039f"
             ],
             [
              0.2222222222222222,
              "#7201a8"
             ],
             [
              0.3333333333333333,
              "#9c179e"
             ],
             [
              0.4444444444444444,
              "#bd3786"
             ],
             [
              0.5555555555555556,
              "#d8576b"
             ],
             [
              0.6666666666666666,
              "#ed7953"
             ],
             [
              0.7777777777777778,
              "#fb9f3a"
             ],
             [
              0.8888888888888888,
              "#fdca26"
             ],
             [
              1,
              "#f0f921"
             ]
            ],
            "type": "surface"
           }
          ],
          "table": [
           {
            "cells": {
             "fill": {
              "color": "#EBF0F8"
             },
             "line": {
              "color": "white"
             }
            },
            "header": {
             "fill": {
              "color": "#C8D4E3"
             },
             "line": {
              "color": "white"
             }
            },
            "type": "table"
           }
          ]
         },
         "layout": {
          "annotationdefaults": {
           "arrowcolor": "#2a3f5f",
           "arrowhead": 0,
           "arrowwidth": 1
          },
          "autotypenumbers": "strict",
          "coloraxis": {
           "colorbar": {
            "outlinewidth": 0,
            "ticks": ""
           }
          },
          "colorscale": {
           "diverging": [
            [
             0,
             "#8e0152"
            ],
            [
             0.1,
             "#c51b7d"
            ],
            [
             0.2,
             "#de77ae"
            ],
            [
             0.3,
             "#f1b6da"
            ],
            [
             0.4,
             "#fde0ef"
            ],
            [
             0.5,
             "#f7f7f7"
            ],
            [
             0.6,
             "#e6f5d0"
            ],
            [
             0.7,
             "#b8e186"
            ],
            [
             0.8,
             "#7fbc41"
            ],
            [
             0.9,
             "#4d9221"
            ],
            [
             1,
             "#276419"
            ]
           ],
           "sequential": [
            [
             0,
             "#0d0887"
            ],
            [
             0.1111111111111111,
             "#46039f"
            ],
            [
             0.2222222222222222,
             "#7201a8"
            ],
            [
             0.3333333333333333,
             "#9c179e"
            ],
            [
             0.4444444444444444,
             "#bd3786"
            ],
            [
             0.5555555555555556,
             "#d8576b"
            ],
            [
             0.6666666666666666,
             "#ed7953"
            ],
            [
             0.7777777777777778,
             "#fb9f3a"
            ],
            [
             0.8888888888888888,
             "#fdca26"
            ],
            [
             1,
             "#f0f921"
            ]
           ],
           "sequentialminus": [
            [
             0,
             "#0d0887"
            ],
            [
             0.1111111111111111,
             "#46039f"
            ],
            [
             0.2222222222222222,
             "#7201a8"
            ],
            [
             0.3333333333333333,
             "#9c179e"
            ],
            [
             0.4444444444444444,
             "#bd3786"
            ],
            [
             0.5555555555555556,
             "#d8576b"
            ],
            [
             0.6666666666666666,
             "#ed7953"
            ],
            [
             0.7777777777777778,
             "#fb9f3a"
            ],
            [
             0.8888888888888888,
             "#fdca26"
            ],
            [
             1,
             "#f0f921"
            ]
           ]
          },
          "colorway": [
           "#636efa",
           "#EF553B",
           "#00cc96",
           "#ab63fa",
           "#FFA15A",
           "#19d3f3",
           "#FF6692",
           "#B6E880",
           "#FF97FF",
           "#FECB52"
          ],
          "font": {
           "color": "#2a3f5f"
          },
          "geo": {
           "bgcolor": "white",
           "lakecolor": "white",
           "landcolor": "#E5ECF6",
           "showlakes": true,
           "showland": true,
           "subunitcolor": "white"
          },
          "hoverlabel": {
           "align": "left"
          },
          "hovermode": "closest",
          "mapbox": {
           "style": "light"
          },
          "paper_bgcolor": "white",
          "plot_bgcolor": "#E5ECF6",
          "polar": {
           "angularaxis": {
            "gridcolor": "white",
            "linecolor": "white",
            "ticks": ""
           },
           "bgcolor": "#E5ECF6",
           "radialaxis": {
            "gridcolor": "white",
            "linecolor": "white",
            "ticks": ""
           }
          },
          "scene": {
           "xaxis": {
            "backgroundcolor": "#E5ECF6",
            "gridcolor": "white",
            "gridwidth": 2,
            "linecolor": "white",
            "showbackground": true,
            "ticks": "",
            "zerolinecolor": "white"
           },
           "yaxis": {
            "backgroundcolor": "#E5ECF6",
            "gridcolor": "white",
            "gridwidth": 2,
            "linecolor": "white",
            "showbackground": true,
            "ticks": "",
            "zerolinecolor": "white"
           },
           "zaxis": {
            "backgroundcolor": "#E5ECF6",
            "gridcolor": "white",
            "gridwidth": 2,
            "linecolor": "white",
            "showbackground": true,
            "ticks": "",
            "zerolinecolor": "white"
           }
          },
          "shapedefaults": {
           "line": {
            "color": "#2a3f5f"
           }
          },
          "ternary": {
           "aaxis": {
            "gridcolor": "white",
            "linecolor": "white",
            "ticks": ""
           },
           "baxis": {
            "gridcolor": "white",
            "linecolor": "white",
            "ticks": ""
           },
           "bgcolor": "#E5ECF6",
           "caxis": {
            "gridcolor": "white",
            "linecolor": "white",
            "ticks": ""
           }
          },
          "title": {
           "x": 0.05
          },
          "xaxis": {
           "automargin": true,
           "gridcolor": "white",
           "linecolor": "white",
           "ticks": "",
           "title": {
            "standoff": 15
           },
           "zerolinecolor": "white",
           "zerolinewidth": 2
          },
          "yaxis": {
           "automargin": true,
           "gridcolor": "white",
           "linecolor": "white",
           "ticks": "",
           "title": {
            "standoff": 15
           },
           "zerolinecolor": "white",
           "zerolinewidth": 2
          }
         }
        },
        "xaxis": {
         "anchor": "y",
         "domain": [
          0,
          1
         ],
         "title": {
          "text": "idade"
         }
        },
        "yaxis": {
         "anchor": "x",
         "domain": [
          0,
          1
         ]
        }
       }
      }
     },
     "metadata": {},
     "output_type": "display_data"
    },
    {
     "data": {
      "application/vnd.plotly.v1+json": {
       "config": {
        "plotlyServerURL": "https://plot.ly"
       },
       "data": [
        {
         "alignmentgroup": "True",
         "hovertemplate": "aderencia_investimento=sim<br>saldo=%{x}<extra></extra>",
         "legendgroup": "sim",
         "marker": {
          "color": "#636efa"
         },
         "name": "sim",
         "notched": false,
         "offsetgroup": "sim",
         "orientation": "h",
         "showlegend": true,
         "type": "box",
         "x": {
          "bdata": "8gAJBWYFHQ2uAN4TiwBrCXAgcAJmADIRYQiPBHYAjDecAHf+TwF1ADkFAwHxBLMCAABuAYQB1gF7COYAlwCgBvYBYgjgAa8Cjg5/CWwN0wzVAHEHEgAAAF4Cy/9dEEEApgK4CV8PFwSeCHQBAAg0EEkE9wB+AI8EpQXeAUUBzgEAAMYA9wcUBOoLMQHlAOz/BAl7BHkD4g6m/2whugFwCP8AzgDZA/sCBAc1AkH/BgDuAHoNTwCYAKsF+AIYDiMFmQMAAEcMmhuVAUYJjwYkAoAL1QwAEvAJTQYuATr+KwNtBNcACwLvCZoBGQA2/IQA5QNVaQIEyQAAAM0IaABwDrgJYgo9/0APGgbhAIEDxwCcAg4AKQgO/zESHANuBsQHSwERAQAAAgAxAwgANwFeACkB8hPjAPMCLgGwBH7+AADDAHwCFgCrACcAIgNwAc0A0ALjEfQAAACVBZYHDv/vAfUDAAAmANgKNgOJ/v0CihvFAJYBQQvVFoIBsANGAJECTAPQAwAAPQBK+84BSw3kAL4UURMyAWcgBABsAj0FigmGA/ELDADLAUoFAgDTBHoeSwDiFL0CEQU/EZ4AAADaAQAAagM4ApUOhQDFAOcANA7mAJgAGwAzBTkCPw0rDZkEUAAJAIQF9wLiG0AB1AKnBFYRyPw4BMMEEAdqAbgInAcaAqgBAAAAAAMAAAAMEF8C6xSPDhgFUQLiAJwRKAMwAcgEhw1cDhUJZhAEALsO4AHSBSkAvwIDEOkBYP4GDe0BOQARAcUEZQdpBN0HxxM8ApkA3wEuBOUMyv+IAM4EIgtxC+QKORKZAjcDXwBOA/kBlw6QDYUAogIZMbUBKwpfANIZqQFxAJYSRgDHASwCIgSYAmgAywoAAFEO7/8ZAK4KCf/MAGwDYQbqAQEAzCXnBZwCifzSAyYG/Aq/BqgD/isMJEMHwwE0BCYBXgnM/okB9v0AACwHuwLGAsn+ZwBXAY8GSBqrFEkPCABGAQUCFASFB4wDJQgcJokSfwJzAxcBMxInCAAA1gSeF/wDywG2AqoBZACoAO8BAQHrAgoAAABfAe8ADwDoCW8CVhVDBVUBqgAAAAX/YAjMB5sL/whFAGgAVADF/hsKGxxWCg7//QlRBcUALAK5AgMGdUs2AAAArwKrC60TnQORAEcLnwEAACwGKgQAB6AQ0v8AAL8C7w8DAAAALQBuAgIElQL5D7UEgBcNAOIB4AGKFVwA3AI7ALoH1AMAANAOGQQQAOYGWgJlCwAAAABXBsz+zv7RBOIDAABZBsoJrwT7Aq0BqgAoBAIJlBEAALn8OwGiDHkDQgCdA1MARhcj/osIEwA=",
          "dtype": "i2"
         },
         "x0": " ",
         "xaxis": "x",
         "y0": " ",
         "yaxis": "y"
        },
        {
         "alignmentgroup": "True",
         "hovertemplate": "aderencia_investimento=nao<br>saldo=%{x}<extra></extra>",
         "legendgroup": "nao",
         "marker": {
          "color": "#EF553B"
         },
         "name": "nao",
         "notched": false,
         "offsetgroup": "nao",
         "orientation": "h",
         "showlegend": true,
         "type": "box",
         "x": {
          "bdata": "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",
          "dtype": "i2"
         },
         "x0": " ",
         "xaxis": "x",
         "y0": " ",
         "yaxis": "y"
        }
       ],
       "layout": {
        "boxmode": "group",
        "legend": {
         "title": {
          "text": "aderencia_investimento"
         },
         "tracegroupgap": 0
        },
        "margin": {
         "t": 60
        },
        "template": {
         "data": {
          "bar": [
           {
            "error_x": {
             "color": "#2a3f5f"
            },
            "error_y": {
             "color": "#2a3f5f"
            },
            "marker": {
             "line": {
              "color": "#E5ECF6",
              "width": 0.5
             },
             "pattern": {
              "fillmode": "overlay",
              "size": 10,
              "solidity": 0.2
             }
            },
            "type": "bar"
           }
          ],
          "barpolar": [
           {
            "marker": {
             "line": {
              "color": "#E5ECF6",
              "width": 0.5
             },
             "pattern": {
              "fillmode": "overlay",
              "size": 10,
              "solidity": 0.2
             }
            },
            "type": "barpolar"
           }
          ],
          "carpet": [
           {
            "aaxis": {
             "endlinecolor": "#2a3f5f",
             "gridcolor": "white",
             "linecolor": "white",
             "minorgridcolor": "white",
             "startlinecolor": "#2a3f5f"
            },
            "baxis": {
             "endlinecolor": "#2a3f5f",
             "gridcolor": "white",
             "linecolor": "white",
             "minorgridcolor": "white",
             "startlinecolor": "#2a3f5f"
            },
            "type": "carpet"
           }
          ],
          "choropleth": [
           {
            "colorbar": {
             "outlinewidth": 0,
             "ticks": ""
            },
            "type": "choropleth"
           }
          ],
          "contour": [
           {
            "colorbar": {
             "outlinewidth": 0,
             "ticks": ""
            },
            "colorscale": [
             [
              0,
              "#0d0887"
             ],
             [
              0.1111111111111111,
              "#46039f"
             ],
             [
              0.2222222222222222,
              "#7201a8"
             ],
             [
              0.3333333333333333,
              "#9c179e"
             ],
             [
              0.4444444444444444,
              "#bd3786"
             ],
             [
              0.5555555555555556,
              "#d8576b"
             ],
             [
              0.6666666666666666,
              "#ed7953"
             ],
             [
              0.7777777777777778,
              "#fb9f3a"
             ],
             [
              0.8888888888888888,
              "#fdca26"
             ],
             [
              1,
              "#f0f921"
             ]
            ],
            "type": "contour"
           }
          ],
          "contourcarpet": [
           {
            "colorbar": {
             "outlinewidth": 0,
             "ticks": ""
            },
            "type": "contourcarpet"
           }
          ],
          "heatmap": [
           {
            "colorbar": {
             "outlinewidth": 0,
             "ticks": ""
            },
            "colorscale": [
             [
              0,
              "#0d0887"
             ],
             [
              0.1111111111111111,
              "#46039f"
             ],
             [
              0.2222222222222222,
              "#7201a8"
             ],
             [
              0.3333333333333333,
              "#9c179e"
             ],
             [
              0.4444444444444444,
              "#bd3786"
             ],
             [
              0.5555555555555556,
              "#d8576b"
             ],
             [
              0.6666666666666666,
              "#ed7953"
             ],
             [
              0.7777777777777778,
              "#fb9f3a"
             ],
             [
              0.8888888888888888,
              "#fdca26"
             ],
             [
              1,
              "#f0f921"
             ]
            ],
            "type": "heatmap"
           }
          ],
          "histogram": [
           {
            "marker": {
             "pattern": {
              "fillmode": "overlay",
              "size": 10,
              "solidity": 0.2
             }
            },
            "type": "histogram"
           }
          ],
          "histogram2d": [
           {
            "colorbar": {
             "outlinewidth": 0,
             "ticks": ""
            },
            "colorscale": [
             [
              0,
              "#0d0887"
             ],
             [
              0.1111111111111111,
              "#46039f"
             ],
             [
              0.2222222222222222,
              "#7201a8"
             ],
             [
              0.3333333333333333,
              "#9c179e"
             ],
             [
              0.4444444444444444,
              "#bd3786"
             ],
             [
              0.5555555555555556,
              "#d8576b"
             ],
             [
              0.6666666666666666,
              "#ed7953"
             ],
             [
              0.7777777777777778,
              "#fb9f3a"
             ],
             [
              0.8888888888888888,
              "#fdca26"
             ],
             [
              1,
              "#f0f921"
             ]
            ],
            "type": "histogram2d"
           }
          ],
          "histogram2dcontour": [
           {
            "colorbar": {
             "outlinewidth": 0,
             "ticks": ""
            },
            "colorscale": [
             [
              0,
              "#0d0887"
             ],
             [
              0.1111111111111111,
              "#46039f"
             ],
             [
              0.2222222222222222,
              "#7201a8"
             ],
             [
              0.3333333333333333,
              "#9c179e"
             ],
             [
              0.4444444444444444,
              "#bd3786"
             ],
             [
              0.5555555555555556,
              "#d8576b"
             ],
             [
              0.6666666666666666,
              "#ed7953"
             ],
             [
              0.7777777777777778,
              "#fb9f3a"
             ],
             [
              0.8888888888888888,
              "#fdca26"
             ],
             [
              1,
              "#f0f921"
             ]
            ],
            "type": "histogram2dcontour"
           }
          ],
          "mesh3d": [
           {
            "colorbar": {
             "outlinewidth": 0,
             "ticks": ""
            },
            "type": "mesh3d"
           }
          ],
          "parcoords": [
           {
            "line": {
             "colorbar": {
              "outlinewidth": 0,
              "ticks": ""
             }
            },
            "type": "parcoords"
           }
          ],
          "pie": [
           {
            "automargin": true,
            "type": "pie"
           }
          ],
          "scatter": [
           {
            "fillpattern": {
             "fillmode": "overlay",
             "size": 10,
             "solidity": 0.2
            },
            "type": "scatter"
           }
          ],
          "scatter3d": [
           {
            "line": {
             "colorbar": {
              "outlinewidth": 0,
              "ticks": ""
             }
            },
            "marker": {
             "colorbar": {
              "outlinewidth": 0,
              "ticks": ""
             }
            },
            "type": "scatter3d"
           }
          ],
          "scattercarpet": [
           {
            "marker": {
             "colorbar": {
              "outlinewidth": 0,
              "ticks": ""
             }
            },
            "type": "scattercarpet"
           }
          ],
          "scattergeo": [
           {
            "marker": {
             "colorbar": {
              "outlinewidth": 0,
              "ticks": ""
             }
            },
            "type": "scattergeo"
           }
          ],
          "scattergl": [
           {
            "marker": {
             "colorbar": {
              "outlinewidth": 0,
              "ticks": ""
             }
            },
            "type": "scattergl"
           }
          ],
          "scattermap": [
           {
            "marker": {
             "colorbar": {
              "outlinewidth": 0,
              "ticks": ""
             }
            },
            "type": "scattermap"
           }
          ],
          "scattermapbox": [
           {
            "marker": {
             "colorbar": {
              "outlinewidth": 0,
              "ticks": ""
             }
            },
            "type": "scattermapbox"
           }
          ],
          "scatterpolar": [
           {
            "marker": {
             "colorbar": {
              "outlinewidth": 0,
              "ticks": ""
             }
            },
            "type": "scatterpolar"
           }
          ],
          "scatterpolargl": [
           {
            "marker": {
             "colorbar": {
              "outlinewidth": 0,
              "ticks": ""
             }
            },
            "type": "scatterpolargl"
           }
          ],
          "scatterternary": [
           {
            "marker": {
             "colorbar": {
              "outlinewidth": 0,
              "ticks": ""
             }
            },
            "type": "scatterternary"
           }
          ],
          "surface": [
           {
            "colorbar": {
             "outlinewidth": 0,
             "ticks": ""
            },
            "colorscale": [
             [
              0,
              "#0d0887"
             ],
             [
              0.1111111111111111,
              "#46039f"
             ],
             [
              0.2222222222222222,
              "#7201a8"
             ],
             [
              0.3333333333333333,
              "#9c179e"
             ],
             [
              0.4444444444444444,
              "#bd3786"
             ],
             [
              0.5555555555555556,
              "#d8576b"
             ],
             [
              0.6666666666666666,
              "#ed7953"
             ],
             [
              0.7777777777777778,
              "#fb9f3a"
             ],
             [
              0.8888888888888888,
              "#fdca26"
             ],
             [
              1,
              "#f0f921"
             ]
            ],
            "type": "surface"
           }
          ],
          "table": [
           {
            "cells": {
             "fill": {
              "color": "#EBF0F8"
             },
             "line": {
              "color": "white"
             }
            },
            "header": {
             "fill": {
              "color": "#C8D4E3"
             },
             "line": {
              "color": "white"
             }
            },
            "type": "table"
           }
          ]
         },
         "layout": {
          "annotationdefaults": {
           "arrowcolor": "#2a3f5f",
           "arrowhead": 0,
           "arrowwidth": 1
          },
          "autotypenumbers": "strict",
          "coloraxis": {
           "colorbar": {
            "outlinewidth": 0,
            "ticks": ""
           }
          },
          "colorscale": {
           "diverging": [
            [
             0,
             "#8e0152"
            ],
            [
             0.1,
             "#c51b7d"
            ],
            [
             0.2,
             "#de77ae"
            ],
            [
             0.3,
             "#f1b6da"
            ],
            [
             0.4,
             "#fde0ef"
            ],
            [
             0.5,
             "#f7f7f7"
            ],
            [
             0.6,
             "#e6f5d0"
            ],
            [
             0.7,
             "#b8e186"
            ],
            [
             0.8,
             "#7fbc41"
            ],
            [
             0.9,
             "#4d9221"
            ],
            [
             1,
             "#276419"
            ]
           ],
           "sequential": [
            [
             0,
             "#0d0887"
            ],
            [
             0.1111111111111111,
             "#46039f"
            ],
            [
             0.2222222222222222,
             "#7201a8"
            ],
            [
             0.3333333333333333,
             "#9c179e"
            ],
            [
             0.4444444444444444,
             "#bd3786"
            ],
            [
             0.5555555555555556,
             "#d8576b"
            ],
            [
             0.6666666666666666,
             "#ed7953"
            ],
            [
             0.7777777777777778,
             "#fb9f3a"
            ],
            [
             0.8888888888888888,
             "#fdca26"
            ],
            [
             1,
             "#f0f921"
            ]
           ],
           "sequentialminus": [
            [
             0,
             "#0d0887"
            ],
            [
             0.1111111111111111,
             "#46039f"
            ],
            [
             0.2222222222222222,
             "#7201a8"
            ],
            [
             0.3333333333333333,
             "#9c179e"
            ],
            [
             0.4444444444444444,
             "#bd3786"
            ],
            [
             0.5555555555555556,
             "#d8576b"
            ],
            [
             0.6666666666666666,
             "#ed7953"
            ],
            [
             0.7777777777777778,
             "#fb9f3a"
            ],
            [
             0.8888888888888888,
             "#fdca26"
            ],
            [
             1,
             "#f0f921"
            ]
           ]
          },
          "colorway": [
           "#636efa",
           "#EF553B",
           "#00cc96",
           "#ab63fa",
           "#FFA15A",
           "#19d3f3",
           "#FF6692",
           "#B6E880",
           "#FF97FF",
           "#FECB52"
          ],
          "font": {
           "color": "#2a3f5f"
          },
          "geo": {
           "bgcolor": "white",
           "lakecolor": "white",
           "landcolor": "#E5ECF6",
           "showlakes": true,
           "showland": true,
           "subunitcolor": "white"
          },
          "hoverlabel": {
           "align": "left"
          },
          "hovermode": "closest",
          "mapbox": {
           "style": "light"
          },
          "paper_bgcolor": "white",
          "plot_bgcolor": "#E5ECF6",
          "polar": {
           "angularaxis": {
            "gridcolor": "white",
            "linecolor": "white",
            "ticks": ""
           },
           "bgcolor": "#E5ECF6",
           "radialaxis": {
            "gridcolor": "white",
            "linecolor": "white",
            "ticks": ""
           }
          },
          "scene": {
           "xaxis": {
            "backgroundcolor": "#E5ECF6",
            "gridcolor": "white",
            "gridwidth": 2,
            "linecolor": "white",
            "showbackground": true,
            "ticks": "",
            "zerolinecolor": "white"
           },
           "yaxis": {
            "backgroundcolor": "#E5ECF6",
            "gridcolor": "white",
            "gridwidth": 2,
            "linecolor": "white",
            "showbackground": true,
            "ticks": "",
            "zerolinecolor": "white"
           },
           "zaxis": {
            "backgroundcolor": "#E5ECF6",
            "gridcolor": "white",
            "gridwidth": 2,
            "linecolor": "white",
            "showbackground": true,
            "ticks": "",
            "zerolinecolor": "white"
           }
          },
          "shapedefaults": {
           "line": {
            "color": "#2a3f5f"
           }
          },
          "ternary": {
           "aaxis": {
            "gridcolor": "white",
            "linecolor": "white",
            "ticks": ""
           },
           "baxis": {
            "gridcolor": "white",
            "linecolor": "white",
            "ticks": ""
           },
           "bgcolor": "#E5ECF6",
           "caxis": {
            "gridcolor": "white",
            "linecolor": "white",
            "ticks": ""
           }
          },
          "title": {
           "x": 0.05
          },
          "xaxis": {
           "automargin": true,
           "gridcolor": "white",
           "linecolor": "white",
           "ticks": "",
           "title": {
            "standoff": 15
           },
           "zerolinecolor": "white",
           "zerolinewidth": 2
          },
          "yaxis": {
           "automargin": true,
           "gridcolor": "white",
           "linecolor": "white",
           "ticks": "",
           "title": {
            "standoff": 15
           },
           "zerolinecolor": "white",
           "zerolinewidth": 2
          }
         }
        },
        "xaxis": {
         "anchor": "y",
         "domain": [
          0,
          1
         ],
         "title": {
          "text": "saldo"
         }
        },
        "yaxis": {
         "anchor": "x",
         "domain": [
          0,
          1
         ]
        }
       }
      }
     },
     "metadata": {},
     "output_type": "display_data"
    },
    {
     "data": {
      "application/vnd.plotly.v1+json": {
       "config": {
        "plotlyServerURL": "https://plot.ly"
       },
       "data": [
        {
         "alignmentgroup": "True",
         "hovertemplate": "aderencia_investimento=sim<br>tempo_ult_contato=%{x}<extra></extra>",
         "legendgroup": "sim",
         "marker": {
          "color": "#636efa"
         },
         "name": "sim",
         "notched": false,
         "offsetgroup": "sim",
         "orientation": "h",
         "showlegend": true,
         "type": "box",
         "x": {
          "bdata": "SwL6ALwC7wDnAdUA3AKCAMgCUAHWASUD1wLIA/sEjQGRArMBmwHTAUoBnwFGAVIB/wJRAicI5wIKBLoBYQABAQUB7AU+AwQDawOGApcCAgF6AcUCZwGoBWEAiAKBAwQEKwYCAf0CKgJoAI4CNgE8AbUAkQGYCQgBSAHbAXME7wGSAIAAwwFJAtUBeQJhAD4CLwOFAYQBBgEOAUYB2gEFAckB3wHmA4ABJwFsA/MC2AC5AKkA+QAzAjoB3wDnAOAAigExBKUBmwLiA6EAoQGdBHIDuQbUAPwAKAEQAi4CMwIlAV4BmADfAHsDEALpAT4CagCOAp0CRQGWBKkDvQL6AMEBAAOHAfoAkwJmBI0BmQbvBKcAhACVBF0AqwEFAaQAqgCOA08DBwQFAmsA9QLtAZ8B9AAWAbwEzQCIA90BfwLcAGABhAFdACUCOQIlASEBiwKZAccGiAL3A7QBfQSdAM4AagLoAr0CuAAuA78D3gBOAOACZAEkBP0A+wDlAI4B+gNZASYCRAN+AVUHwwL5A9gDNwGEAc8AiwHSBJ8BWwCzAtEKSwIuAuACZABiAaUB3wG7AP4AzAIIBIoCoQCnAUgGAgV6AcYA2gDfAGABKAOQAJ4A5gApAdAD8wANAUoBpAKCAeABPQEpA7MHHwHWAL4BrQG3A7kC9QAwA3kA2ABhASoBmgDkAOYD7QEOAsYB0gHhA/UBzAX6AlYDCwHiAKEFYAA3An0ANQEMAbkAWAH6Aa4CVgGNAWQB/wJ4Ap8CHAMjAxcB6wQmA94AogE6AWQEAwIeAOUBugJrAZwBuQAGAnEBXANzAQwDTwGfAoIBvgBMAasASwJYAfgBGAEdBeEBcwNIAcgC/wCTAYYCvAC7A3sCDgIsA5gC2gHoAIEDBwLgAA0BEwHPAJ8A6gAOAUACOwNaBS0BPgP0AaMDQwGPAvUAjAKYAFcAPQHVAjcCngJSAu4C6gSNAgYEaAB5Ac4C6ADAAHwAXQAUA6kCYQGIA38G9QFnAGgBYQEeA48BoQALAeMAFgYsAXIDbwKQAAUE3QBbAdUAuwMfAlkDqwAnBJwBmQO+AykBrgEYAZ4CugEEAYECoQH5Aq0BBwN4AF4CTQTtB0gBYQKOAFgChgDBBQQBzAFcA7kB+QAfAvwBZQMzAfwAxQIfAzMDCQMmAe8DbQB2Au8AxwAMAk4CVwHoAQYBuwWrBeIAyAMhAXgBngJMAEkE1QA/AbAC9wJpA5QBYAGTABcB4ADeA6YARAHXAMAFCAE5BA0D9AFbAJUADAEcA+UBsgBtA+4DgQAyAu8A3QJQAPoDfwVCArkAjARBAccE1wD8BQ0CbgA=",
          "dtype": "i2"
         },
         "x0": " ",
         "xaxis": "x",
         "y0": " ",
         "yaxis": "y"
        },
        {
         "alignmentgroup": "True",
         "hovertemplate": "aderencia_investimento=nao<br>tempo_ult_contato=%{x}<extra></extra>",
         "legendgroup": "nao",
         "marker": {
          "color": "#EF553B"
         },
         "name": "nao",
         "notched": false,
         "offsetgroup": "nao",
         "orientation": "h",
         "showlegend": true,
         "type": "box",
         "x": {
          "bdata": "EACtASkEZgApAO0BNQBHAM8EGQNjAisBFwCjAOYA3ABYAUgAlABKAS8ClQIIAfYB1AB2AKQB0QErAH8AMQFYAK4AewDLAIcASgFMABUAgQBTAIsA0wA3AKUA8ABqAP8AKQAVAecATABsAS8BAAMqALkARACvAEMAuwA+AXsAVgFZAE8AQQAqAUMAvQD0AEIAsADIAFYACwJyABABPgC/AHYAHQFhA9EA2wAeAVQBhwD+APgAYgA/ASkB0ABVAOkAOABJAFsBwACRAMMBoAA4AAoAuABzAGYAmgHsBRsBbAC5AYsAaQDeAGIDkACsAD4B1wBXAbsBHABgAUYA9gB/AN8AdQB9ALMA2QBQAaQCNAA+AVMASQBtALsB5AAFAmIBdwFsAUwAlQFCAbYAKQBJAfcA0gETAcQAmwA6AUwAuAA2AosBsgB3AFQAKwHIAJIAlwCWAMEA+QFIAZoBWQCcALEAYwAaAs0ADgAkADECeQCBANEAEADaAHEAgABFAQABUwATAV8ASgBJAH4AlwC7AO0AfAHcAIUBPwHRCzIASwBnANEAyAB0AHwAlAJ5ATsAvwDfAbUAtQBmAE0AYgAMAGcAzQDQAHAAdwDBAMEAJwFzAlYA6wLgAs8BeQCeAB8B6wCQAeAAxQDOAG4AewCvAH8AggBVAEQDHAGDAOsBowE8AHsA4wA2AdEAbwGpAFEAKQEfAhkB6QHGARYAewF3Aq0AhgCoABQAYABvAHsAOQALAV4C+wD8AkEA2AAoAAkBywJTALwDaQGxALkA9gGaAHoAlwAPAHIAKgHgAL0AIgE6AH8AVgB9AdsBZwAjAIwAOAFtAdcAZgKAAE8ADgBcADkBgQA8AOwAkwB2AKcAVwBCA1sAMgAkAEgAUAIIAF0A6gHBAEwB1gBuAOkAfADRAFsCRwCdAGsAawJ/AK0AEQGXAG4A3AA9ALMA/ABEAggAmACiAPoAzQAvAh0BkgHWABsBxQBfAIgAfwDPAEIAJgHlAckABQHSAHAABwAfAmMAmAAbABQAQgFoABMAUwCXAMgASwJ7ACcAuwCfABsBGAcVAVoA2gJ3AJwCjwDMAFUA+wBdARgChQBZAE4AEAEoAAgAEgEzATkA4gDTAZsAPQFKAK4AWgFuAdkAHQCkALwCPQH+APAAVgAPABMA9QA/ANEA7gACA60AowBRAGAAFQB8AUwAOQVKACAA3gAJAXMAEAF3AH8AjAB3AMsAQwBCAcYArQBOAEYBkwB7APgAWQCFAR8BQwCMAGIATQBbAXAA+wBJAFwBRAC+AVMC2QC7AIMAUgKgAEYAiwM8AB0AJQFgAewAegAuAGgAUQEqAIcASgKWANIAPQFJAY0AVABrAOoBdAOTAM4AaQKwAKkBNgABAdIACgHOADEB+gAsAF8AHQLAABwALwFWAGYAHQDNAQ4ACgAFADoA2QCIAGYEVAF7AHMAzABSAIQBpgBmASEB/QCXABYAHQBaAP0AcAAIAJIAlAFSAA8A5AA2ARgAhQAYANIAJgIZADABkQDEAMUAnwBrAHMBUQGDAOYADgBHAKEAGQA4ABEBhgCfAEIAdQECAd0AcwE1AKsALgAdAY4AwQDSAKQA9ABhAGoAfwCZAKkAFwJxAOMBwQUeAEoAkAC6BFYFhgBwAoYAlwDfAFIAigLvAFIAFACzANUAHQFSAHwA/ABQALMAegBYAJ0A6QD2AeQAaAB9AG0AJgGPAGEAUQCNAPUAJQKoAKAAegC8AMUAWABNAEkCrADvAMAAegBQAK8APABAAM0DjwDFADMApQAWAF0CjQLQAaIATwAoAyAAWwBaAM0CzQAtAHsCtAAbAGYAGQGfBJsB/QH9AL8A4QBXAmwA1ABfANMASwDNACwARQBnAUkAVAHYAY4ARgAeAJ0CRwC/AY8ALQJaANMA6wCFAVkCTwCTAEYARwD0AJYAggCcARkBcwRlAI0A8QB3AB8BxQCFAMAAywCnANgAqQAwAWIAagTWAHMAEAFhAPkAIgB3AAQBVAHiAPsFPwBoAO8AjABxAJgBugE=",
          "dtype": "i2"
         },
         "x0": " ",
         "xaxis": "x",
         "y0": " ",
         "yaxis": "y"
        }
       ],
       "layout": {
        "boxmode": "group",
        "legend": {
         "title": {
          "text": "aderencia_investimento"
         },
         "tracegroupgap": 0
        },
        "margin": {
         "t": 60
        },
        "template": {
         "data": {
          "bar": [
           {
            "error_x": {
             "color": "#2a3f5f"
            },
            "error_y": {
             "color": "#2a3f5f"
            },
            "marker": {
             "line": {
              "color": "#E5ECF6",
              "width": 0.5
             },
             "pattern": {
              "fillmode": "overlay",
              "size": 10,
              "solidity": 0.2
             }
            },
            "type": "bar"
           }
          ],
          "barpolar": [
           {
            "marker": {
             "line": {
              "color": "#E5ECF6",
              "width": 0.5
             },
             "pattern": {
              "fillmode": "overlay",
              "size": 10,
              "solidity": 0.2
             }
            },
            "type": "barpolar"
           }
          ],
          "carpet": [
           {
            "aaxis": {
             "endlinecolor": "#2a3f5f",
             "gridcolor": "white",
             "linecolor": "white",
             "minorgridcolor": "white",
             "startlinecolor": "#2a3f5f"
            },
            "baxis": {
             "endlinecolor": "#2a3f5f",
             "gridcolor": "white",
             "linecolor": "white",
             "minorgridcolor": "white",
             "startlinecolor": "#2a3f5f"
            },
            "type": "carpet"
           }
          ],
          "choropleth": [
           {
            "colorbar": {
             "outlinewidth": 0,
             "ticks": ""
            },
            "type": "choropleth"
           }
          ],
          "contour": [
           {
            "colorbar": {
             "outlinewidth": 0,
             "ticks": ""
            },
            "colorscale": [
             [
              0,
              "#0d0887"
             ],
             [
              0.1111111111111111,
              "#46039f"
             ],
             [
              0.2222222222222222,
              "#7201a8"
             ],
             [
              0.3333333333333333,
              "#9c179e"
             ],
             [
              0.4444444444444444,
              "#bd3786"
             ],
             [
              0.5555555555555556,
              "#d8576b"
             ],
             [
              0.6666666666666666,
              "#ed7953"
             ],
             [
              0.7777777777777778,
              "#fb9f3a"
             ],
             [
              0.8888888888888888,
              "#fdca26"
             ],
             [
              1,
              "#f0f921"
             ]
            ],
            "type": "contour"
           }
          ],
          "contourcarpet": [
           {
            "colorbar": {
             "outlinewidth": 0,
             "ticks": ""
            },
            "type": "contourcarpet"
           }
          ],
          "heatmap": [
           {
            "colorbar": {
             "outlinewidth": 0,
             "ticks": ""
            },
            "colorscale": [
             [
              0,
              "#0d0887"
             ],
             [
              0.1111111111111111,
              "#46039f"
             ],
             [
              0.2222222222222222,
              "#7201a8"
             ],
             [
              0.3333333333333333,
              "#9c179e"
             ],
             [
              0.4444444444444444,
              "#bd3786"
             ],
             [
              0.5555555555555556,
              "#d8576b"
             ],
             [
              0.6666666666666666,
              "#ed7953"
             ],
             [
              0.7777777777777778,
              "#fb9f3a"
             ],
             [
              0.8888888888888888,
              "#fdca26"
             ],
             [
              1,
              "#f0f921"
             ]
            ],
            "type": "heatmap"
           }
          ],
          "histogram": [
           {
            "marker": {
             "pattern": {
              "fillmode": "overlay",
              "size": 10,
              "solidity": 0.2
             }
            },
            "type": "histogram"
           }
          ],
          "histogram2d": [
           {
            "colorbar": {
             "outlinewidth": 0,
             "ticks": ""
            },
            "colorscale": [
             [
              0,
              "#0d0887"
             ],
             [
              0.1111111111111111,
              "#46039f"
             ],
             [
              0.2222222222222222,
              "#7201a8"
             ],
             [
              0.3333333333333333,
              "#9c179e"
             ],
             [
              0.4444444444444444,
              "#bd3786"
             ],
             [
              0.5555555555555556,
              "#d8576b"
             ],
             [
              0.6666666666666666,
              "#ed7953"
             ],
             [
              0.7777777777777778,
              "#fb9f3a"
             ],
             [
              0.8888888888888888,
              "#fdca26"
             ],
             [
              1,
              "#f0f921"
             ]
            ],
            "type": "histogram2d"
           }
          ],
          "histogram2dcontour": [
           {
            "colorbar": {
             "outlinewidth": 0,
             "ticks": ""
            },
            "colorscale": [
             [
              0,
              "#0d0887"
             ],
             [
              0.1111111111111111,
              "#46039f"
             ],
             [
              0.2222222222222222,
              "#7201a8"
             ],
             [
              0.3333333333333333,
              "#9c179e"
             ],
             [
              0.4444444444444444,
              "#bd3786"
             ],
             [
              0.5555555555555556,
              "#d8576b"
             ],
             [
              0.6666666666666666,
              "#ed7953"
             ],
             [
              0.7777777777777778,
              "#fb9f3a"
             ],
             [
              0.8888888888888888,
              "#fdca26"
             ],
             [
              1,
              "#f0f921"
             ]
            ],
            "type": "histogram2dcontour"
           }
          ],
          "mesh3d": [
           {
            "colorbar": {
             "outlinewidth": 0,
             "ticks": ""
            },
            "type": "mesh3d"
           }
          ],
          "parcoords": [
           {
            "line": {
             "colorbar": {
              "outlinewidth": 0,
              "ticks": ""
             }
            },
            "type": "parcoords"
           }
          ],
          "pie": [
           {
            "automargin": true,
            "type": "pie"
           }
          ],
          "scatter": [
           {
            "fillpattern": {
             "fillmode": "overlay",
             "size": 10,
             "solidity": 0.2
            },
            "type": "scatter"
           }
          ],
          "scatter3d": [
           {
            "line": {
             "colorbar": {
              "outlinewidth": 0,
              "ticks": ""
             }
            },
            "marker": {
             "colorbar": {
              "outlinewidth": 0,
              "ticks": ""
             }
            },
            "type": "scatter3d"
           }
          ],
          "scattercarpet": [
           {
            "marker": {
             "colorbar": {
              "outlinewidth": 0,
              "ticks": ""
             }
            },
            "type": "scattercarpet"
           }
          ],
          "scattergeo": [
           {
            "marker": {
             "colorbar": {
              "outlinewidth": 0,
              "ticks": ""
             }
            },
            "type": "scattergeo"
           }
          ],
          "scattergl": [
           {
            "marker": {
             "colorbar": {
              "outlinewidth": 0,
              "ticks": ""
             }
            },
            "type": "scattergl"
           }
          ],
          "scattermap": [
           {
            "marker": {
             "colorbar": {
              "outlinewidth": 0,
              "ticks": ""
             }
            },
            "type": "scattermap"
           }
          ],
          "scattermapbox": [
           {
            "marker": {
             "colorbar": {
              "outlinewidth": 0,
              "ticks": ""
             }
            },
            "type": "scattermapbox"
           }
          ],
          "scatterpolar": [
           {
            "marker": {
             "colorbar": {
              "outlinewidth": 0,
              "ticks": ""
             }
            },
            "type": "scatterpolar"
           }
          ],
          "scatterpolargl": [
           {
            "marker": {
             "colorbar": {
              "outlinewidth": 0,
              "ticks": ""
             }
            },
            "type": "scatterpolargl"
           }
          ],
          "scatterternary": [
           {
            "marker": {
             "colorbar": {
              "outlinewidth": 0,
              "ticks": ""
             }
            },
            "type": "scatterternary"
           }
          ],
          "surface": [
           {
            "colorbar": {
             "outlinewidth": 0,
             "ticks": ""
            },
            "colorscale": [
             [
              0,
              "#0d0887"
             ],
             [
              0.1111111111111111,
              "#46039f"
             ],
             [
              0.2222222222222222,
              "#7201a8"
             ],
             [
              0.3333333333333333,
              "#9c179e"
             ],
             [
              0.4444444444444444,
              "#bd3786"
             ],
             [
              0.5555555555555556,
              "#d8576b"
             ],
             [
              0.6666666666666666,
              "#ed7953"
             ],
             [
              0.7777777777777778,
              "#fb9f3a"
             ],
             [
              0.8888888888888888,
              "#fdca26"
             ],
             [
              1,
              "#f0f921"
             ]
            ],
            "type": "surface"
           }
          ],
          "table": [
           {
            "cells": {
             "fill": {
              "color": "#EBF0F8"
             },
             "line": {
              "color": "white"
             }
            },
            "header": {
             "fill": {
              "color": "#C8D4E3"
             },
             "line": {
              "color": "white"
             }
            },
            "type": "table"
           }
          ]
         },
         "layout": {
          "annotationdefaults": {
           "arrowcolor": "#2a3f5f",
           "arrowhead": 0,
           "arrowwidth": 1
          },
          "autotypenumbers": "strict",
          "coloraxis": {
           "colorbar": {
            "outlinewidth": 0,
            "ticks": ""
           }
          },
          "colorscale": {
           "diverging": [
            [
             0,
             "#8e0152"
            ],
            [
             0.1,
             "#c51b7d"
            ],
            [
             0.2,
             "#de77ae"
            ],
            [
             0.3,
             "#f1b6da"
            ],
            [
             0.4,
             "#fde0ef"
            ],
            [
             0.5,
             "#f7f7f7"
            ],
            [
             0.6,
             "#e6f5d0"
            ],
            [
             0.7,
             "#b8e186"
            ],
            [
             0.8,
             "#7fbc41"
            ],
            [
             0.9,
             "#4d9221"
            ],
            [
             1,
             "#276419"
            ]
           ],
           "sequential": [
            [
             0,
             "#0d0887"
            ],
            [
             0.1111111111111111,
             "#46039f"
            ],
            [
             0.2222222222222222,
             "#7201a8"
            ],
            [
             0.3333333333333333,
             "#9c179e"
            ],
            [
             0.4444444444444444,
             "#bd3786"
            ],
            [
             0.5555555555555556,
             "#d8576b"
            ],
            [
             0.6666666666666666,
             "#ed7953"
            ],
            [
             0.7777777777777778,
             "#fb9f3a"
            ],
            [
             0.8888888888888888,
             "#fdca26"
            ],
            [
             1,
             "#f0f921"
            ]
           ],
           "sequentialminus": [
            [
             0,
             "#0d0887"
            ],
            [
             0.1111111111111111,
             "#46039f"
            ],
            [
             0.2222222222222222,
             "#7201a8"
            ],
            [
             0.3333333333333333,
             "#9c179e"
            ],
            [
             0.4444444444444444,
             "#bd3786"
            ],
            [
             0.5555555555555556,
             "#d8576b"
            ],
            [
             0.6666666666666666,
             "#ed7953"
            ],
            [
             0.7777777777777778,
             "#fb9f3a"
            ],
            [
             0.8888888888888888,
             "#fdca26"
            ],
            [
             1,
             "#f0f921"
            ]
           ]
          },
          "colorway": [
           "#636efa",
           "#EF553B",
           "#00cc96",
           "#ab63fa",
           "#FFA15A",
           "#19d3f3",
           "#FF6692",
           "#B6E880",
           "#FF97FF",
           "#FECB52"
          ],
          "font": {
           "color": "#2a3f5f"
          },
          "geo": {
           "bgcolor": "white",
           "lakecolor": "white",
           "landcolor": "#E5ECF6",
           "showlakes": true,
           "showland": true,
           "subunitcolor": "white"
          },
          "hoverlabel": {
           "align": "left"
          },
          "hovermode": "closest",
          "mapbox": {
           "style": "light"
          },
          "paper_bgcolor": "white",
          "plot_bgcolor": "#E5ECF6",
          "polar": {
           "angularaxis": {
            "gridcolor": "white",
            "linecolor": "white",
            "ticks": ""
           },
           "bgcolor": "#E5ECF6",
           "radialaxis": {
            "gridcolor": "white",
            "linecolor": "white",
            "ticks": ""
           }
          },
          "scene": {
           "xaxis": {
            "backgroundcolor": "#E5ECF6",
            "gridcolor": "white",
            "gridwidth": 2,
            "linecolor": "white",
            "showbackground": true,
            "ticks": "",
            "zerolinecolor": "white"
           },
           "yaxis": {
            "backgroundcolor": "#E5ECF6",
            "gridcolor": "white",
            "gridwidth": 2,
            "linecolor": "white",
            "showbackground": true,
            "ticks": "",
            "zerolinecolor": "white"
           },
           "zaxis": {
            "backgroundcolor": "#E5ECF6",
            "gridcolor": "white",
            "gridwidth": 2,
            "linecolor": "white",
            "showbackground": true,
            "ticks": "",
            "zerolinecolor": "white"
           }
          },
          "shapedefaults": {
           "line": {
            "color": "#2a3f5f"
           }
          },
          "ternary": {
           "aaxis": {
            "gridcolor": "white",
            "linecolor": "white",
            "ticks": ""
           },
           "baxis": {
            "gridcolor": "white",
            "linecolor": "white",
            "ticks": ""
           },
           "bgcolor": "#E5ECF6",
           "caxis": {
            "gridcolor": "white",
            "linecolor": "white",
            "ticks": ""
           }
          },
          "title": {
           "x": 0.05
          },
          "xaxis": {
           "automargin": true,
           "gridcolor": "white",
           "linecolor": "white",
           "ticks": "",
           "title": {
            "standoff": 15
           },
           "zerolinecolor": "white",
           "zerolinewidth": 2
          },
          "yaxis": {
           "automargin": true,
           "gridcolor": "white",
           "linecolor": "white",
           "ticks": "",
           "title": {
            "standoff": 15
           },
           "zerolinecolor": "white",
           "zerolinewidth": 2
          }
         }
        },
        "xaxis": {
         "anchor": "y",
         "domain": [
          0,
          1
         ],
         "title": {
          "text": "tempo_ult_contato"
         }
        },
        "yaxis": {
         "anchor": "x",
         "domain": [
          0,
          1
         ]
        }
       }
      }
     },
     "metadata": {},
     "output_type": "display_data"
    },
    {
     "data": {
      "application/vnd.plotly.v1+json": {
       "config": {
        "plotlyServerURL": "https://plot.ly"
       },
       "data": [
        {
         "alignmentgroup": "True",
         "hovertemplate": "aderencia_investimento=sim<br>numero_contatos=%{x}<extra></extra>",
         "legendgroup": "sim",
         "marker": {
          "color": "#636efa"
         },
         "name": "sim",
         "notched": false,
         "offsetgroup": "sim",
         "orientation": "h",
         "showlegend": true,
         "type": "box",
         "x": {
          "bdata": "AQQBBAEEAgEBAgcBAgEBAQcBAQICAQUBBQECDQEBAwEBAgEBAgUEAQECAQcBAQICAQYBAQECAQMBAgIBAgICAQQCAQEBAQEBAQEBAQECAwEBAQYCAQEBAQEBAgEBAwEBAgECAwIBAQQIAgEBAQMBAQEDAgEEAgEBAQIBAgEDAQICAgECBAQBBAIBAQMFAQECBAIBCAECAgEEAQEEAQMBAQEEBgECAQEBAQIEAQECBgMBAQEBAQIDAwMBAQIBAgICAwEEAwIDAgYBAgMBAgMHAwIEAgECAgMBCQECAwMCAQENBgIBAQECAgECAwEMAQIBAgQBBQIEAgQBAwMEAQYBAQIEAQIBAgICBAYCGAMBAgICAQEBAQEBAgEFAQIEAgQEAQEEBgEEAgECAQECAgcBAQICAgIEAQECAQEBAgEBBAQCAQIGAwEDAwUDAgEDAQIEAQIDAQgCAgEDAgMDAQQBAQQDAQEBAQEDAgQCAgEBAgEBAQIBAwEBAgIBAgIBAwEDAQECAQYBAQEBAQMDAgIEAQUBAgYEAQYEAQMBAQIEAwMDAgECAgEEBQEBAgIBAQIBAQEJAQIKBAIBAwYDAQEDAwEBAQIBAQICAwEDAQEBAggBAQECBAECAwEBAQIBAQEBAgEBAQcCAQEEAgICAQIBAgMGAQIDAg==",
          "dtype": "i1"
         },
         "x0": " ",
         "xaxis": "x",
         "y0": " ",
         "yaxis": "y"
        },
        {
         "alignmentgroup": "True",
         "hovertemplate": "aderencia_investimento=nao<br>numero_contatos=%{x}<extra></extra>",
         "legendgroup": "nao",
         "marker": {
          "color": "#EF553B"
         },
         "name": "nao",
         "notched": false,
         "offsetgroup": "nao",
         "orientation": "h",
         "showlegend": true,
         "type": "box",
         "x": {
          "bdata": "EgEBAgIDBQECAgIFAQEBAQIGAgEBAQUDAwMEAQ0IAQUDAgIDAQIBBAQJAgQBAwgCBQIBAgECAgEEDAMBAwIBAQMDAgEBAgEBAgIEAwICAgEGAgICBAICAQIBAgUBAwMDCAYCBAIBAQECAgIBAQIBAQECAwMCAwEBAQQBAQEBAQECAgIGAQEBAQIMEQECAQECAgECAwICAgQCAQICAgECAQICAQIDAgMBAgEGAgIBBAICAQgDDgYEAgIBBQEEAQECBgwCAgEDCgUDBAIEAgIBAQECAwEEAgMCAQECBgMDAQgBBQIDAQYCAQEBBQcBAQECAgIIAgYBAQMBAQYMAgMBAgEBAQIBAgEDAQwBAgYIAgEBAgIDBAcBAgQCAwMCAwMCAQ0CAQEGAgQGAQcGAwEBDQICAgEEARAKAwEDAgMBBgEBAQQKAgEFAQoJAQEEBAYBAgICAQEBAgIDBwYBAQICAQEFAgYCBAMGCwMBAgcFAggBAQMCAQIBAgEBAQMCCAwBAQEEAQISAwsBAgICAgEBAQIBAgEHAgQECwECAgICAQEBAQYBAwECAQICAQECAQIDAQECAQ0DAgUEAgIGAgQBEQECBAUDAwICAQUGAgECAgIBAQULAQEEAQUBAwEBAgECAQIBAQIBBAICAQEBAgMgBgMBBgMFAgEDAwIFBgEDAwEBAwIBAg8BAgEBAQEMAw4FAQMSAgICAQMBAwMDAQgBAgEBAQQIAQICBQgFAQYCAgIBBgQBAwICAQwCBwEBAwEDAQIDBAIBAwICBwYBBQICCAEBAQEBAgEEBAICBgMCAQEFAgMBBgEDBQEBAgUEAwECAQIDBgoBAwwCAwIBAQEBAQECAQEBAQQBAwEDAgcBAgIFAgIEAQEBEAICAQIBAwECAgIBAwEBAQEBBgMBAQUBAQYEAgECAgECAgIBAQMCBwYIBgMBAwIBAx0GAQQBBwILCwIBAQICAQEBAgEDAgcBAwYBAgIgAQMEBAMEAwUBBAEFAQQCAQEBBAEEAQECAg==",
          "dtype": "i1"
         },
         "x0": " ",
         "xaxis": "x",
         "y0": " ",
         "yaxis": "y"
        }
       ],
       "layout": {
        "boxmode": "group",
        "legend": {
         "title": {
          "text": "aderencia_investimento"
         },
         "tracegroupgap": 0
        },
        "margin": {
         "t": 60
        },
        "template": {
         "data": {
          "bar": [
           {
            "error_x": {
             "color": "#2a3f5f"
            },
            "error_y": {
             "color": "#2a3f5f"
            },
            "marker": {
             "line": {
              "color": "#E5ECF6",
              "width": 0.5
             },
             "pattern": {
              "fillmode": "overlay",
              "size": 10,
              "solidity": 0.2
             }
            },
            "type": "bar"
           }
          ],
          "barpolar": [
           {
            "marker": {
             "line": {
              "color": "#E5ECF6",
              "width": 0.5
             },
             "pattern": {
              "fillmode": "overlay",
              "size": 10,
              "solidity": 0.2
             }
            },
            "type": "barpolar"
           }
          ],
          "carpet": [
           {
            "aaxis": {
             "endlinecolor": "#2a3f5f",
             "gridcolor": "white",
             "linecolor": "white",
             "minorgridcolor": "white",
             "startlinecolor": "#2a3f5f"
            },
            "baxis": {
             "endlinecolor": "#2a3f5f",
             "gridcolor": "white",
             "linecolor": "white",
             "minorgridcolor": "white",
             "startlinecolor": "#2a3f5f"
            },
            "type": "carpet"
           }
          ],
          "choropleth": [
           {
            "colorbar": {
             "outlinewidth": 0,
             "ticks": ""
            },
            "type": "choropleth"
           }
          ],
          "contour": [
           {
            "colorbar": {
             "outlinewidth": 0,
             "ticks": ""
            },
            "colorscale": [
             [
              0,
              "#0d0887"
             ],
             [
              0.1111111111111111,
              "#46039f"
             ],
             [
              0.2222222222222222,
              "#7201a8"
             ],
             [
              0.3333333333333333,
              "#9c179e"
             ],
             [
              0.4444444444444444,
              "#bd3786"
             ],
             [
              0.5555555555555556,
              "#d8576b"
             ],
             [
              0.6666666666666666,
              "#ed7953"
             ],
             [
              0.7777777777777778,
              "#fb9f3a"
             ],
             [
              0.8888888888888888,
              "#fdca26"
             ],
             [
              1,
              "#f0f921"
             ]
            ],
            "type": "contour"
           }
          ],
          "contourcarpet": [
           {
            "colorbar": {
             "outlinewidth": 0,
             "ticks": ""
            },
            "type": "contourcarpet"
           }
          ],
          "heatmap": [
           {
            "colorbar": {
             "outlinewidth": 0,
             "ticks": ""
            },
            "colorscale": [
             [
              0,
              "#0d0887"
             ],
             [
              0.1111111111111111,
              "#46039f"
             ],
             [
              0.2222222222222222,
              "#7201a8"
             ],
             [
              0.3333333333333333,
              "#9c179e"
             ],
             [
              0.4444444444444444,
              "#bd3786"
             ],
             [
              0.5555555555555556,
              "#d8576b"
             ],
             [
              0.6666666666666666,
              "#ed7953"
             ],
             [
              0.7777777777777778,
              "#fb9f3a"
             ],
             [
              0.8888888888888888,
              "#fdca26"
             ],
             [
              1,
              "#f0f921"
             ]
            ],
            "type": "heatmap"
           }
          ],
          "histogram": [
           {
            "marker": {
             "pattern": {
              "fillmode": "overlay",
              "size": 10,
              "solidity": 0.2
             }
            },
            "type": "histogram"
           }
          ],
          "histogram2d": [
           {
            "colorbar": {
             "outlinewidth": 0,
             "ticks": ""
            },
            "colorscale": [
             [
              0,
              "#0d0887"
             ],
             [
              0.1111111111111111,
              "#46039f"
             ],
             [
              0.2222222222222222,
              "#7201a8"
             ],
             [
              0.3333333333333333,
              "#9c179e"
             ],
             [
              0.4444444444444444,
              "#bd3786"
             ],
             [
              0.5555555555555556,
              "#d8576b"
             ],
             [
              0.6666666666666666,
              "#ed7953"
             ],
             [
              0.7777777777777778,
              "#fb9f3a"
             ],
             [
              0.8888888888888888,
              "#fdca26"
             ],
             [
              1,
              "#f0f921"
             ]
            ],
            "type": "histogram2d"
           }
          ],
          "histogram2dcontour": [
           {
            "colorbar": {
             "outlinewidth": 0,
             "ticks": ""
            },
            "colorscale": [
             [
              0,
              "#0d0887"
             ],
             [
              0.1111111111111111,
              "#46039f"
             ],
             [
              0.2222222222222222,
              "#7201a8"
             ],
             [
              0.3333333333333333,
              "#9c179e"
             ],
             [
              0.4444444444444444,
              "#bd3786"
             ],
             [
              0.5555555555555556,
              "#d8576b"
             ],
             [
              0.6666666666666666,
              "#ed7953"
             ],
             [
              0.7777777777777778,
              "#fb9f3a"
             ],
             [
              0.8888888888888888,
              "#fdca26"
             ],
             [
              1,
              "#f0f921"
             ]
            ],
            "type": "histogram2dcontour"
           }
          ],
          "mesh3d": [
           {
            "colorbar": {
             "outlinewidth": 0,
             "ticks": ""
            },
            "type": "mesh3d"
           }
          ],
          "parcoords": [
           {
            "line": {
             "colorbar": {
              "outlinewidth": 0,
              "ticks": ""
             }
            },
            "type": "parcoords"
           }
          ],
          "pie": [
           {
            "automargin": true,
            "type": "pie"
           }
          ],
          "scatter": [
           {
            "fillpattern": {
             "fillmode": "overlay",
             "size": 10,
             "solidity": 0.2
            },
            "type": "scatter"
           }
          ],
          "scatter3d": [
           {
            "line": {
             "colorbar": {
              "outlinewidth": 0,
              "ticks": ""
             }
            },
            "marker": {
             "colorbar": {
              "outlinewidth": 0,
              "ticks": ""
             }
            },
            "type": "scatter3d"
           }
          ],
          "scattercarpet": [
           {
            "marker": {
             "colorbar": {
              "outlinewidth": 0,
              "ticks": ""
             }
            },
            "type": "scattercarpet"
           }
          ],
          "scattergeo": [
           {
            "marker": {
             "colorbar": {
              "outlinewidth": 0,
              "ticks": ""
             }
            },
            "type": "scattergeo"
           }
          ],
          "scattergl": [
           {
            "marker": {
             "colorbar": {
              "outlinewidth": 0,
              "ticks": ""
             }
            },
            "type": "scattergl"
           }
          ],
          "scattermap": [
           {
            "marker": {
             "colorbar": {
              "outlinewidth": 0,
              "ticks": ""
             }
            },
            "type": "scattermap"
           }
          ],
          "scattermapbox": [
           {
            "marker": {
             "colorbar": {
              "outlinewidth": 0,
              "ticks": ""
             }
            },
            "type": "scattermapbox"
           }
          ],
          "scatterpolar": [
           {
            "marker": {
             "colorbar": {
              "outlinewidth": 0,
              "ticks": ""
             }
            },
            "type": "scatterpolar"
           }
          ],
          "scatterpolargl": [
           {
            "marker": {
             "colorbar": {
              "outlinewidth": 0,
              "ticks": ""
             }
            },
            "type": "scatterpolargl"
           }
          ],
          "scatterternary": [
           {
            "marker": {
             "colorbar": {
              "outlinewidth": 0,
              "ticks": ""
             }
            },
            "type": "scatterternary"
           }
          ],
          "surface": [
           {
            "colorbar": {
             "outlinewidth": 0,
             "ticks": ""
            },
            "colorscale": [
             [
              0,
              "#0d0887"
             ],
             [
              0.1111111111111111,
              "#46039f"
             ],
             [
              0.2222222222222222,
              "#7201a8"
             ],
             [
              0.3333333333333333,
              "#9c179e"
             ],
             [
              0.4444444444444444,
              "#bd3786"
             ],
             [
              0.5555555555555556,
              "#d8576b"
             ],
             [
              0.6666666666666666,
              "#ed7953"
             ],
             [
              0.7777777777777778,
              "#fb9f3a"
             ],
             [
              0.8888888888888888,
              "#fdca26"
             ],
             [
              1,
              "#f0f921"
             ]
            ],
            "type": "surface"
           }
          ],
          "table": [
           {
            "cells": {
             "fill": {
              "color": "#EBF0F8"
             },
             "line": {
              "color": "white"
             }
            },
            "header": {
             "fill": {
              "color": "#C8D4E3"
             },
             "line": {
              "color": "white"
             }
            },
            "type": "table"
           }
          ]
         },
         "layout": {
          "annotationdefaults": {
           "arrowcolor": "#2a3f5f",
           "arrowhead": 0,
           "arrowwidth": 1
          },
          "autotypenumbers": "strict",
          "coloraxis": {
           "colorbar": {
            "outlinewidth": 0,
            "ticks": ""
           }
          },
          "colorscale": {
           "diverging": [
            [
             0,
             "#8e0152"
            ],
            [
             0.1,
             "#c51b7d"
            ],
            [
             0.2,
             "#de77ae"
            ],
            [
             0.3,
             "#f1b6da"
            ],
            [
             0.4,
             "#fde0ef"
            ],
            [
             0.5,
             "#f7f7f7"
            ],
            [
             0.6,
             "#e6f5d0"
            ],
            [
             0.7,
             "#b8e186"
            ],
            [
             0.8,
             "#7fbc41"
            ],
            [
             0.9,
             "#4d9221"
            ],
            [
             1,
             "#276419"
            ]
           ],
           "sequential": [
            [
             0,
             "#0d0887"
            ],
            [
             0.1111111111111111,
             "#46039f"
            ],
            [
             0.2222222222222222,
             "#7201a8"
            ],
            [
             0.3333333333333333,
             "#9c179e"
            ],
            [
             0.4444444444444444,
             "#bd3786"
            ],
            [
             0.5555555555555556,
             "#d8576b"
            ],
            [
             0.6666666666666666,
             "#ed7953"
            ],
            [
             0.7777777777777778,
             "#fb9f3a"
            ],
            [
             0.8888888888888888,
             "#fdca26"
            ],
            [
             1,
             "#f0f921"
            ]
           ],
           "sequentialminus": [
            [
             0,
             "#0d0887"
            ],
            [
             0.1111111111111111,
             "#46039f"
            ],
            [
             0.2222222222222222,
             "#7201a8"
            ],
            [
             0.3333333333333333,
             "#9c179e"
            ],
            [
             0.4444444444444444,
             "#bd3786"
            ],
            [
             0.5555555555555556,
             "#d8576b"
            ],
            [
             0.6666666666666666,
             "#ed7953"
            ],
            [
             0.7777777777777778,
             "#fb9f3a"
            ],
            [
             0.8888888888888888,
             "#fdca26"
            ],
            [
             1,
             "#f0f921"
            ]
           ]
          },
          "colorway": [
           "#636efa",
           "#EF553B",
           "#00cc96",
           "#ab63fa",
           "#FFA15A",
           "#19d3f3",
           "#FF6692",
           "#B6E880",
           "#FF97FF",
           "#FECB52"
          ],
          "font": {
           "color": "#2a3f5f"
          },
          "geo": {
           "bgcolor": "white",
           "lakecolor": "white",
           "landcolor": "#E5ECF6",
           "showlakes": true,
           "showland": true,
           "subunitcolor": "white"
          },
          "hoverlabel": {
           "align": "left"
          },
          "hovermode": "closest",
          "mapbox": {
           "style": "light"
          },
          "paper_bgcolor": "white",
          "plot_bgcolor": "#E5ECF6",
          "polar": {
           "angularaxis": {
            "gridcolor": "white",
            "linecolor": "white",
            "ticks": ""
           },
           "bgcolor": "#E5ECF6",
           "radialaxis": {
            "gridcolor": "white",
            "linecolor": "white",
            "ticks": ""
           }
          },
          "scene": {
           "xaxis": {
            "backgroundcolor": "#E5ECF6",
            "gridcolor": "white",
            "gridwidth": 2,
            "linecolor": "white",
            "showbackground": true,
            "ticks": "",
            "zerolinecolor": "white"
           },
           "yaxis": {
            "backgroundcolor": "#E5ECF6",
            "gridcolor": "white",
            "gridwidth": 2,
            "linecolor": "white",
            "showbackground": true,
            "ticks": "",
            "zerolinecolor": "white"
           },
           "zaxis": {
            "backgroundcolor": "#E5ECF6",
            "gridcolor": "white",
            "gridwidth": 2,
            "linecolor": "white",
            "showbackground": true,
            "ticks": "",
            "zerolinecolor": "white"
           }
          },
          "shapedefaults": {
           "line": {
            "color": "#2a3f5f"
           }
          },
          "ternary": {
           "aaxis": {
            "gridcolor": "white",
            "linecolor": "white",
            "ticks": ""
           },
           "baxis": {
            "gridcolor": "white",
            "linecolor": "white",
            "ticks": ""
           },
           "bgcolor": "#E5ECF6",
           "caxis": {
            "gridcolor": "white",
            "linecolor": "white",
            "ticks": ""
           }
          },
          "title": {
           "x": 0.05
          },
          "xaxis": {
           "automargin": true,
           "gridcolor": "white",
           "linecolor": "white",
           "ticks": "",
           "title": {
            "standoff": 15
           },
           "zerolinecolor": "white",
           "zerolinewidth": 2
          },
          "yaxis": {
           "automargin": true,
           "gridcolor": "white",
           "linecolor": "white",
           "ticks": "",
           "title": {
            "standoff": 15
           },
           "zerolinecolor": "white",
           "zerolinewidth": 2
          }
         }
        },
        "xaxis": {
         "anchor": "y",
         "domain": [
          0,
          1
         ],
         "title": {
          "text": "numero_contatos"
         }
        },
        "yaxis": {
         "anchor": "x",
         "domain": [
          0,
          1
         ]
        }
       }
      }
     },
     "metadata": {},
     "output_type": "display_data"
    }
   ],
   "source": [
    "\"\"\"\"Relationship between the numerical columns idade, saldo,\n",
    "    tempo_ult_contato, ultimo_contato with the column aderencia_investimento\"\"\"\n",
    "    \n",
    "numerical_columns = ['idade', 'saldo', 'tempo_ult_contato', 'numero_contatos']\n",
    "for iter in numerical_columns:\n",
    "    fig = px.box(df, x = iter, color='aderencia_investimento')\n",
    "    fig.show()"
   ]
  },
  {
   "cell_type": "markdown",
   "metadata": {},
   "source": [
    "##### Separation of variables"
   ]
  },
  {
   "cell_type": "code",
   "execution_count": 9,
   "metadata": {},
   "outputs": [],
   "source": [
    "X = df.drop('aderencia_investimento', axis=1)\n",
    "y = df['aderencia_investimento']"
   ]
  },
  {
   "cell_type": "markdown",
   "metadata": {},
   "source": [
    "##### Data transformation"
   ]
  },
  {
   "cell_type": "code",
   "execution_count": 10,
   "metadata": {},
   "outputs": [],
   "source": [
    "cols = X.columns"
   ]
  },
  {
   "cell_type": "markdown",
   "metadata": {},
   "source": [
    "#### One hot encoding transforms each of the classes of categorical variables into new columns, using the value 0 to represent the absence of the characteristic and 1 for the presence of the characteristic in the database sample."
   ]
  },
  {
   "cell_type": "code",
   "execution_count": 11,
   "metadata": {},
   "outputs": [],
   "source": [
    "one_hot = make_column_transformer((\n",
    "    OneHotEncoder(drop='if_binary'),\n",
    "    categorical_columns\n",
    "),\n",
    "    remainder='passthrough', sparse_threshold=0)\n",
    "\n",
    "X = one_hot.fit_transform(X)"
   ]
  },
  {
   "cell_type": "code",
   "execution_count": 12,
   "metadata": {},
   "outputs": [
    {
     "data": {
      "text/html": [
       "<div>\n",
       "<style scoped>\n",
       "    .dataframe tbody tr th:only-of-type {\n",
       "        vertical-align: middle;\n",
       "    }\n",
       "\n",
       "    .dataframe tbody tr th {\n",
       "        vertical-align: top;\n",
       "    }\n",
       "\n",
       "    .dataframe thead th {\n",
       "        text-align: right;\n",
       "    }\n",
       "</style>\n",
       "<table border=\"1\" class=\"dataframe\">\n",
       "  <thead>\n",
       "    <tr style=\"text-align: right;\">\n",
       "      <th></th>\n",
       "      <th>onehotencoder__estado_civil_casado (a)</th>\n",
       "      <th>onehotencoder__estado_civil_divorciado (a)</th>\n",
       "      <th>onehotencoder__estado_civil_solteiro (a)</th>\n",
       "      <th>onehotencoder__escolaridade_fundamental</th>\n",
       "      <th>onehotencoder__escolaridade_medio</th>\n",
       "      <th>onehotencoder__escolaridade_superior</th>\n",
       "      <th>onehotencoder__inadimplencia_sim</th>\n",
       "      <th>onehotencoder__fez_emprestimo_sim</th>\n",
       "      <th>remainder__idade</th>\n",
       "      <th>remainder__saldo</th>\n",
       "      <th>remainder__tempo_ult_contato</th>\n",
       "      <th>remainder__numero_contatos</th>\n",
       "    </tr>\n",
       "  </thead>\n",
       "  <tbody>\n",
       "    <tr>\n",
       "      <th>0</th>\n",
       "      <td>1.0</td>\n",
       "      <td>0.0</td>\n",
       "      <td>0.0</td>\n",
       "      <td>0.0</td>\n",
       "      <td>0.0</td>\n",
       "      <td>1.0</td>\n",
       "      <td>0.0</td>\n",
       "      <td>0.0</td>\n",
       "      <td>45.0</td>\n",
       "      <td>242.0</td>\n",
       "      <td>587.0</td>\n",
       "      <td>1.0</td>\n",
       "    </tr>\n",
       "    <tr>\n",
       "      <th>1</th>\n",
       "      <td>1.0</td>\n",
       "      <td>0.0</td>\n",
       "      <td>0.0</td>\n",
       "      <td>0.0</td>\n",
       "      <td>1.0</td>\n",
       "      <td>0.0</td>\n",
       "      <td>0.0</td>\n",
       "      <td>0.0</td>\n",
       "      <td>42.0</td>\n",
       "      <td>1289.0</td>\n",
       "      <td>250.0</td>\n",
       "      <td>4.0</td>\n",
       "    </tr>\n",
       "    <tr>\n",
       "      <th>2</th>\n",
       "      <td>0.0</td>\n",
       "      <td>0.0</td>\n",
       "      <td>1.0</td>\n",
       "      <td>0.0</td>\n",
       "      <td>0.0</td>\n",
       "      <td>1.0</td>\n",
       "      <td>0.0</td>\n",
       "      <td>0.0</td>\n",
       "      <td>23.0</td>\n",
       "      <td>363.0</td>\n",
       "      <td>16.0</td>\n",
       "      <td>18.0</td>\n",
       "    </tr>\n",
       "    <tr>\n",
       "      <th>3</th>\n",
       "      <td>0.0</td>\n",
       "      <td>1.0</td>\n",
       "      <td>0.0</td>\n",
       "      <td>0.0</td>\n",
       "      <td>0.0</td>\n",
       "      <td>1.0</td>\n",
       "      <td>0.0</td>\n",
       "      <td>0.0</td>\n",
       "      <td>58.0</td>\n",
       "      <td>1382.0</td>\n",
       "      <td>700.0</td>\n",
       "      <td>1.0</td>\n",
       "    </tr>\n",
       "    <tr>\n",
       "      <th>4</th>\n",
       "      <td>1.0</td>\n",
       "      <td>0.0</td>\n",
       "      <td>0.0</td>\n",
       "      <td>0.0</td>\n",
       "      <td>1.0</td>\n",
       "      <td>0.0</td>\n",
       "      <td>0.0</td>\n",
       "      <td>0.0</td>\n",
       "      <td>50.0</td>\n",
       "      <td>3357.0</td>\n",
       "      <td>239.0</td>\n",
       "      <td>4.0</td>\n",
       "    </tr>\n",
       "    <tr>\n",
       "      <th>...</th>\n",
       "      <td>...</td>\n",
       "      <td>...</td>\n",
       "      <td>...</td>\n",
       "      <td>...</td>\n",
       "      <td>...</td>\n",
       "      <td>...</td>\n",
       "      <td>...</td>\n",
       "      <td>...</td>\n",
       "      <td>...</td>\n",
       "      <td>...</td>\n",
       "      <td>...</td>\n",
       "      <td>...</td>\n",
       "    </tr>\n",
       "    <tr>\n",
       "      <th>1263</th>\n",
       "      <td>0.0</td>\n",
       "      <td>0.0</td>\n",
       "      <td>1.0</td>\n",
       "      <td>0.0</td>\n",
       "      <td>0.0</td>\n",
       "      <td>1.0</td>\n",
       "      <td>0.0</td>\n",
       "      <td>0.0</td>\n",
       "      <td>52.0</td>\n",
       "      <td>83.0</td>\n",
       "      <td>1223.0</td>\n",
       "      <td>6.0</td>\n",
       "    </tr>\n",
       "    <tr>\n",
       "      <th>1264</th>\n",
       "      <td>0.0</td>\n",
       "      <td>0.0</td>\n",
       "      <td>1.0</td>\n",
       "      <td>0.0</td>\n",
       "      <td>0.0</td>\n",
       "      <td>1.0</td>\n",
       "      <td>0.0</td>\n",
       "      <td>0.0</td>\n",
       "      <td>35.0</td>\n",
       "      <td>5958.0</td>\n",
       "      <td>215.0</td>\n",
       "      <td>1.0</td>\n",
       "    </tr>\n",
       "    <tr>\n",
       "      <th>1265</th>\n",
       "      <td>0.0</td>\n",
       "      <td>0.0</td>\n",
       "      <td>1.0</td>\n",
       "      <td>0.0</td>\n",
       "      <td>0.0</td>\n",
       "      <td>1.0</td>\n",
       "      <td>0.0</td>\n",
       "      <td>1.0</td>\n",
       "      <td>30.0</td>\n",
       "      <td>-477.0</td>\n",
       "      <td>1532.0</td>\n",
       "      <td>2.0</td>\n",
       "    </tr>\n",
       "    <tr>\n",
       "      <th>1266</th>\n",
       "      <td>1.0</td>\n",
       "      <td>0.0</td>\n",
       "      <td>0.0</td>\n",
       "      <td>0.0</td>\n",
       "      <td>0.0</td>\n",
       "      <td>1.0</td>\n",
       "      <td>0.0</td>\n",
       "      <td>0.0</td>\n",
       "      <td>42.0</td>\n",
       "      <td>2187.0</td>\n",
       "      <td>525.0</td>\n",
       "      <td>3.0</td>\n",
       "    </tr>\n",
       "    <tr>\n",
       "      <th>1267</th>\n",
       "      <td>0.0</td>\n",
       "      <td>0.0</td>\n",
       "      <td>1.0</td>\n",
       "      <td>0.0</td>\n",
       "      <td>0.0</td>\n",
       "      <td>1.0</td>\n",
       "      <td>0.0</td>\n",
       "      <td>0.0</td>\n",
       "      <td>29.0</td>\n",
       "      <td>19.0</td>\n",
       "      <td>110.0</td>\n",
       "      <td>2.0</td>\n",
       "    </tr>\n",
       "  </tbody>\n",
       "</table>\n",
       "<p>1268 rows × 12 columns</p>\n",
       "</div>"
      ],
      "text/plain": [
       "      onehotencoder__estado_civil_casado (a)  \\\n",
       "0                                        1.0   \n",
       "1                                        1.0   \n",
       "2                                        0.0   \n",
       "3                                        0.0   \n",
       "4                                        1.0   \n",
       "...                                      ...   \n",
       "1263                                     0.0   \n",
       "1264                                     0.0   \n",
       "1265                                     0.0   \n",
       "1266                                     1.0   \n",
       "1267                                     0.0   \n",
       "\n",
       "      onehotencoder__estado_civil_divorciado (a)  \\\n",
       "0                                            0.0   \n",
       "1                                            0.0   \n",
       "2                                            0.0   \n",
       "3                                            1.0   \n",
       "4                                            0.0   \n",
       "...                                          ...   \n",
       "1263                                         0.0   \n",
       "1264                                         0.0   \n",
       "1265                                         0.0   \n",
       "1266                                         0.0   \n",
       "1267                                         0.0   \n",
       "\n",
       "      onehotencoder__estado_civil_solteiro (a)  \\\n",
       "0                                          0.0   \n",
       "1                                          0.0   \n",
       "2                                          1.0   \n",
       "3                                          0.0   \n",
       "4                                          0.0   \n",
       "...                                        ...   \n",
       "1263                                       1.0   \n",
       "1264                                       1.0   \n",
       "1265                                       1.0   \n",
       "1266                                       0.0   \n",
       "1267                                       1.0   \n",
       "\n",
       "      onehotencoder__escolaridade_fundamental  \\\n",
       "0                                         0.0   \n",
       "1                                         0.0   \n",
       "2                                         0.0   \n",
       "3                                         0.0   \n",
       "4                                         0.0   \n",
       "...                                       ...   \n",
       "1263                                      0.0   \n",
       "1264                                      0.0   \n",
       "1265                                      0.0   \n",
       "1266                                      0.0   \n",
       "1267                                      0.0   \n",
       "\n",
       "      onehotencoder__escolaridade_medio  onehotencoder__escolaridade_superior  \\\n",
       "0                                   0.0                                   1.0   \n",
       "1                                   1.0                                   0.0   \n",
       "2                                   0.0                                   1.0   \n",
       "3                                   0.0                                   1.0   \n",
       "4                                   1.0                                   0.0   \n",
       "...                                 ...                                   ...   \n",
       "1263                                0.0                                   1.0   \n",
       "1264                                0.0                                   1.0   \n",
       "1265                                0.0                                   1.0   \n",
       "1266                                0.0                                   1.0   \n",
       "1267                                0.0                                   1.0   \n",
       "\n",
       "      onehotencoder__inadimplencia_sim  onehotencoder__fez_emprestimo_sim  \\\n",
       "0                                  0.0                                0.0   \n",
       "1                                  0.0                                0.0   \n",
       "2                                  0.0                                0.0   \n",
       "3                                  0.0                                0.0   \n",
       "4                                  0.0                                0.0   \n",
       "...                                ...                                ...   \n",
       "1263                               0.0                                0.0   \n",
       "1264                               0.0                                0.0   \n",
       "1265                               0.0                                1.0   \n",
       "1266                               0.0                                0.0   \n",
       "1267                               0.0                                0.0   \n",
       "\n",
       "      remainder__idade  remainder__saldo  remainder__tempo_ult_contato  \\\n",
       "0                 45.0             242.0                         587.0   \n",
       "1                 42.0            1289.0                         250.0   \n",
       "2                 23.0             363.0                          16.0   \n",
       "3                 58.0            1382.0                         700.0   \n",
       "4                 50.0            3357.0                         239.0   \n",
       "...                ...               ...                           ...   \n",
       "1263              52.0              83.0                        1223.0   \n",
       "1264              35.0            5958.0                         215.0   \n",
       "1265              30.0            -477.0                        1532.0   \n",
       "1266              42.0            2187.0                         525.0   \n",
       "1267              29.0              19.0                         110.0   \n",
       "\n",
       "      remainder__numero_contatos  \n",
       "0                            1.0  \n",
       "1                            4.0  \n",
       "2                           18.0  \n",
       "3                            1.0  \n",
       "4                            4.0  \n",
       "...                          ...  \n",
       "1263                         6.0  \n",
       "1264                         1.0  \n",
       "1265                         2.0  \n",
       "1266                         3.0  \n",
       "1267                         2.0  \n",
       "\n",
       "[1268 rows x 12 columns]"
      ]
     },
     "execution_count": 12,
     "metadata": {},
     "output_type": "execute_result"
    }
   ],
   "source": [
    "pd.DataFrame(X, columns=one_hot.get_feature_names_out(cols))"
   ]
  },
  {
   "cell_type": "markdown",
   "metadata": {},
   "source": [
    "#### Now, it is necessary to also make a transformation in the target variable, because it also has values ​​\"no\" and \"yes\"."
   ]
  },
  {
   "cell_type": "code",
   "execution_count": 13,
   "metadata": {},
   "outputs": [],
   "source": [
    "label_encoder = LabelEncoder()\n",
    "y = label_encoder.fit_transform(y)"
   ]
  },
  {
   "cell_type": "markdown",
   "metadata": {},
   "source": [
    "#### Division of variables into training and test"
   ]
  },
  {
   "cell_type": "code",
   "execution_count": 15,
   "metadata": {},
   "outputs": [],
   "source": [
    "X_train, X_test, y_train, y_test = train_test_split(X, y, test_size=0.2, random_state=42,\n",
    "                                                    stratify=y)"
   ]
  },
  {
   "cell_type": "markdown",
   "metadata": {},
   "source": [
    "#### Base model"
   ]
  },
  {
   "cell_type": "markdown",
   "metadata": {},
   "source": [
    "##### This algorithm classifies all records in the database based on the category of the target variable with the highest frequency, that is, the one with the highest count in our database."
   ]
  },
  {
   "cell_type": "code",
   "execution_count": 17,
   "metadata": {},
   "outputs": [
    {
     "data": {
      "text/html": [
       "<style>#sk-container-id-1 {\n",
       "  /* Definition of color scheme common for light and dark mode */\n",
       "  --sklearn-color-text: #000;\n",
       "  --sklearn-color-text-muted: #666;\n",
       "  --sklearn-color-line: gray;\n",
       "  /* Definition of color scheme for unfitted estimators */\n",
       "  --sklearn-color-unfitted-level-0: #fff5e6;\n",
       "  --sklearn-color-unfitted-level-1: #f6e4d2;\n",
       "  --sklearn-color-unfitted-level-2: #ffe0b3;\n",
       "  --sklearn-color-unfitted-level-3: chocolate;\n",
       "  /* Definition of color scheme for fitted estimators */\n",
       "  --sklearn-color-fitted-level-0: #f0f8ff;\n",
       "  --sklearn-color-fitted-level-1: #d4ebff;\n",
       "  --sklearn-color-fitted-level-2: #b3dbfd;\n",
       "  --sklearn-color-fitted-level-3: cornflowerblue;\n",
       "\n",
       "  /* Specific color for light theme */\n",
       "  --sklearn-color-text-on-default-background: var(--sg-text-color, var(--theme-code-foreground, var(--jp-content-font-color1, black)));\n",
       "  --sklearn-color-background: var(--sg-background-color, var(--theme-background, var(--jp-layout-color0, white)));\n",
       "  --sklearn-color-border-box: var(--sg-text-color, var(--theme-code-foreground, var(--jp-content-font-color1, black)));\n",
       "  --sklearn-color-icon: #696969;\n",
       "\n",
       "  @media (prefers-color-scheme: dark) {\n",
       "    /* Redefinition of color scheme for dark theme */\n",
       "    --sklearn-color-text-on-default-background: var(--sg-text-color, var(--theme-code-foreground, var(--jp-content-font-color1, white)));\n",
       "    --sklearn-color-background: var(--sg-background-color, var(--theme-background, var(--jp-layout-color0, #111)));\n",
       "    --sklearn-color-border-box: var(--sg-text-color, var(--theme-code-foreground, var(--jp-content-font-color1, white)));\n",
       "    --sklearn-color-icon: #878787;\n",
       "  }\n",
       "}\n",
       "\n",
       "#sk-container-id-1 {\n",
       "  color: var(--sklearn-color-text);\n",
       "}\n",
       "\n",
       "#sk-container-id-1 pre {\n",
       "  padding: 0;\n",
       "}\n",
       "\n",
       "#sk-container-id-1 input.sk-hidden--visually {\n",
       "  border: 0;\n",
       "  clip: rect(1px 1px 1px 1px);\n",
       "  clip: rect(1px, 1px, 1px, 1px);\n",
       "  height: 1px;\n",
       "  margin: -1px;\n",
       "  overflow: hidden;\n",
       "  padding: 0;\n",
       "  position: absolute;\n",
       "  width: 1px;\n",
       "}\n",
       "\n",
       "#sk-container-id-1 div.sk-dashed-wrapped {\n",
       "  border: 1px dashed var(--sklearn-color-line);\n",
       "  margin: 0 0.4em 0.5em 0.4em;\n",
       "  box-sizing: border-box;\n",
       "  padding-bottom: 0.4em;\n",
       "  background-color: var(--sklearn-color-background);\n",
       "}\n",
       "\n",
       "#sk-container-id-1 div.sk-container {\n",
       "  /* jupyter's `normalize.less` sets `[hidden] { display: none; }`\n",
       "     but bootstrap.min.css set `[hidden] { display: none !important; }`\n",
       "     so we also need the `!important` here to be able to override the\n",
       "     default hidden behavior on the sphinx rendered scikit-learn.org.\n",
       "     See: https://github.com/scikit-learn/scikit-learn/issues/21755 */\n",
       "  display: inline-block !important;\n",
       "  position: relative;\n",
       "}\n",
       "\n",
       "#sk-container-id-1 div.sk-text-repr-fallback {\n",
       "  display: none;\n",
       "}\n",
       "\n",
       "div.sk-parallel-item,\n",
       "div.sk-serial,\n",
       "div.sk-item {\n",
       "  /* draw centered vertical line to link estimators */\n",
       "  background-image: linear-gradient(var(--sklearn-color-text-on-default-background), var(--sklearn-color-text-on-default-background));\n",
       "  background-size: 2px 100%;\n",
       "  background-repeat: no-repeat;\n",
       "  background-position: center center;\n",
       "}\n",
       "\n",
       "/* Parallel-specific style estimator block */\n",
       "\n",
       "#sk-container-id-1 div.sk-parallel-item::after {\n",
       "  content: \"\";\n",
       "  width: 100%;\n",
       "  border-bottom: 2px solid var(--sklearn-color-text-on-default-background);\n",
       "  flex-grow: 1;\n",
       "}\n",
       "\n",
       "#sk-container-id-1 div.sk-parallel {\n",
       "  display: flex;\n",
       "  align-items: stretch;\n",
       "  justify-content: center;\n",
       "  background-color: var(--sklearn-color-background);\n",
       "  position: relative;\n",
       "}\n",
       "\n",
       "#sk-container-id-1 div.sk-parallel-item {\n",
       "  display: flex;\n",
       "  flex-direction: column;\n",
       "}\n",
       "\n",
       "#sk-container-id-1 div.sk-parallel-item:first-child::after {\n",
       "  align-self: flex-end;\n",
       "  width: 50%;\n",
       "}\n",
       "\n",
       "#sk-container-id-1 div.sk-parallel-item:last-child::after {\n",
       "  align-self: flex-start;\n",
       "  width: 50%;\n",
       "}\n",
       "\n",
       "#sk-container-id-1 div.sk-parallel-item:only-child::after {\n",
       "  width: 0;\n",
       "}\n",
       "\n",
       "/* Serial-specific style estimator block */\n",
       "\n",
       "#sk-container-id-1 div.sk-serial {\n",
       "  display: flex;\n",
       "  flex-direction: column;\n",
       "  align-items: center;\n",
       "  background-color: var(--sklearn-color-background);\n",
       "  padding-right: 1em;\n",
       "  padding-left: 1em;\n",
       "}\n",
       "\n",
       "\n",
       "/* Toggleable style: style used for estimator/Pipeline/ColumnTransformer box that is\n",
       "clickable and can be expanded/collapsed.\n",
       "- Pipeline and ColumnTransformer use this feature and define the default style\n",
       "- Estimators will overwrite some part of the style using the `sk-estimator` class\n",
       "*/\n",
       "\n",
       "/* Pipeline and ColumnTransformer style (default) */\n",
       "\n",
       "#sk-container-id-1 div.sk-toggleable {\n",
       "  /* Default theme specific background. It is overwritten whether we have a\n",
       "  specific estimator or a Pipeline/ColumnTransformer */\n",
       "  background-color: var(--sklearn-color-background);\n",
       "}\n",
       "\n",
       "/* Toggleable label */\n",
       "#sk-container-id-1 label.sk-toggleable__label {\n",
       "  cursor: pointer;\n",
       "  display: flex;\n",
       "  width: 100%;\n",
       "  margin-bottom: 0;\n",
       "  padding: 0.5em;\n",
       "  box-sizing: border-box;\n",
       "  text-align: center;\n",
       "  align-items: start;\n",
       "  justify-content: space-between;\n",
       "  gap: 0.5em;\n",
       "}\n",
       "\n",
       "#sk-container-id-1 label.sk-toggleable__label .caption {\n",
       "  font-size: 0.6rem;\n",
       "  font-weight: lighter;\n",
       "  color: var(--sklearn-color-text-muted);\n",
       "}\n",
       "\n",
       "#sk-container-id-1 label.sk-toggleable__label-arrow:before {\n",
       "  /* Arrow on the left of the label */\n",
       "  content: \"▸\";\n",
       "  float: left;\n",
       "  margin-right: 0.25em;\n",
       "  color: var(--sklearn-color-icon);\n",
       "}\n",
       "\n",
       "#sk-container-id-1 label.sk-toggleable__label-arrow:hover:before {\n",
       "  color: var(--sklearn-color-text);\n",
       "}\n",
       "\n",
       "/* Toggleable content - dropdown */\n",
       "\n",
       "#sk-container-id-1 div.sk-toggleable__content {\n",
       "  max-height: 0;\n",
       "  max-width: 0;\n",
       "  overflow: hidden;\n",
       "  text-align: left;\n",
       "  /* unfitted */\n",
       "  background-color: var(--sklearn-color-unfitted-level-0);\n",
       "}\n",
       "\n",
       "#sk-container-id-1 div.sk-toggleable__content.fitted {\n",
       "  /* fitted */\n",
       "  background-color: var(--sklearn-color-fitted-level-0);\n",
       "}\n",
       "\n",
       "#sk-container-id-1 div.sk-toggleable__content pre {\n",
       "  margin: 0.2em;\n",
       "  border-radius: 0.25em;\n",
       "  color: var(--sklearn-color-text);\n",
       "  /* unfitted */\n",
       "  background-color: var(--sklearn-color-unfitted-level-0);\n",
       "}\n",
       "\n",
       "#sk-container-id-1 div.sk-toggleable__content.fitted pre {\n",
       "  /* unfitted */\n",
       "  background-color: var(--sklearn-color-fitted-level-0);\n",
       "}\n",
       "\n",
       "#sk-container-id-1 input.sk-toggleable__control:checked~div.sk-toggleable__content {\n",
       "  /* Expand drop-down */\n",
       "  max-height: 200px;\n",
       "  max-width: 100%;\n",
       "  overflow: auto;\n",
       "}\n",
       "\n",
       "#sk-container-id-1 input.sk-toggleable__control:checked~label.sk-toggleable__label-arrow:before {\n",
       "  content: \"▾\";\n",
       "}\n",
       "\n",
       "/* Pipeline/ColumnTransformer-specific style */\n",
       "\n",
       "#sk-container-id-1 div.sk-label input.sk-toggleable__control:checked~label.sk-toggleable__label {\n",
       "  color: var(--sklearn-color-text);\n",
       "  background-color: var(--sklearn-color-unfitted-level-2);\n",
       "}\n",
       "\n",
       "#sk-container-id-1 div.sk-label.fitted input.sk-toggleable__control:checked~label.sk-toggleable__label {\n",
       "  background-color: var(--sklearn-color-fitted-level-2);\n",
       "}\n",
       "\n",
       "/* Estimator-specific style */\n",
       "\n",
       "/* Colorize estimator box */\n",
       "#sk-container-id-1 div.sk-estimator input.sk-toggleable__control:checked~label.sk-toggleable__label {\n",
       "  /* unfitted */\n",
       "  background-color: var(--sklearn-color-unfitted-level-2);\n",
       "}\n",
       "\n",
       "#sk-container-id-1 div.sk-estimator.fitted input.sk-toggleable__control:checked~label.sk-toggleable__label {\n",
       "  /* fitted */\n",
       "  background-color: var(--sklearn-color-fitted-level-2);\n",
       "}\n",
       "\n",
       "#sk-container-id-1 div.sk-label label.sk-toggleable__label,\n",
       "#sk-container-id-1 div.sk-label label {\n",
       "  /* The background is the default theme color */\n",
       "  color: var(--sklearn-color-text-on-default-background);\n",
       "}\n",
       "\n",
       "/* On hover, darken the color of the background */\n",
       "#sk-container-id-1 div.sk-label:hover label.sk-toggleable__label {\n",
       "  color: var(--sklearn-color-text);\n",
       "  background-color: var(--sklearn-color-unfitted-level-2);\n",
       "}\n",
       "\n",
       "/* Label box, darken color on hover, fitted */\n",
       "#sk-container-id-1 div.sk-label.fitted:hover label.sk-toggleable__label.fitted {\n",
       "  color: var(--sklearn-color-text);\n",
       "  background-color: var(--sklearn-color-fitted-level-2);\n",
       "}\n",
       "\n",
       "/* Estimator label */\n",
       "\n",
       "#sk-container-id-1 div.sk-label label {\n",
       "  font-family: monospace;\n",
       "  font-weight: bold;\n",
       "  display: inline-block;\n",
       "  line-height: 1.2em;\n",
       "}\n",
       "\n",
       "#sk-container-id-1 div.sk-label-container {\n",
       "  text-align: center;\n",
       "}\n",
       "\n",
       "/* Estimator-specific */\n",
       "#sk-container-id-1 div.sk-estimator {\n",
       "  font-family: monospace;\n",
       "  border: 1px dotted var(--sklearn-color-border-box);\n",
       "  border-radius: 0.25em;\n",
       "  box-sizing: border-box;\n",
       "  margin-bottom: 0.5em;\n",
       "  /* unfitted */\n",
       "  background-color: var(--sklearn-color-unfitted-level-0);\n",
       "}\n",
       "\n",
       "#sk-container-id-1 div.sk-estimator.fitted {\n",
       "  /* fitted */\n",
       "  background-color: var(--sklearn-color-fitted-level-0);\n",
       "}\n",
       "\n",
       "/* on hover */\n",
       "#sk-container-id-1 div.sk-estimator:hover {\n",
       "  /* unfitted */\n",
       "  background-color: var(--sklearn-color-unfitted-level-2);\n",
       "}\n",
       "\n",
       "#sk-container-id-1 div.sk-estimator.fitted:hover {\n",
       "  /* fitted */\n",
       "  background-color: var(--sklearn-color-fitted-level-2);\n",
       "}\n",
       "\n",
       "/* Specification for estimator info (e.g. \"i\" and \"?\") */\n",
       "\n",
       "/* Common style for \"i\" and \"?\" */\n",
       "\n",
       ".sk-estimator-doc-link,\n",
       "a:link.sk-estimator-doc-link,\n",
       "a:visited.sk-estimator-doc-link {\n",
       "  float: right;\n",
       "  font-size: smaller;\n",
       "  line-height: 1em;\n",
       "  font-family: monospace;\n",
       "  background-color: var(--sklearn-color-background);\n",
       "  border-radius: 1em;\n",
       "  height: 1em;\n",
       "  width: 1em;\n",
       "  text-decoration: none !important;\n",
       "  margin-left: 0.5em;\n",
       "  text-align: center;\n",
       "  /* unfitted */\n",
       "  border: var(--sklearn-color-unfitted-level-1) 1pt solid;\n",
       "  color: var(--sklearn-color-unfitted-level-1);\n",
       "}\n",
       "\n",
       ".sk-estimator-doc-link.fitted,\n",
       "a:link.sk-estimator-doc-link.fitted,\n",
       "a:visited.sk-estimator-doc-link.fitted {\n",
       "  /* fitted */\n",
       "  border: var(--sklearn-color-fitted-level-1) 1pt solid;\n",
       "  color: var(--sklearn-color-fitted-level-1);\n",
       "}\n",
       "\n",
       "/* On hover */\n",
       "div.sk-estimator:hover .sk-estimator-doc-link:hover,\n",
       ".sk-estimator-doc-link:hover,\n",
       "div.sk-label-container:hover .sk-estimator-doc-link:hover,\n",
       ".sk-estimator-doc-link:hover {\n",
       "  /* unfitted */\n",
       "  background-color: var(--sklearn-color-unfitted-level-3);\n",
       "  color: var(--sklearn-color-background);\n",
       "  text-decoration: none;\n",
       "}\n",
       "\n",
       "div.sk-estimator.fitted:hover .sk-estimator-doc-link.fitted:hover,\n",
       ".sk-estimator-doc-link.fitted:hover,\n",
       "div.sk-label-container:hover .sk-estimator-doc-link.fitted:hover,\n",
       ".sk-estimator-doc-link.fitted:hover {\n",
       "  /* fitted */\n",
       "  background-color: var(--sklearn-color-fitted-level-3);\n",
       "  color: var(--sklearn-color-background);\n",
       "  text-decoration: none;\n",
       "}\n",
       "\n",
       "/* Span, style for the box shown on hovering the info icon */\n",
       ".sk-estimator-doc-link span {\n",
       "  display: none;\n",
       "  z-index: 9999;\n",
       "  position: relative;\n",
       "  font-weight: normal;\n",
       "  right: .2ex;\n",
       "  padding: .5ex;\n",
       "  margin: .5ex;\n",
       "  width: min-content;\n",
       "  min-width: 20ex;\n",
       "  max-width: 50ex;\n",
       "  color: var(--sklearn-color-text);\n",
       "  box-shadow: 2pt 2pt 4pt #999;\n",
       "  /* unfitted */\n",
       "  background: var(--sklearn-color-unfitted-level-0);\n",
       "  border: .5pt solid var(--sklearn-color-unfitted-level-3);\n",
       "}\n",
       "\n",
       ".sk-estimator-doc-link.fitted span {\n",
       "  /* fitted */\n",
       "  background: var(--sklearn-color-fitted-level-0);\n",
       "  border: var(--sklearn-color-fitted-level-3);\n",
       "}\n",
       "\n",
       ".sk-estimator-doc-link:hover span {\n",
       "  display: block;\n",
       "}\n",
       "\n",
       "/* \"?\"-specific style due to the `<a>` HTML tag */\n",
       "\n",
       "#sk-container-id-1 a.estimator_doc_link {\n",
       "  float: right;\n",
       "  font-size: 1rem;\n",
       "  line-height: 1em;\n",
       "  font-family: monospace;\n",
       "  background-color: var(--sklearn-color-background);\n",
       "  border-radius: 1rem;\n",
       "  height: 1rem;\n",
       "  width: 1rem;\n",
       "  text-decoration: none;\n",
       "  /* unfitted */\n",
       "  color: var(--sklearn-color-unfitted-level-1);\n",
       "  border: var(--sklearn-color-unfitted-level-1) 1pt solid;\n",
       "}\n",
       "\n",
       "#sk-container-id-1 a.estimator_doc_link.fitted {\n",
       "  /* fitted */\n",
       "  border: var(--sklearn-color-fitted-level-1) 1pt solid;\n",
       "  color: var(--sklearn-color-fitted-level-1);\n",
       "}\n",
       "\n",
       "/* On hover */\n",
       "#sk-container-id-1 a.estimator_doc_link:hover {\n",
       "  /* unfitted */\n",
       "  background-color: var(--sklearn-color-unfitted-level-3);\n",
       "  color: var(--sklearn-color-background);\n",
       "  text-decoration: none;\n",
       "}\n",
       "\n",
       "#sk-container-id-1 a.estimator_doc_link.fitted:hover {\n",
       "  /* fitted */\n",
       "  background-color: var(--sklearn-color-fitted-level-3);\n",
       "}\n",
       "</style><div id=\"sk-container-id-1\" class=\"sk-top-container\"><div class=\"sk-text-repr-fallback\"><pre>DummyClassifier()</pre><b>In a Jupyter environment, please rerun this cell to show the HTML representation or trust the notebook. <br />On GitHub, the HTML representation is unable to render, please try loading this page with nbviewer.org.</b></div><div class=\"sk-container\" hidden><div class=\"sk-item\"><div class=\"sk-estimator fitted sk-toggleable\"><input class=\"sk-toggleable__control sk-hidden--visually\" id=\"sk-estimator-id-1\" type=\"checkbox\" checked><label for=\"sk-estimator-id-1\" class=\"sk-toggleable__label fitted sk-toggleable__label-arrow\"><div><div>DummyClassifier</div></div><div><a class=\"sk-estimator-doc-link fitted\" rel=\"noreferrer\" target=\"_blank\" href=\"https://scikit-learn.org/1.6/modules/generated/sklearn.dummy.DummyClassifier.html\">?<span>Documentation for DummyClassifier</span></a><span class=\"sk-estimator-doc-link fitted\">i<span>Fitted</span></span></div></label><div class=\"sk-toggleable__content fitted\"><pre>DummyClassifier()</pre></div> </div></div></div></div>"
      ],
      "text/plain": [
       "DummyClassifier()"
      ]
     },
     "execution_count": 17,
     "metadata": {},
     "output_type": "execute_result"
    }
   ],
   "source": [
    "dummy = DummyClassifier()\n",
    "dummy.fit(X_train, y_train)"
   ]
  },
  {
   "cell_type": "code",
   "execution_count": 47,
   "metadata": {},
   "outputs": [
    {
     "name": "stdout",
     "output_type": "stream",
     "text": [
      "Accuracy Dummy:  0.6023622047244095\n"
     ]
    }
   ],
   "source": [
    "print('Accuracy Dummy: ',dummy.score(X_test, y_test))"
   ]
  },
  {
   "cell_type": "markdown",
   "metadata": {},
   "source": [
    "#### Decision Tree"
   ]
  },
  {
   "cell_type": "code",
   "execution_count": 26,
   "metadata": {},
   "outputs": [
    {
     "data": {
      "text/html": [
       "<style>#sk-container-id-2 {\n",
       "  /* Definition of color scheme common for light and dark mode */\n",
       "  --sklearn-color-text: #000;\n",
       "  --sklearn-color-text-muted: #666;\n",
       "  --sklearn-color-line: gray;\n",
       "  /* Definition of color scheme for unfitted estimators */\n",
       "  --sklearn-color-unfitted-level-0: #fff5e6;\n",
       "  --sklearn-color-unfitted-level-1: #f6e4d2;\n",
       "  --sklearn-color-unfitted-level-2: #ffe0b3;\n",
       "  --sklearn-color-unfitted-level-3: chocolate;\n",
       "  /* Definition of color scheme for fitted estimators */\n",
       "  --sklearn-color-fitted-level-0: #f0f8ff;\n",
       "  --sklearn-color-fitted-level-1: #d4ebff;\n",
       "  --sklearn-color-fitted-level-2: #b3dbfd;\n",
       "  --sklearn-color-fitted-level-3: cornflowerblue;\n",
       "\n",
       "  /* Specific color for light theme */\n",
       "  --sklearn-color-text-on-default-background: var(--sg-text-color, var(--theme-code-foreground, var(--jp-content-font-color1, black)));\n",
       "  --sklearn-color-background: var(--sg-background-color, var(--theme-background, var(--jp-layout-color0, white)));\n",
       "  --sklearn-color-border-box: var(--sg-text-color, var(--theme-code-foreground, var(--jp-content-font-color1, black)));\n",
       "  --sklearn-color-icon: #696969;\n",
       "\n",
       "  @media (prefers-color-scheme: dark) {\n",
       "    /* Redefinition of color scheme for dark theme */\n",
       "    --sklearn-color-text-on-default-background: var(--sg-text-color, var(--theme-code-foreground, var(--jp-content-font-color1, white)));\n",
       "    --sklearn-color-background: var(--sg-background-color, var(--theme-background, var(--jp-layout-color0, #111)));\n",
       "    --sklearn-color-border-box: var(--sg-text-color, var(--theme-code-foreground, var(--jp-content-font-color1, white)));\n",
       "    --sklearn-color-icon: #878787;\n",
       "  }\n",
       "}\n",
       "\n",
       "#sk-container-id-2 {\n",
       "  color: var(--sklearn-color-text);\n",
       "}\n",
       "\n",
       "#sk-container-id-2 pre {\n",
       "  padding: 0;\n",
       "}\n",
       "\n",
       "#sk-container-id-2 input.sk-hidden--visually {\n",
       "  border: 0;\n",
       "  clip: rect(1px 1px 1px 1px);\n",
       "  clip: rect(1px, 1px, 1px, 1px);\n",
       "  height: 1px;\n",
       "  margin: -1px;\n",
       "  overflow: hidden;\n",
       "  padding: 0;\n",
       "  position: absolute;\n",
       "  width: 1px;\n",
       "}\n",
       "\n",
       "#sk-container-id-2 div.sk-dashed-wrapped {\n",
       "  border: 1px dashed var(--sklearn-color-line);\n",
       "  margin: 0 0.4em 0.5em 0.4em;\n",
       "  box-sizing: border-box;\n",
       "  padding-bottom: 0.4em;\n",
       "  background-color: var(--sklearn-color-background);\n",
       "}\n",
       "\n",
       "#sk-container-id-2 div.sk-container {\n",
       "  /* jupyter's `normalize.less` sets `[hidden] { display: none; }`\n",
       "     but bootstrap.min.css set `[hidden] { display: none !important; }`\n",
       "     so we also need the `!important` here to be able to override the\n",
       "     default hidden behavior on the sphinx rendered scikit-learn.org.\n",
       "     See: https://github.com/scikit-learn/scikit-learn/issues/21755 */\n",
       "  display: inline-block !important;\n",
       "  position: relative;\n",
       "}\n",
       "\n",
       "#sk-container-id-2 div.sk-text-repr-fallback {\n",
       "  display: none;\n",
       "}\n",
       "\n",
       "div.sk-parallel-item,\n",
       "div.sk-serial,\n",
       "div.sk-item {\n",
       "  /* draw centered vertical line to link estimators */\n",
       "  background-image: linear-gradient(var(--sklearn-color-text-on-default-background), var(--sklearn-color-text-on-default-background));\n",
       "  background-size: 2px 100%;\n",
       "  background-repeat: no-repeat;\n",
       "  background-position: center center;\n",
       "}\n",
       "\n",
       "/* Parallel-specific style estimator block */\n",
       "\n",
       "#sk-container-id-2 div.sk-parallel-item::after {\n",
       "  content: \"\";\n",
       "  width: 100%;\n",
       "  border-bottom: 2px solid var(--sklearn-color-text-on-default-background);\n",
       "  flex-grow: 1;\n",
       "}\n",
       "\n",
       "#sk-container-id-2 div.sk-parallel {\n",
       "  display: flex;\n",
       "  align-items: stretch;\n",
       "  justify-content: center;\n",
       "  background-color: var(--sklearn-color-background);\n",
       "  position: relative;\n",
       "}\n",
       "\n",
       "#sk-container-id-2 div.sk-parallel-item {\n",
       "  display: flex;\n",
       "  flex-direction: column;\n",
       "}\n",
       "\n",
       "#sk-container-id-2 div.sk-parallel-item:first-child::after {\n",
       "  align-self: flex-end;\n",
       "  width: 50%;\n",
       "}\n",
       "\n",
       "#sk-container-id-2 div.sk-parallel-item:last-child::after {\n",
       "  align-self: flex-start;\n",
       "  width: 50%;\n",
       "}\n",
       "\n",
       "#sk-container-id-2 div.sk-parallel-item:only-child::after {\n",
       "  width: 0;\n",
       "}\n",
       "\n",
       "/* Serial-specific style estimator block */\n",
       "\n",
       "#sk-container-id-2 div.sk-serial {\n",
       "  display: flex;\n",
       "  flex-direction: column;\n",
       "  align-items: center;\n",
       "  background-color: var(--sklearn-color-background);\n",
       "  padding-right: 1em;\n",
       "  padding-left: 1em;\n",
       "}\n",
       "\n",
       "\n",
       "/* Toggleable style: style used for estimator/Pipeline/ColumnTransformer box that is\n",
       "clickable and can be expanded/collapsed.\n",
       "- Pipeline and ColumnTransformer use this feature and define the default style\n",
       "- Estimators will overwrite some part of the style using the `sk-estimator` class\n",
       "*/\n",
       "\n",
       "/* Pipeline and ColumnTransformer style (default) */\n",
       "\n",
       "#sk-container-id-2 div.sk-toggleable {\n",
       "  /* Default theme specific background. It is overwritten whether we have a\n",
       "  specific estimator or a Pipeline/ColumnTransformer */\n",
       "  background-color: var(--sklearn-color-background);\n",
       "}\n",
       "\n",
       "/* Toggleable label */\n",
       "#sk-container-id-2 label.sk-toggleable__label {\n",
       "  cursor: pointer;\n",
       "  display: flex;\n",
       "  width: 100%;\n",
       "  margin-bottom: 0;\n",
       "  padding: 0.5em;\n",
       "  box-sizing: border-box;\n",
       "  text-align: center;\n",
       "  align-items: start;\n",
       "  justify-content: space-between;\n",
       "  gap: 0.5em;\n",
       "}\n",
       "\n",
       "#sk-container-id-2 label.sk-toggleable__label .caption {\n",
       "  font-size: 0.6rem;\n",
       "  font-weight: lighter;\n",
       "  color: var(--sklearn-color-text-muted);\n",
       "}\n",
       "\n",
       "#sk-container-id-2 label.sk-toggleable__label-arrow:before {\n",
       "  /* Arrow on the left of the label */\n",
       "  content: \"▸\";\n",
       "  float: left;\n",
       "  margin-right: 0.25em;\n",
       "  color: var(--sklearn-color-icon);\n",
       "}\n",
       "\n",
       "#sk-container-id-2 label.sk-toggleable__label-arrow:hover:before {\n",
       "  color: var(--sklearn-color-text);\n",
       "}\n",
       "\n",
       "/* Toggleable content - dropdown */\n",
       "\n",
       "#sk-container-id-2 div.sk-toggleable__content {\n",
       "  max-height: 0;\n",
       "  max-width: 0;\n",
       "  overflow: hidden;\n",
       "  text-align: left;\n",
       "  /* unfitted */\n",
       "  background-color: var(--sklearn-color-unfitted-level-0);\n",
       "}\n",
       "\n",
       "#sk-container-id-2 div.sk-toggleable__content.fitted {\n",
       "  /* fitted */\n",
       "  background-color: var(--sklearn-color-fitted-level-0);\n",
       "}\n",
       "\n",
       "#sk-container-id-2 div.sk-toggleable__content pre {\n",
       "  margin: 0.2em;\n",
       "  border-radius: 0.25em;\n",
       "  color: var(--sklearn-color-text);\n",
       "  /* unfitted */\n",
       "  background-color: var(--sklearn-color-unfitted-level-0);\n",
       "}\n",
       "\n",
       "#sk-container-id-2 div.sk-toggleable__content.fitted pre {\n",
       "  /* unfitted */\n",
       "  background-color: var(--sklearn-color-fitted-level-0);\n",
       "}\n",
       "\n",
       "#sk-container-id-2 input.sk-toggleable__control:checked~div.sk-toggleable__content {\n",
       "  /* Expand drop-down */\n",
       "  max-height: 200px;\n",
       "  max-width: 100%;\n",
       "  overflow: auto;\n",
       "}\n",
       "\n",
       "#sk-container-id-2 input.sk-toggleable__control:checked~label.sk-toggleable__label-arrow:before {\n",
       "  content: \"▾\";\n",
       "}\n",
       "\n",
       "/* Pipeline/ColumnTransformer-specific style */\n",
       "\n",
       "#sk-container-id-2 div.sk-label input.sk-toggleable__control:checked~label.sk-toggleable__label {\n",
       "  color: var(--sklearn-color-text);\n",
       "  background-color: var(--sklearn-color-unfitted-level-2);\n",
       "}\n",
       "\n",
       "#sk-container-id-2 div.sk-label.fitted input.sk-toggleable__control:checked~label.sk-toggleable__label {\n",
       "  background-color: var(--sklearn-color-fitted-level-2);\n",
       "}\n",
       "\n",
       "/* Estimator-specific style */\n",
       "\n",
       "/* Colorize estimator box */\n",
       "#sk-container-id-2 div.sk-estimator input.sk-toggleable__control:checked~label.sk-toggleable__label {\n",
       "  /* unfitted */\n",
       "  background-color: var(--sklearn-color-unfitted-level-2);\n",
       "}\n",
       "\n",
       "#sk-container-id-2 div.sk-estimator.fitted input.sk-toggleable__control:checked~label.sk-toggleable__label {\n",
       "  /* fitted */\n",
       "  background-color: var(--sklearn-color-fitted-level-2);\n",
       "}\n",
       "\n",
       "#sk-container-id-2 div.sk-label label.sk-toggleable__label,\n",
       "#sk-container-id-2 div.sk-label label {\n",
       "  /* The background is the default theme color */\n",
       "  color: var(--sklearn-color-text-on-default-background);\n",
       "}\n",
       "\n",
       "/* On hover, darken the color of the background */\n",
       "#sk-container-id-2 div.sk-label:hover label.sk-toggleable__label {\n",
       "  color: var(--sklearn-color-text);\n",
       "  background-color: var(--sklearn-color-unfitted-level-2);\n",
       "}\n",
       "\n",
       "/* Label box, darken color on hover, fitted */\n",
       "#sk-container-id-2 div.sk-label.fitted:hover label.sk-toggleable__label.fitted {\n",
       "  color: var(--sklearn-color-text);\n",
       "  background-color: var(--sklearn-color-fitted-level-2);\n",
       "}\n",
       "\n",
       "/* Estimator label */\n",
       "\n",
       "#sk-container-id-2 div.sk-label label {\n",
       "  font-family: monospace;\n",
       "  font-weight: bold;\n",
       "  display: inline-block;\n",
       "  line-height: 1.2em;\n",
       "}\n",
       "\n",
       "#sk-container-id-2 div.sk-label-container {\n",
       "  text-align: center;\n",
       "}\n",
       "\n",
       "/* Estimator-specific */\n",
       "#sk-container-id-2 div.sk-estimator {\n",
       "  font-family: monospace;\n",
       "  border: 1px dotted var(--sklearn-color-border-box);\n",
       "  border-radius: 0.25em;\n",
       "  box-sizing: border-box;\n",
       "  margin-bottom: 0.5em;\n",
       "  /* unfitted */\n",
       "  background-color: var(--sklearn-color-unfitted-level-0);\n",
       "}\n",
       "\n",
       "#sk-container-id-2 div.sk-estimator.fitted {\n",
       "  /* fitted */\n",
       "  background-color: var(--sklearn-color-fitted-level-0);\n",
       "}\n",
       "\n",
       "/* on hover */\n",
       "#sk-container-id-2 div.sk-estimator:hover {\n",
       "  /* unfitted */\n",
       "  background-color: var(--sklearn-color-unfitted-level-2);\n",
       "}\n",
       "\n",
       "#sk-container-id-2 div.sk-estimator.fitted:hover {\n",
       "  /* fitted */\n",
       "  background-color: var(--sklearn-color-fitted-level-2);\n",
       "}\n",
       "\n",
       "/* Specification for estimator info (e.g. \"i\" and \"?\") */\n",
       "\n",
       "/* Common style for \"i\" and \"?\" */\n",
       "\n",
       ".sk-estimator-doc-link,\n",
       "a:link.sk-estimator-doc-link,\n",
       "a:visited.sk-estimator-doc-link {\n",
       "  float: right;\n",
       "  font-size: smaller;\n",
       "  line-height: 1em;\n",
       "  font-family: monospace;\n",
       "  background-color: var(--sklearn-color-background);\n",
       "  border-radius: 1em;\n",
       "  height: 1em;\n",
       "  width: 1em;\n",
       "  text-decoration: none !important;\n",
       "  margin-left: 0.5em;\n",
       "  text-align: center;\n",
       "  /* unfitted */\n",
       "  border: var(--sklearn-color-unfitted-level-1) 1pt solid;\n",
       "  color: var(--sklearn-color-unfitted-level-1);\n",
       "}\n",
       "\n",
       ".sk-estimator-doc-link.fitted,\n",
       "a:link.sk-estimator-doc-link.fitted,\n",
       "a:visited.sk-estimator-doc-link.fitted {\n",
       "  /* fitted */\n",
       "  border: var(--sklearn-color-fitted-level-1) 1pt solid;\n",
       "  color: var(--sklearn-color-fitted-level-1);\n",
       "}\n",
       "\n",
       "/* On hover */\n",
       "div.sk-estimator:hover .sk-estimator-doc-link:hover,\n",
       ".sk-estimator-doc-link:hover,\n",
       "div.sk-label-container:hover .sk-estimator-doc-link:hover,\n",
       ".sk-estimator-doc-link:hover {\n",
       "  /* unfitted */\n",
       "  background-color: var(--sklearn-color-unfitted-level-3);\n",
       "  color: var(--sklearn-color-background);\n",
       "  text-decoration: none;\n",
       "}\n",
       "\n",
       "div.sk-estimator.fitted:hover .sk-estimator-doc-link.fitted:hover,\n",
       ".sk-estimator-doc-link.fitted:hover,\n",
       "div.sk-label-container:hover .sk-estimator-doc-link.fitted:hover,\n",
       ".sk-estimator-doc-link.fitted:hover {\n",
       "  /* fitted */\n",
       "  background-color: var(--sklearn-color-fitted-level-3);\n",
       "  color: var(--sklearn-color-background);\n",
       "  text-decoration: none;\n",
       "}\n",
       "\n",
       "/* Span, style for the box shown on hovering the info icon */\n",
       ".sk-estimator-doc-link span {\n",
       "  display: none;\n",
       "  z-index: 9999;\n",
       "  position: relative;\n",
       "  font-weight: normal;\n",
       "  right: .2ex;\n",
       "  padding: .5ex;\n",
       "  margin: .5ex;\n",
       "  width: min-content;\n",
       "  min-width: 20ex;\n",
       "  max-width: 50ex;\n",
       "  color: var(--sklearn-color-text);\n",
       "  box-shadow: 2pt 2pt 4pt #999;\n",
       "  /* unfitted */\n",
       "  background: var(--sklearn-color-unfitted-level-0);\n",
       "  border: .5pt solid var(--sklearn-color-unfitted-level-3);\n",
       "}\n",
       "\n",
       ".sk-estimator-doc-link.fitted span {\n",
       "  /* fitted */\n",
       "  background: var(--sklearn-color-fitted-level-0);\n",
       "  border: var(--sklearn-color-fitted-level-3);\n",
       "}\n",
       "\n",
       ".sk-estimator-doc-link:hover span {\n",
       "  display: block;\n",
       "}\n",
       "\n",
       "/* \"?\"-specific style due to the `<a>` HTML tag */\n",
       "\n",
       "#sk-container-id-2 a.estimator_doc_link {\n",
       "  float: right;\n",
       "  font-size: 1rem;\n",
       "  line-height: 1em;\n",
       "  font-family: monospace;\n",
       "  background-color: var(--sklearn-color-background);\n",
       "  border-radius: 1rem;\n",
       "  height: 1rem;\n",
       "  width: 1rem;\n",
       "  text-decoration: none;\n",
       "  /* unfitted */\n",
       "  color: var(--sklearn-color-unfitted-level-1);\n",
       "  border: var(--sklearn-color-unfitted-level-1) 1pt solid;\n",
       "}\n",
       "\n",
       "#sk-container-id-2 a.estimator_doc_link.fitted {\n",
       "  /* fitted */\n",
       "  border: var(--sklearn-color-fitted-level-1) 1pt solid;\n",
       "  color: var(--sklearn-color-fitted-level-1);\n",
       "}\n",
       "\n",
       "/* On hover */\n",
       "#sk-container-id-2 a.estimator_doc_link:hover {\n",
       "  /* unfitted */\n",
       "  background-color: var(--sklearn-color-unfitted-level-3);\n",
       "  color: var(--sklearn-color-background);\n",
       "  text-decoration: none;\n",
       "}\n",
       "\n",
       "#sk-container-id-2 a.estimator_doc_link.fitted:hover {\n",
       "  /* fitted */\n",
       "  background-color: var(--sklearn-color-fitted-level-3);\n",
       "}\n",
       "</style><div id=\"sk-container-id-2\" class=\"sk-top-container\"><div class=\"sk-text-repr-fallback\"><pre>DecisionTreeClassifier(random_state=42)</pre><b>In a Jupyter environment, please rerun this cell to show the HTML representation or trust the notebook. <br />On GitHub, the HTML representation is unable to render, please try loading this page with nbviewer.org.</b></div><div class=\"sk-container\" hidden><div class=\"sk-item\"><div class=\"sk-estimator fitted sk-toggleable\"><input class=\"sk-toggleable__control sk-hidden--visually\" id=\"sk-estimator-id-2\" type=\"checkbox\" checked><label for=\"sk-estimator-id-2\" class=\"sk-toggleable__label fitted sk-toggleable__label-arrow\"><div><div>DecisionTreeClassifier</div></div><div><a class=\"sk-estimator-doc-link fitted\" rel=\"noreferrer\" target=\"_blank\" href=\"https://scikit-learn.org/1.6/modules/generated/sklearn.tree.DecisionTreeClassifier.html\">?<span>Documentation for DecisionTreeClassifier</span></a><span class=\"sk-estimator-doc-link fitted\">i<span>Fitted</span></span></div></label><div class=\"sk-toggleable__content fitted\"><pre>DecisionTreeClassifier(random_state=42)</pre></div> </div></div></div></div>"
      ],
      "text/plain": [
       "DecisionTreeClassifier(random_state=42)"
      ]
     },
     "execution_count": 26,
     "metadata": {},
     "output_type": "execute_result"
    }
   ],
   "source": [
    "tree = DecisionTreeClassifier(random_state=42)\n",
    "tree.fit(X_train, y_train)"
   ]
  },
  {
   "cell_type": "code",
   "execution_count": 28,
   "metadata": {},
   "outputs": [
    {
     "data": {
      "text/plain": [
       "0.65748031496063"
      ]
     },
     "execution_count": 28,
     "metadata": {},
     "output_type": "execute_result"
    }
   ],
   "source": [
    "tree.score(X_test, y_test)"
   ]
  },
  {
   "cell_type": "code",
   "execution_count": 32,
   "metadata": {},
   "outputs": [
    {
     "data": {
      "image/png": "[encoded data removed]",
      "text/plain": [
       "<Figure size 1500x600 with 1 Axes>"
      ]
     },
     "metadata": {},
     "output_type": "display_data"
    }
   ],
   "source": [
    "plt.figure(figsize=(15,6))\n",
    "plot_tree(tree, filled=True, class_names=['nao','sim'], fontsize=1);"
   ]
  },
  {
   "cell_type": "code",
   "execution_count": 33,
   "metadata": {},
   "outputs": [
    {
     "data": {
      "text/html": [
       "<style>#sk-container-id-3 {\n",
       "  /* Definition of color scheme common for light and dark mode */\n",
       "  --sklearn-color-text: #000;\n",
       "  --sklearn-color-text-muted: #666;\n",
       "  --sklearn-color-line: gray;\n",
       "  /* Definition of color scheme for unfitted estimators */\n",
       "  --sklearn-color-unfitted-level-0: #fff5e6;\n",
       "  --sklearn-color-unfitted-level-1: #f6e4d2;\n",
       "  --sklearn-color-unfitted-level-2: #ffe0b3;\n",
       "  --sklearn-color-unfitted-level-3: chocolate;\n",
       "  /* Definition of color scheme for fitted estimators */\n",
       "  --sklearn-color-fitted-level-0: #f0f8ff;\n",
       "  --sklearn-color-fitted-level-1: #d4ebff;\n",
       "  --sklearn-color-fitted-level-2: #b3dbfd;\n",
       "  --sklearn-color-fitted-level-3: cornflowerblue;\n",
       "\n",
       "  /* Specific color for light theme */\n",
       "  --sklearn-color-text-on-default-background: var(--sg-text-color, var(--theme-code-foreground, var(--jp-content-font-color1, black)));\n",
       "  --sklearn-color-background: var(--sg-background-color, var(--theme-background, var(--jp-layout-color0, white)));\n",
       "  --sklearn-color-border-box: var(--sg-text-color, var(--theme-code-foreground, var(--jp-content-font-color1, black)));\n",
       "  --sklearn-color-icon: #696969;\n",
       "\n",
       "  @media (prefers-color-scheme: dark) {\n",
       "    /* Redefinition of color scheme for dark theme */\n",
       "    --sklearn-color-text-on-default-background: var(--sg-text-color, var(--theme-code-foreground, var(--jp-content-font-color1, white)));\n",
       "    --sklearn-color-background: var(--sg-background-color, var(--theme-background, var(--jp-layout-color0, #111)));\n",
       "    --sklearn-color-border-box: var(--sg-text-color, var(--theme-code-foreground, var(--jp-content-font-color1, white)));\n",
       "    --sklearn-color-icon: #878787;\n",
       "  }\n",
       "}\n",
       "\n",
       "#sk-container-id-3 {\n",
       "  color: var(--sklearn-color-text);\n",
       "}\n",
       "\n",
       "#sk-container-id-3 pre {\n",
       "  padding: 0;\n",
       "}\n",
       "\n",
       "#sk-container-id-3 input.sk-hidden--visually {\n",
       "  border: 0;\n",
       "  clip: rect(1px 1px 1px 1px);\n",
       "  clip: rect(1px, 1px, 1px, 1px);\n",
       "  height: 1px;\n",
       "  margin: -1px;\n",
       "  overflow: hidden;\n",
       "  padding: 0;\n",
       "  position: absolute;\n",
       "  width: 1px;\n",
       "}\n",
       "\n",
       "#sk-container-id-3 div.sk-dashed-wrapped {\n",
       "  border: 1px dashed var(--sklearn-color-line);\n",
       "  margin: 0 0.4em 0.5em 0.4em;\n",
       "  box-sizing: border-box;\n",
       "  padding-bottom: 0.4em;\n",
       "  background-color: var(--sklearn-color-background);\n",
       "}\n",
       "\n",
       "#sk-container-id-3 div.sk-container {\n",
       "  /* jupyter's `normalize.less` sets `[hidden] { display: none; }`\n",
       "     but bootstrap.min.css set `[hidden] { display: none !important; }`\n",
       "     so we also need the `!important` here to be able to override the\n",
       "     default hidden behavior on the sphinx rendered scikit-learn.org.\n",
       "     See: https://github.com/scikit-learn/scikit-learn/issues/21755 */\n",
       "  display: inline-block !important;\n",
       "  position: relative;\n",
       "}\n",
       "\n",
       "#sk-container-id-3 div.sk-text-repr-fallback {\n",
       "  display: none;\n",
       "}\n",
       "\n",
       "div.sk-parallel-item,\n",
       "div.sk-serial,\n",
       "div.sk-item {\n",
       "  /* draw centered vertical line to link estimators */\n",
       "  background-image: linear-gradient(var(--sklearn-color-text-on-default-background), var(--sklearn-color-text-on-default-background));\n",
       "  background-size: 2px 100%;\n",
       "  background-repeat: no-repeat;\n",
       "  background-position: center center;\n",
       "}\n",
       "\n",
       "/* Parallel-specific style estimator block */\n",
       "\n",
       "#sk-container-id-3 div.sk-parallel-item::after {\n",
       "  content: \"\";\n",
       "  width: 100%;\n",
       "  border-bottom: 2px solid var(--sklearn-color-text-on-default-background);\n",
       "  flex-grow: 1;\n",
       "}\n",
       "\n",
       "#sk-container-id-3 div.sk-parallel {\n",
       "  display: flex;\n",
       "  align-items: stretch;\n",
       "  justify-content: center;\n",
       "  background-color: var(--sklearn-color-background);\n",
       "  position: relative;\n",
       "}\n",
       "\n",
       "#sk-container-id-3 div.sk-parallel-item {\n",
       "  display: flex;\n",
       "  flex-direction: column;\n",
       "}\n",
       "\n",
       "#sk-container-id-3 div.sk-parallel-item:first-child::after {\n",
       "  align-self: flex-end;\n",
       "  width: 50%;\n",
       "}\n",
       "\n",
       "#sk-container-id-3 div.sk-parallel-item:last-child::after {\n",
       "  align-self: flex-start;\n",
       "  width: 50%;\n",
       "}\n",
       "\n",
       "#sk-container-id-3 div.sk-parallel-item:only-child::after {\n",
       "  width: 0;\n",
       "}\n",
       "\n",
       "/* Serial-specific style estimator block */\n",
       "\n",
       "#sk-container-id-3 div.sk-serial {\n",
       "  display: flex;\n",
       "  flex-direction: column;\n",
       "  align-items: center;\n",
       "  background-color: var(--sklearn-color-background);\n",
       "  padding-right: 1em;\n",
       "  padding-left: 1em;\n",
       "}\n",
       "\n",
       "\n",
       "/* Toggleable style: style used for estimator/Pipeline/ColumnTransformer box that is\n",
       "clickable and can be expanded/collapsed.\n",
       "- Pipeline and ColumnTransformer use this feature and define the default style\n",
       "- Estimators will overwrite some part of the style using the `sk-estimator` class\n",
       "*/\n",
       "\n",
       "/* Pipeline and ColumnTransformer style (default) */\n",
       "\n",
       "#sk-container-id-3 div.sk-toggleable {\n",
       "  /* Default theme specific background. It is overwritten whether we have a\n",
       "  specific estimator or a Pipeline/ColumnTransformer */\n",
       "  background-color: var(--sklearn-color-background);\n",
       "}\n",
       "\n",
       "/* Toggleable label */\n",
       "#sk-container-id-3 label.sk-toggleable__label {\n",
       "  cursor: pointer;\n",
       "  display: flex;\n",
       "  width: 100%;\n",
       "  margin-bottom: 0;\n",
       "  padding: 0.5em;\n",
       "  box-sizing: border-box;\n",
       "  text-align: center;\n",
       "  align-items: start;\n",
       "  justify-content: space-between;\n",
       "  gap: 0.5em;\n",
       "}\n",
       "\n",
       "#sk-container-id-3 label.sk-toggleable__label .caption {\n",
       "  font-size: 0.6rem;\n",
       "  font-weight: lighter;\n",
       "  color: var(--sklearn-color-text-muted);\n",
       "}\n",
       "\n",
       "#sk-container-id-3 label.sk-toggleable__label-arrow:before {\n",
       "  /* Arrow on the left of the label */\n",
       "  content: \"▸\";\n",
       "  float: left;\n",
       "  margin-right: 0.25em;\n",
       "  color: var(--sklearn-color-icon);\n",
       "}\n",
       "\n",
       "#sk-container-id-3 label.sk-toggleable__label-arrow:hover:before {\n",
       "  color: var(--sklearn-color-text);\n",
       "}\n",
       "\n",
       "/* Toggleable content - dropdown */\n",
       "\n",
       "#sk-container-id-3 div.sk-toggleable__content {\n",
       "  max-height: 0;\n",
       "  max-width: 0;\n",
       "  overflow: hidden;\n",
       "  text-align: left;\n",
       "  /* unfitted */\n",
       "  background-color: var(--sklearn-color-unfitted-level-0);\n",
       "}\n",
       "\n",
       "#sk-container-id-3 div.sk-toggleable__content.fitted {\n",
       "  /* fitted */\n",
       "  background-color: var(--sklearn-color-fitted-level-0);\n",
       "}\n",
       "\n",
       "#sk-container-id-3 div.sk-toggleable__content pre {\n",
       "  margin: 0.2em;\n",
       "  border-radius: 0.25em;\n",
       "  color: var(--sklearn-color-text);\n",
       "  /* unfitted */\n",
       "  background-color: var(--sklearn-color-unfitted-level-0);\n",
       "}\n",
       "\n",
       "#sk-container-id-3 div.sk-toggleable__content.fitted pre {\n",
       "  /* unfitted */\n",
       "  background-color: var(--sklearn-color-fitted-level-0);\n",
       "}\n",
       "\n",
       "#sk-container-id-3 input.sk-toggleable__control:checked~div.sk-toggleable__content {\n",
       "  /* Expand drop-down */\n",
       "  max-height: 200px;\n",
       "  max-width: 100%;\n",
       "  overflow: auto;\n",
       "}\n",
       "\n",
       "#sk-container-id-3 input.sk-toggleable__control:checked~label.sk-toggleable__label-arrow:before {\n",
       "  content: \"▾\";\n",
       "}\n",
       "\n",
       "/* Pipeline/ColumnTransformer-specific style */\n",
       "\n",
       "#sk-container-id-3 div.sk-label input.sk-toggleable__control:checked~label.sk-toggleable__label {\n",
       "  color: var(--sklearn-color-text);\n",
       "  background-color: var(--sklearn-color-unfitted-level-2);\n",
       "}\n",
       "\n",
       "#sk-container-id-3 div.sk-label.fitted input.sk-toggleable__control:checked~label.sk-toggleable__label {\n",
       "  background-color: var(--sklearn-color-fitted-level-2);\n",
       "}\n",
       "\n",
       "/* Estimator-specific style */\n",
       "\n",
       "/* Colorize estimator box */\n",
       "#sk-container-id-3 div.sk-estimator input.sk-toggleable__control:checked~label.sk-toggleable__label {\n",
       "  /* unfitted */\n",
       "  background-color: var(--sklearn-color-unfitted-level-2);\n",
       "}\n",
       "\n",
       "#sk-container-id-3 div.sk-estimator.fitted input.sk-toggleable__control:checked~label.sk-toggleable__label {\n",
       "  /* fitted */\n",
       "  background-color: var(--sklearn-color-fitted-level-2);\n",
       "}\n",
       "\n",
       "#sk-container-id-3 div.sk-label label.sk-toggleable__label,\n",
       "#sk-container-id-3 div.sk-label label {\n",
       "  /* The background is the default theme color */\n",
       "  color: var(--sklearn-color-text-on-default-background);\n",
       "}\n",
       "\n",
       "/* On hover, darken the color of the background */\n",
       "#sk-container-id-3 div.sk-label:hover label.sk-toggleable__label {\n",
       "  color: var(--sklearn-color-text);\n",
       "  background-color: var(--sklearn-color-unfitted-level-2);\n",
       "}\n",
       "\n",
       "/* Label box, darken color on hover, fitted */\n",
       "#sk-container-id-3 div.sk-label.fitted:hover label.sk-toggleable__label.fitted {\n",
       "  color: var(--sklearn-color-text);\n",
       "  background-color: var(--sklearn-color-fitted-level-2);\n",
       "}\n",
       "\n",
       "/* Estimator label */\n",
       "\n",
       "#sk-container-id-3 div.sk-label label {\n",
       "  font-family: monospace;\n",
       "  font-weight: bold;\n",
       "  display: inline-block;\n",
       "  line-height: 1.2em;\n",
       "}\n",
       "\n",
       "#sk-container-id-3 div.sk-label-container {\n",
       "  text-align: center;\n",
       "}\n",
       "\n",
       "/* Estimator-specific */\n",
       "#sk-container-id-3 div.sk-estimator {\n",
       "  font-family: monospace;\n",
       "  border: 1px dotted var(--sklearn-color-border-box);\n",
       "  border-radius: 0.25em;\n",
       "  box-sizing: border-box;\n",
       "  margin-bottom: 0.5em;\n",
       "  /* unfitted */\n",
       "  background-color: var(--sklearn-color-unfitted-level-0);\n",
       "}\n",
       "\n",
       "#sk-container-id-3 div.sk-estimator.fitted {\n",
       "  /* fitted */\n",
       "  background-color: var(--sklearn-color-fitted-level-0);\n",
       "}\n",
       "\n",
       "/* on hover */\n",
       "#sk-container-id-3 div.sk-estimator:hover {\n",
       "  /* unfitted */\n",
       "  background-color: var(--sklearn-color-unfitted-level-2);\n",
       "}\n",
       "\n",
       "#sk-container-id-3 div.sk-estimator.fitted:hover {\n",
       "  /* fitted */\n",
       "  background-color: var(--sklearn-color-fitted-level-2);\n",
       "}\n",
       "\n",
       "/* Specification for estimator info (e.g. \"i\" and \"?\") */\n",
       "\n",
       "/* Common style for \"i\" and \"?\" */\n",
       "\n",
       ".sk-estimator-doc-link,\n",
       "a:link.sk-estimator-doc-link,\n",
       "a:visited.sk-estimator-doc-link {\n",
       "  float: right;\n",
       "  font-size: smaller;\n",
       "  line-height: 1em;\n",
       "  font-family: monospace;\n",
       "  background-color: var(--sklearn-color-background);\n",
       "  border-radius: 1em;\n",
       "  height: 1em;\n",
       "  width: 1em;\n",
       "  text-decoration: none !important;\n",
       "  margin-left: 0.5em;\n",
       "  text-align: center;\n",
       "  /* unfitted */\n",
       "  border: var(--sklearn-color-unfitted-level-1) 1pt solid;\n",
       "  color: var(--sklearn-color-unfitted-level-1);\n",
       "}\n",
       "\n",
       ".sk-estimator-doc-link.fitted,\n",
       "a:link.sk-estimator-doc-link.fitted,\n",
       "a:visited.sk-estimator-doc-link.fitted {\n",
       "  /* fitted */\n",
       "  border: var(--sklearn-color-fitted-level-1) 1pt solid;\n",
       "  color: var(--sklearn-color-fitted-level-1);\n",
       "}\n",
       "\n",
       "/* On hover */\n",
       "div.sk-estimator:hover .sk-estimator-doc-link:hover,\n",
       ".sk-estimator-doc-link:hover,\n",
       "div.sk-label-container:hover .sk-estimator-doc-link:hover,\n",
       ".sk-estimator-doc-link:hover {\n",
       "  /* unfitted */\n",
       "  background-color: var(--sklearn-color-unfitted-level-3);\n",
       "  color: var(--sklearn-color-background);\n",
       "  text-decoration: none;\n",
       "}\n",
       "\n",
       "div.sk-estimator.fitted:hover .sk-estimator-doc-link.fitted:hover,\n",
       ".sk-estimator-doc-link.fitted:hover,\n",
       "div.sk-label-container:hover .sk-estimator-doc-link.fitted:hover,\n",
       ".sk-estimator-doc-link.fitted:hover {\n",
       "  /* fitted */\n",
       "  background-color: var(--sklearn-color-fitted-level-3);\n",
       "  color: var(--sklearn-color-background);\n",
       "  text-decoration: none;\n",
       "}\n",
       "\n",
       "/* Span, style for the box shown on hovering the info icon */\n",
       ".sk-estimator-doc-link span {\n",
       "  display: none;\n",
       "  z-index: 9999;\n",
       "  position: relative;\n",
       "  font-weight: normal;\n",
       "  right: .2ex;\n",
       "  padding: .5ex;\n",
       "  margin: .5ex;\n",
       "  width: min-content;\n",
       "  min-width: 20ex;\n",
       "  max-width: 50ex;\n",
       "  color: var(--sklearn-color-text);\n",
       "  box-shadow: 2pt 2pt 4pt #999;\n",
       "  /* unfitted */\n",
       "  background: var(--sklearn-color-unfitted-level-0);\n",
       "  border: .5pt solid var(--sklearn-color-unfitted-level-3);\n",
       "}\n",
       "\n",
       ".sk-estimator-doc-link.fitted span {\n",
       "  /* fitted */\n",
       "  background: var(--sklearn-color-fitted-level-0);\n",
       "  border: var(--sklearn-color-fitted-level-3);\n",
       "}\n",
       "\n",
       ".sk-estimator-doc-link:hover span {\n",
       "  display: block;\n",
       "}\n",
       "\n",
       "/* \"?\"-specific style due to the `<a>` HTML tag */\n",
       "\n",
       "#sk-container-id-3 a.estimator_doc_link {\n",
       "  float: right;\n",
       "  font-size: 1rem;\n",
       "  line-height: 1em;\n",
       "  font-family: monospace;\n",
       "  background-color: var(--sklearn-color-background);\n",
       "  border-radius: 1rem;\n",
       "  height: 1rem;\n",
       "  width: 1rem;\n",
       "  text-decoration: none;\n",
       "  /* unfitted */\n",
       "  color: var(--sklearn-color-unfitted-level-1);\n",
       "  border: var(--sklearn-color-unfitted-level-1) 1pt solid;\n",
       "}\n",
       "\n",
       "#sk-container-id-3 a.estimator_doc_link.fitted {\n",
       "  /* fitted */\n",
       "  border: var(--sklearn-color-fitted-level-1) 1pt solid;\n",
       "  color: var(--sklearn-color-fitted-level-1);\n",
       "}\n",
       "\n",
       "/* On hover */\n",
       "#sk-container-id-3 a.estimator_doc_link:hover {\n",
       "  /* unfitted */\n",
       "  background-color: var(--sklearn-color-unfitted-level-3);\n",
       "  color: var(--sklearn-color-background);\n",
       "  text-decoration: none;\n",
       "}\n",
       "\n",
       "#sk-container-id-3 a.estimator_doc_link.fitted:hover {\n",
       "  /* fitted */\n",
       "  background-color: var(--sklearn-color-fitted-level-3);\n",
       "}\n",
       "</style><div id=\"sk-container-id-3\" class=\"sk-top-container\"><div class=\"sk-text-repr-fallback\"><pre>DecisionTreeClassifier(max_depth=3, random_state=42)</pre><b>In a Jupyter environment, please rerun this cell to show the HTML representation or trust the notebook. <br />On GitHub, the HTML representation is unable to render, please try loading this page with nbviewer.org.</b></div><div class=\"sk-container\" hidden><div class=\"sk-item\"><div class=\"sk-estimator fitted sk-toggleable\"><input class=\"sk-toggleable__control sk-hidden--visually\" id=\"sk-estimator-id-3\" type=\"checkbox\" checked><label for=\"sk-estimator-id-3\" class=\"sk-toggleable__label fitted sk-toggleable__label-arrow\"><div><div>DecisionTreeClassifier</div></div><div><a class=\"sk-estimator-doc-link fitted\" rel=\"noreferrer\" target=\"_blank\" href=\"https://scikit-learn.org/1.6/modules/generated/sklearn.tree.DecisionTreeClassifier.html\">?<span>Documentation for DecisionTreeClassifier</span></a><span class=\"sk-estimator-doc-link fitted\">i<span>Fitted</span></span></div></label><div class=\"sk-toggleable__content fitted\"><pre>DecisionTreeClassifier(max_depth=3, random_state=42)</pre></div> </div></div></div></div>"
      ],
      "text/plain": [
       "DecisionTreeClassifier(max_depth=3, random_state=42)"
      ]
     },
     "execution_count": 33,
     "metadata": {},
     "output_type": "execute_result"
    }
   ],
   "source": [
    "tree = DecisionTreeClassifier(max_depth=3, random_state=42)\n",
    "tree.fit(X_train, y_train)"
   ]
  },
  {
   "cell_type": "code",
   "execution_count": 45,
   "metadata": {},
   "outputs": [
    {
     "name": "stdout",
     "output_type": "stream",
     "text": [
      "Accuracy Decision Tree:  0.7086614173228346\n"
     ]
    }
   ],
   "source": [
    "print('Accuracy Decision Tree: ', tree.score(X_test, y_test))"
   ]
  },
  {
   "cell_type": "code",
   "execution_count": 36,
   "metadata": {},
   "outputs": [
    {
     "data": {
      "image/png": "[encoded data removed]",
      "text/plain": [
       "<Figure size 1500x600 with 1 Axes>"
      ]
     },
     "metadata": {},
     "output_type": "display_data"
    }
   ],
   "source": [
    "plt.figure(figsize=(15,6))\n",
    "plot_tree(tree, filled=True, class_names=['nao','sim'], fontsize=7);"
   ]
  },
  {
   "cell_type": "markdown",
   "metadata": {},
   "source": [
    "#### KNN"
   ]
  },
  {
   "cell_type": "code",
   "execution_count": 38,
   "metadata": {},
   "outputs": [],
   "source": [
    "norm = MinMaxScaler()\n",
    "X_train_nomr = norm.fit_transform(X_train)"
   ]
  },
  {
   "cell_type": "code",
   "execution_count": 40,
   "metadata": {},
   "outputs": [
    {
     "data": {
      "text/html": [
       "<style>#sk-container-id-4 {\n",
       "  /* Definition of color scheme common for light and dark mode */\n",
       "  --sklearn-color-text: #000;\n",
       "  --sklearn-color-text-muted: #666;\n",
       "  --sklearn-color-line: gray;\n",
       "  /* Definition of color scheme for unfitted estimators */\n",
       "  --sklearn-color-unfitted-level-0: #fff5e6;\n",
       "  --sklearn-color-unfitted-level-1: #f6e4d2;\n",
       "  --sklearn-color-unfitted-level-2: #ffe0b3;\n",
       "  --sklearn-color-unfitted-level-3: chocolate;\n",
       "  /* Definition of color scheme for fitted estimators */\n",
       "  --sklearn-color-fitted-level-0: #f0f8ff;\n",
       "  --sklearn-color-fitted-level-1: #d4ebff;\n",
       "  --sklearn-color-fitted-level-2: #b3dbfd;\n",
       "  --sklearn-color-fitted-level-3: cornflowerblue;\n",
       "\n",
       "  /* Specific color for light theme */\n",
       "  --sklearn-color-text-on-default-background: var(--sg-text-color, var(--theme-code-foreground, var(--jp-content-font-color1, black)));\n",
       "  --sklearn-color-background: var(--sg-background-color, var(--theme-background, var(--jp-layout-color0, white)));\n",
       "  --sklearn-color-border-box: var(--sg-text-color, var(--theme-code-foreground, var(--jp-content-font-color1, black)));\n",
       "  --sklearn-color-icon: #696969;\n",
       "\n",
       "  @media (prefers-color-scheme: dark) {\n",
       "    /* Redefinition of color scheme for dark theme */\n",
       "    --sklearn-color-text-on-default-background: var(--sg-text-color, var(--theme-code-foreground, var(--jp-content-font-color1, white)));\n",
       "    --sklearn-color-background: var(--sg-background-color, var(--theme-background, var(--jp-layout-color0, #111)));\n",
       "    --sklearn-color-border-box: var(--sg-text-color, var(--theme-code-foreground, var(--jp-content-font-color1, white)));\n",
       "    --sklearn-color-icon: #878787;\n",
       "  }\n",
       "}\n",
       "\n",
       "#sk-container-id-4 {\n",
       "  color: var(--sklearn-color-text);\n",
       "}\n",
       "\n",
       "#sk-container-id-4 pre {\n",
       "  padding: 0;\n",
       "}\n",
       "\n",
       "#sk-container-id-4 input.sk-hidden--visually {\n",
       "  border: 0;\n",
       "  clip: rect(1px 1px 1px 1px);\n",
       "  clip: rect(1px, 1px, 1px, 1px);\n",
       "  height: 1px;\n",
       "  margin: -1px;\n",
       "  overflow: hidden;\n",
       "  padding: 0;\n",
       "  position: absolute;\n",
       "  width: 1px;\n",
       "}\n",
       "\n",
       "#sk-container-id-4 div.sk-dashed-wrapped {\n",
       "  border: 1px dashed var(--sklearn-color-line);\n",
       "  margin: 0 0.4em 0.5em 0.4em;\n",
       "  box-sizing: border-box;\n",
       "  padding-bottom: 0.4em;\n",
       "  background-color: var(--sklearn-color-background);\n",
       "}\n",
       "\n",
       "#sk-container-id-4 div.sk-container {\n",
       "  /* jupyter's `normalize.less` sets `[hidden] { display: none; }`\n",
       "     but bootstrap.min.css set `[hidden] { display: none !important; }`\n",
       "     so we also need the `!important` here to be able to override the\n",
       "     default hidden behavior on the sphinx rendered scikit-learn.org.\n",
       "     See: https://github.com/scikit-learn/scikit-learn/issues/21755 */\n",
       "  display: inline-block !important;\n",
       "  position: relative;\n",
       "}\n",
       "\n",
       "#sk-container-id-4 div.sk-text-repr-fallback {\n",
       "  display: none;\n",
       "}\n",
       "\n",
       "div.sk-parallel-item,\n",
       "div.sk-serial,\n",
       "div.sk-item {\n",
       "  /* draw centered vertical line to link estimators */\n",
       "  background-image: linear-gradient(var(--sklearn-color-text-on-default-background), var(--sklearn-color-text-on-default-background));\n",
       "  background-size: 2px 100%;\n",
       "  background-repeat: no-repeat;\n",
       "  background-position: center center;\n",
       "}\n",
       "\n",
       "/* Parallel-specific style estimator block */\n",
       "\n",
       "#sk-container-id-4 div.sk-parallel-item::after {\n",
       "  content: \"\";\n",
       "  width: 100%;\n",
       "  border-bottom: 2px solid var(--sklearn-color-text-on-default-background);\n",
       "  flex-grow: 1;\n",
       "}\n",
       "\n",
       "#sk-container-id-4 div.sk-parallel {\n",
       "  display: flex;\n",
       "  align-items: stretch;\n",
       "  justify-content: center;\n",
       "  background-color: var(--sklearn-color-background);\n",
       "  position: relative;\n",
       "}\n",
       "\n",
       "#sk-container-id-4 div.sk-parallel-item {\n",
       "  display: flex;\n",
       "  flex-direction: column;\n",
       "}\n",
       "\n",
       "#sk-container-id-4 div.sk-parallel-item:first-child::after {\n",
       "  align-self: flex-end;\n",
       "  width: 50%;\n",
       "}\n",
       "\n",
       "#sk-container-id-4 div.sk-parallel-item:last-child::after {\n",
       "  align-self: flex-start;\n",
       "  width: 50%;\n",
       "}\n",
       "\n",
       "#sk-container-id-4 div.sk-parallel-item:only-child::after {\n",
       "  width: 0;\n",
       "}\n",
       "\n",
       "/* Serial-specific style estimator block */\n",
       "\n",
       "#sk-container-id-4 div.sk-serial {\n",
       "  display: flex;\n",
       "  flex-direction: column;\n",
       "  align-items: center;\n",
       "  background-color: var(--sklearn-color-background);\n",
       "  padding-right: 1em;\n",
       "  padding-left: 1em;\n",
       "}\n",
       "\n",
       "\n",
       "/* Toggleable style: style used for estimator/Pipeline/ColumnTransformer box that is\n",
       "clickable and can be expanded/collapsed.\n",
       "- Pipeline and ColumnTransformer use this feature and define the default style\n",
       "- Estimators will overwrite some part of the style using the `sk-estimator` class\n",
       "*/\n",
       "\n",
       "/* Pipeline and ColumnTransformer style (default) */\n",
       "\n",
       "#sk-container-id-4 div.sk-toggleable {\n",
       "  /* Default theme specific background. It is overwritten whether we have a\n",
       "  specific estimator or a Pipeline/ColumnTransformer */\n",
       "  background-color: var(--sklearn-color-background);\n",
       "}\n",
       "\n",
       "/* Toggleable label */\n",
       "#sk-container-id-4 label.sk-toggleable__label {\n",
       "  cursor: pointer;\n",
       "  display: flex;\n",
       "  width: 100%;\n",
       "  margin-bottom: 0;\n",
       "  padding: 0.5em;\n",
       "  box-sizing: border-box;\n",
       "  text-align: center;\n",
       "  align-items: start;\n",
       "  justify-content: space-between;\n",
       "  gap: 0.5em;\n",
       "}\n",
       "\n",
       "#sk-container-id-4 label.sk-toggleable__label .caption {\n",
       "  font-size: 0.6rem;\n",
       "  font-weight: lighter;\n",
       "  color: var(--sklearn-color-text-muted);\n",
       "}\n",
       "\n",
       "#sk-container-id-4 label.sk-toggleable__label-arrow:before {\n",
       "  /* Arrow on the left of the label */\n",
       "  content: \"▸\";\n",
       "  float: left;\n",
       "  margin-right: 0.25em;\n",
       "  color: var(--sklearn-color-icon);\n",
       "}\n",
       "\n",
       "#sk-container-id-4 label.sk-toggleable__label-arrow:hover:before {\n",
       "  color: var(--sklearn-color-text);\n",
       "}\n",
       "\n",
       "/* Toggleable content - dropdown */\n",
       "\n",
       "#sk-container-id-4 div.sk-toggleable__content {\n",
       "  max-height: 0;\n",
       "  max-width: 0;\n",
       "  overflow: hidden;\n",
       "  text-align: left;\n",
       "  /* unfitted */\n",
       "  background-color: var(--sklearn-color-unfitted-level-0);\n",
       "}\n",
       "\n",
       "#sk-container-id-4 div.sk-toggleable__content.fitted {\n",
       "  /* fitted */\n",
       "  background-color: var(--sklearn-color-fitted-level-0);\n",
       "}\n",
       "\n",
       "#sk-container-id-4 div.sk-toggleable__content pre {\n",
       "  margin: 0.2em;\n",
       "  border-radius: 0.25em;\n",
       "  color: var(--sklearn-color-text);\n",
       "  /* unfitted */\n",
       "  background-color: var(--sklearn-color-unfitted-level-0);\n",
       "}\n",
       "\n",
       "#sk-container-id-4 div.sk-toggleable__content.fitted pre {\n",
       "  /* unfitted */\n",
       "  background-color: var(--sklearn-color-fitted-level-0);\n",
       "}\n",
       "\n",
       "#sk-container-id-4 input.sk-toggleable__control:checked~div.sk-toggleable__content {\n",
       "  /* Expand drop-down */\n",
       "  max-height: 200px;\n",
       "  max-width: 100%;\n",
       "  overflow: auto;\n",
       "}\n",
       "\n",
       "#sk-container-id-4 input.sk-toggleable__control:checked~label.sk-toggleable__label-arrow:before {\n",
       "  content: \"▾\";\n",
       "}\n",
       "\n",
       "/* Pipeline/ColumnTransformer-specific style */\n",
       "\n",
       "#sk-container-id-4 div.sk-label input.sk-toggleable__control:checked~label.sk-toggleable__label {\n",
       "  color: var(--sklearn-color-text);\n",
       "  background-color: var(--sklearn-color-unfitted-level-2);\n",
       "}\n",
       "\n",
       "#sk-container-id-4 div.sk-label.fitted input.sk-toggleable__control:checked~label.sk-toggleable__label {\n",
       "  background-color: var(--sklearn-color-fitted-level-2);\n",
       "}\n",
       "\n",
       "/* Estimator-specific style */\n",
       "\n",
       "/* Colorize estimator box */\n",
       "#sk-container-id-4 div.sk-estimator input.sk-toggleable__control:checked~label.sk-toggleable__label {\n",
       "  /* unfitted */\n",
       "  background-color: var(--sklearn-color-unfitted-level-2);\n",
       "}\n",
       "\n",
       "#sk-container-id-4 div.sk-estimator.fitted input.sk-toggleable__control:checked~label.sk-toggleable__label {\n",
       "  /* fitted */\n",
       "  background-color: var(--sklearn-color-fitted-level-2);\n",
       "}\n",
       "\n",
       "#sk-container-id-4 div.sk-label label.sk-toggleable__label,\n",
       "#sk-container-id-4 div.sk-label label {\n",
       "  /* The background is the default theme color */\n",
       "  color: var(--sklearn-color-text-on-default-background);\n",
       "}\n",
       "\n",
       "/* On hover, darken the color of the background */\n",
       "#sk-container-id-4 div.sk-label:hover label.sk-toggleable__label {\n",
       "  color: var(--sklearn-color-text);\n",
       "  background-color: var(--sklearn-color-unfitted-level-2);\n",
       "}\n",
       "\n",
       "/* Label box, darken color on hover, fitted */\n",
       "#sk-container-id-4 div.sk-label.fitted:hover label.sk-toggleable__label.fitted {\n",
       "  color: var(--sklearn-color-text);\n",
       "  background-color: var(--sklearn-color-fitted-level-2);\n",
       "}\n",
       "\n",
       "/* Estimator label */\n",
       "\n",
       "#sk-container-id-4 div.sk-label label {\n",
       "  font-family: monospace;\n",
       "  font-weight: bold;\n",
       "  display: inline-block;\n",
       "  line-height: 1.2em;\n",
       "}\n",
       "\n",
       "#sk-container-id-4 div.sk-label-container {\n",
       "  text-align: center;\n",
       "}\n",
       "\n",
       "/* Estimator-specific */\n",
       "#sk-container-id-4 div.sk-estimator {\n",
       "  font-family: monospace;\n",
       "  border: 1px dotted var(--sklearn-color-border-box);\n",
       "  border-radius: 0.25em;\n",
       "  box-sizing: border-box;\n",
       "  margin-bottom: 0.5em;\n",
       "  /* unfitted */\n",
       "  background-color: var(--sklearn-color-unfitted-level-0);\n",
       "}\n",
       "\n",
       "#sk-container-id-4 div.sk-estimator.fitted {\n",
       "  /* fitted */\n",
       "  background-color: var(--sklearn-color-fitted-level-0);\n",
       "}\n",
       "\n",
       "/* on hover */\n",
       "#sk-container-id-4 div.sk-estimator:hover {\n",
       "  /* unfitted */\n",
       "  background-color: var(--sklearn-color-unfitted-level-2);\n",
       "}\n",
       "\n",
       "#sk-container-id-4 div.sk-estimator.fitted:hover {\n",
       "  /* fitted */\n",
       "  background-color: var(--sklearn-color-fitted-level-2);\n",
       "}\n",
       "\n",
       "/* Specification for estimator info (e.g. \"i\" and \"?\") */\n",
       "\n",
       "/* Common style for \"i\" and \"?\" */\n",
       "\n",
       ".sk-estimator-doc-link,\n",
       "a:link.sk-estimator-doc-link,\n",
       "a:visited.sk-estimator-doc-link {\n",
       "  float: right;\n",
       "  font-size: smaller;\n",
       "  line-height: 1em;\n",
       "  font-family: monospace;\n",
       "  background-color: var(--sklearn-color-background);\n",
       "  border-radius: 1em;\n",
       "  height: 1em;\n",
       "  width: 1em;\n",
       "  text-decoration: none !important;\n",
       "  margin-left: 0.5em;\n",
       "  text-align: center;\n",
       "  /* unfitted */\n",
       "  border: var(--sklearn-color-unfitted-level-1) 1pt solid;\n",
       "  color: var(--sklearn-color-unfitted-level-1);\n",
       "}\n",
       "\n",
       ".sk-estimator-doc-link.fitted,\n",
       "a:link.sk-estimator-doc-link.fitted,\n",
       "a:visited.sk-estimator-doc-link.fitted {\n",
       "  /* fitted */\n",
       "  border: var(--sklearn-color-fitted-level-1) 1pt solid;\n",
       "  color: var(--sklearn-color-fitted-level-1);\n",
       "}\n",
       "\n",
       "/* On hover */\n",
       "div.sk-estimator:hover .sk-estimator-doc-link:hover,\n",
       ".sk-estimator-doc-link:hover,\n",
       "div.sk-label-container:hover .sk-estimator-doc-link:hover,\n",
       ".sk-estimator-doc-link:hover {\n",
       "  /* unfitted */\n",
       "  background-color: var(--sklearn-color-unfitted-level-3);\n",
       "  color: var(--sklearn-color-background);\n",
       "  text-decoration: none;\n",
       "}\n",
       "\n",
       "div.sk-estimator.fitted:hover .sk-estimator-doc-link.fitted:hover,\n",
       ".sk-estimator-doc-link.fitted:hover,\n",
       "div.sk-label-container:hover .sk-estimator-doc-link.fitted:hover,\n",
       ".sk-estimator-doc-link.fitted:hover {\n",
       "  /* fitted */\n",
       "  background-color: var(--sklearn-color-fitted-level-3);\n",
       "  color: var(--sklearn-color-background);\n",
       "  text-decoration: none;\n",
       "}\n",
       "\n",
       "/* Span, style for the box shown on hovering the info icon */\n",
       ".sk-estimator-doc-link span {\n",
       "  display: none;\n",
       "  z-index: 9999;\n",
       "  position: relative;\n",
       "  font-weight: normal;\n",
       "  right: .2ex;\n",
       "  padding: .5ex;\n",
       "  margin: .5ex;\n",
       "  width: min-content;\n",
       "  min-width: 20ex;\n",
       "  max-width: 50ex;\n",
       "  color: var(--sklearn-color-text);\n",
       "  box-shadow: 2pt 2pt 4pt #999;\n",
       "  /* unfitted */\n",
       "  background: var(--sklearn-color-unfitted-level-0);\n",
       "  border: .5pt solid var(--sklearn-color-unfitted-level-3);\n",
       "}\n",
       "\n",
       ".sk-estimator-doc-link.fitted span {\n",
       "  /* fitted */\n",
       "  background: var(--sklearn-color-fitted-level-0);\n",
       "  border: var(--sklearn-color-fitted-level-3);\n",
       "}\n",
       "\n",
       ".sk-estimator-doc-link:hover span {\n",
       "  display: block;\n",
       "}\n",
       "\n",
       "/* \"?\"-specific style due to the `<a>` HTML tag */\n",
       "\n",
       "#sk-container-id-4 a.estimator_doc_link {\n",
       "  float: right;\n",
       "  font-size: 1rem;\n",
       "  line-height: 1em;\n",
       "  font-family: monospace;\n",
       "  background-color: var(--sklearn-color-background);\n",
       "  border-radius: 1rem;\n",
       "  height: 1rem;\n",
       "  width: 1rem;\n",
       "  text-decoration: none;\n",
       "  /* unfitted */\n",
       "  color: var(--sklearn-color-unfitted-level-1);\n",
       "  border: var(--sklearn-color-unfitted-level-1) 1pt solid;\n",
       "}\n",
       "\n",
       "#sk-container-id-4 a.estimator_doc_link.fitted {\n",
       "  /* fitted */\n",
       "  border: var(--sklearn-color-fitted-level-1) 1pt solid;\n",
       "  color: var(--sklearn-color-fitted-level-1);\n",
       "}\n",
       "\n",
       "/* On hover */\n",
       "#sk-container-id-4 a.estimator_doc_link:hover {\n",
       "  /* unfitted */\n",
       "  background-color: var(--sklearn-color-unfitted-level-3);\n",
       "  color: var(--sklearn-color-background);\n",
       "  text-decoration: none;\n",
       "}\n",
       "\n",
       "#sk-container-id-4 a.estimator_doc_link.fitted:hover {\n",
       "  /* fitted */\n",
       "  background-color: var(--sklearn-color-fitted-level-3);\n",
       "}\n",
       "</style><div id=\"sk-container-id-4\" class=\"sk-top-container\"><div class=\"sk-text-repr-fallback\"><pre>KNeighborsClassifier()</pre><b>In a Jupyter environment, please rerun this cell to show the HTML representation or trust the notebook. <br />On GitHub, the HTML representation is unable to render, please try loading this page with nbviewer.org.</b></div><div class=\"sk-container\" hidden><div class=\"sk-item\"><div class=\"sk-estimator fitted sk-toggleable\"><input class=\"sk-toggleable__control sk-hidden--visually\" id=\"sk-estimator-id-4\" type=\"checkbox\" checked><label for=\"sk-estimator-id-4\" class=\"sk-toggleable__label fitted sk-toggleable__label-arrow\"><div><div>KNeighborsClassifier</div></div><div><a class=\"sk-estimator-doc-link fitted\" rel=\"noreferrer\" target=\"_blank\" href=\"https://scikit-learn.org/1.6/modules/generated/sklearn.neighbors.KNeighborsClassifier.html\">?<span>Documentation for KNeighborsClassifier</span></a><span class=\"sk-estimator-doc-link fitted\">i<span>Fitted</span></span></div></label><div class=\"sk-toggleable__content fitted\"><pre>KNeighborsClassifier()</pre></div> </div></div></div></div>"
      ],
      "text/plain": [
       "KNeighborsClassifier()"
      ]
     },
     "execution_count": 40,
     "metadata": {},
     "output_type": "execute_result"
    }
   ],
   "source": [
    "knn = KNeighborsClassifier()\n",
    "knn.fit(X_train_nomr, y_train)"
   ]
  },
  {
   "cell_type": "code",
   "execution_count": 46,
   "metadata": {},
   "outputs": [
    {
     "name": "stdout",
     "output_type": "stream",
     "text": [
      "Accuracy KNN: 0.6771653543307087\n"
     ]
    }
   ],
   "source": [
    "X_test_norm = norm.transform(X_test)\n",
    "print('Accuracy KNN:' , knn.score(X_test_norm, y_test))"
   ]
  },
  {
   "cell_type": "markdown",
   "metadata": {},
   "source": [
    "#### Save models"
   ]
  },
  {
   "cell_type": "code",
   "execution_count": 49,
   "metadata": {},
   "outputs": [],
   "source": [
    "models = [one_hot, dummy, tree, knn]\n",
    "name_files = ['model_onehotenc','model_dummy', 'model_tree,','model_knn']\n",
    "for name, model in zip(name_files, models):\n",
    "    with open(name, 'wb') as file:\n",
    "        pickle.dump(models, file)"
   ]
  }
 ],
 "metadata": {
  "kernelspec": {
   "display_name": ".investiment",
   "language": "python",
   "name": "python3"
  },
  "language_info": {
   "codemirror_mode": {
    "name": "ipython",
    "version": 3
   },
   "file_extension": ".py",
   "mimetype": "text/x-python",
   "name": "python",
   "nbconvert_exporter": "python",
   "pygments_lexer": "ipython3",
   "version": "3.13.2"
  }
 },
 "nbformat": 4,
 "nbformat_minor": 2
}
